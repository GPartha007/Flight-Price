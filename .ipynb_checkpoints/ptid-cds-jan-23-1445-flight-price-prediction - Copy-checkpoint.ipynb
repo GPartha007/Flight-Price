{
 "cells": [
  {
   "cell_type": "markdown",
   "metadata": {},
   "source": [
    "## Libraries we needed : "
   ]
  },
  {
   "cell_type": "code",
   "execution_count": 1,
   "metadata": {
    "execution": {
     "iopub.execute_input": "2023-01-28T13:02:13.722949Z",
     "iopub.status.busy": "2023-01-28T13:02:13.722506Z",
     "iopub.status.idle": "2023-01-28T13:02:13.918285Z",
     "shell.execute_reply": "2023-01-28T13:02:13.916387Z",
     "shell.execute_reply.started": "2023-01-28T13:02:13.722917Z"
    }
   },
   "outputs": [],
   "source": [
    "#------------Basic Libraies------------------\n",
    "import numpy as np, pandas as pd \n",
    "import matplotlib.pyplot as plt, seaborn as sns\n",
    "import warnings\n",
    "from sklearn import set_config\n",
    "\n",
    "#-------------Some necessary configurations-----------------\n",
    "warnings.filterwarnings(\"ignore\")\n",
    "%matplotlib inline\n",
    "set_config(display = \"diagram\")\n",
    "pd.set_option(\"display.max_columns\", None)\n",
    "sns.set()"
   ]
  },
  {
   "cell_type": "markdown",
   "metadata": {},
   "source": [
    "## Converting the dataset into pandas DataFrame"
   ]
  },
  {
   "cell_type": "code",
   "execution_count": 3,
   "metadata": {
    "_cell_guid": "b1076dfc-b9ad-4769-8c92-a6c4dae69d19",
    "_uuid": "8f2839f25d086af736a60e9eeb907d3b93b6e0e5",
    "execution": {
     "iopub.execute_input": "2023-01-27T12:26:34.379846Z",
     "iopub.status.busy": "2023-01-27T12:26:34.379342Z",
     "iopub.status.idle": "2023-01-27T12:26:34.403379Z",
     "shell.execute_reply": "2023-01-27T12:26:34.401776Z",
     "shell.execute_reply.started": "2023-01-27T12:26:34.379805Z"
    }
   },
   "outputs": [
    {
     "name": "stdout",
     "output_type": "stream",
     "text": [
      "/kaggle/input/flight-pred/Flight_Fare.xlsx\n"
     ]
    }
   ],
   "source": [
    "#------------Fetching the file from the directory----------------------\n",
    "import os\n",
    "for dirname, _, filenames in os.walk('/kaggle/input'):\n",
    "    for filename in filenames:\n",
    "        print(os.path.join(dirname, filename))"
   ]
  },
  {
   "cell_type": "code",
   "execution_count": 2,
   "metadata": {
    "execution": {
     "iopub.execute_input": "2023-01-27T12:26:37.788786Z",
     "iopub.status.busy": "2023-01-27T12:26:37.787703Z",
     "iopub.status.idle": "2023-01-27T12:26:40.154938Z",
     "shell.execute_reply": "2023-01-27T12:26:40.153615Z",
     "shell.execute_reply.started": "2023-01-27T12:26:37.788747Z"
    }
   },
   "outputs": [],
   "source": [
    "df = pd.read_excel(\"Flight_Fare.xlsx\")"
   ]
  },
  {
   "cell_type": "code",
   "execution_count": 3,
   "metadata": {
    "execution": {
     "iopub.execute_input": "2023-01-27T09:52:46.784868Z",
     "iopub.status.busy": "2023-01-27T09:52:46.784169Z",
     "iopub.status.idle": "2023-01-27T09:52:46.791567Z",
     "shell.execute_reply": "2023-01-27T09:52:46.790201Z",
     "shell.execute_reply.started": "2023-01-27T09:52:46.784829Z"
    }
   },
   "outputs": [
    {
     "name": "stdout",
     "output_type": "stream",
     "text": [
      "Columns : \n",
      "['Airline', 'Date_of_Journey', 'Source', 'Destination', 'Route', 'Dep_Time', 'Arrival_Time', 'Duration', 'Total_Stops', 'Additional_Info', 'Price']\n",
      "Total Columns : 11\n"
     ]
    }
   ],
   "source": [
    "print(f\"Columns : \\n{list(df.columns)}\")\n",
    "print(f\"Total Columns : {len(list(df.columns))}\")"
   ]
  },
  {
   "cell_type": "markdown",
   "metadata": {},
   "source": [
    "### Columns of the dataset :\n",
    "1.\t__Airline:__ So this column will have all the types of airlines like Indigo, Jet Airways, Air India, and many more.\n",
    "2.\t__Date_of_Journey:__ This column will let us know about the date on which the passenger’s journey will start.\n",
    "3.\t__Source:__ This column holds the name of the place from where the passenger’s journey will start.\n",
    "4.\t__Destination:__ This column holds the name of the place to where passengers wanted to travel.\n",
    "5.\t__Route:__ Here we can know about what the route is through which passengers have opted to travel from his/her source to their destination.\n",
    "6. __Dep_Time:__ Departure time is when the passenger will leave from his/her destination.\n",
    "7.\t__Arrival_Time:__ Arrival time is when the passenger will reach his/her destination.\n",
    "8.\t__Duration:__ Duration is the whole period that a flight will take to complete its journey from source to destination.\n",
    "9.\t__Total_Stops:__ This will let us know in how many places flights will stop there for the flight in the whole journey.\n",
    "10.\t__Additional_Info:__ In this column, we will get information about food, kind of food, and other amenities.\n",
    "11.\t__Price:__ Price of the flight for a complete journey including all the expenses before onboarding."
   ]
  },
  {
   "cell_type": "markdown",
   "metadata": {},
   "source": [
    "--------------------------\n",
    "### Basic Checks :"
   ]
  },
  {
   "cell_type": "markdown",
   "metadata": {},
   "source": [
    "#### Shape of the dataset :"
   ]
  },
  {
   "cell_type": "code",
   "execution_count": 9,
   "metadata": {
    "execution": {
     "iopub.execute_input": "2023-01-27T09:54:57.931313Z",
     "iopub.status.busy": "2023-01-27T09:54:57.930804Z",
     "iopub.status.idle": "2023-01-27T09:54:57.938640Z",
     "shell.execute_reply": "2023-01-27T09:54:57.937573Z",
     "shell.execute_reply.started": "2023-01-27T09:54:57.931277Z"
    }
   },
   "outputs": [
    {
     "name": "stdout",
     "output_type": "stream",
     "text": [
      "Rows : 10683\n",
      "Columns : 11\n"
     ]
    }
   ],
   "source": [
    "print(f\"Rows : {df.shape[0]}\\nColumns : {df.shape[1]}\")"
   ]
  },
  {
   "cell_type": "markdown",
   "metadata": {},
   "source": [
    "#### First 5 rows :"
   ]
  },
  {
   "cell_type": "code",
   "execution_count": 10,
   "metadata": {
    "execution": {
     "iopub.execute_input": "2023-01-27T09:55:21.547936Z",
     "iopub.status.busy": "2023-01-27T09:55:21.547413Z",
     "iopub.status.idle": "2023-01-27T09:55:21.578768Z",
     "shell.execute_reply": "2023-01-27T09:55:21.577539Z",
     "shell.execute_reply.started": "2023-01-27T09:55:21.547900Z"
    }
   },
   "outputs": [
    {
     "data": {
      "text/html": [
       "<div>\n",
       "<style scoped>\n",
       "    .dataframe tbody tr th:only-of-type {\n",
       "        vertical-align: middle;\n",
       "    }\n",
       "\n",
       "    .dataframe tbody tr th {\n",
       "        vertical-align: top;\n",
       "    }\n",
       "\n",
       "    .dataframe thead th {\n",
       "        text-align: right;\n",
       "    }\n",
       "</style>\n",
       "<table border=\"1\" class=\"dataframe\">\n",
       "  <thead>\n",
       "    <tr style=\"text-align: right;\">\n",
       "      <th></th>\n",
       "      <th>Airline</th>\n",
       "      <th>Date_of_Journey</th>\n",
       "      <th>Source</th>\n",
       "      <th>Destination</th>\n",
       "      <th>Route</th>\n",
       "      <th>Dep_Time</th>\n",
       "      <th>Arrival_Time</th>\n",
       "      <th>Duration</th>\n",
       "      <th>Total_Stops</th>\n",
       "      <th>Additional_Info</th>\n",
       "      <th>Price</th>\n",
       "    </tr>\n",
       "  </thead>\n",
       "  <tbody>\n",
       "    <tr>\n",
       "      <th>0</th>\n",
       "      <td>IndiGo</td>\n",
       "      <td>24/03/2019</td>\n",
       "      <td>Banglore</td>\n",
       "      <td>New Delhi</td>\n",
       "      <td>BLR → DEL</td>\n",
       "      <td>22:20</td>\n",
       "      <td>01:10 22 Mar</td>\n",
       "      <td>2h 50m</td>\n",
       "      <td>non-stop</td>\n",
       "      <td>No info</td>\n",
       "      <td>3897</td>\n",
       "    </tr>\n",
       "    <tr>\n",
       "      <th>1</th>\n",
       "      <td>Air India</td>\n",
       "      <td>1/05/2019</td>\n",
       "      <td>Kolkata</td>\n",
       "      <td>Banglore</td>\n",
       "      <td>CCU → IXR → BBI → BLR</td>\n",
       "      <td>05:50</td>\n",
       "      <td>13:15</td>\n",
       "      <td>7h 25m</td>\n",
       "      <td>2 stops</td>\n",
       "      <td>No info</td>\n",
       "      <td>7662</td>\n",
       "    </tr>\n",
       "    <tr>\n",
       "      <th>2</th>\n",
       "      <td>Jet Airways</td>\n",
       "      <td>9/06/2019</td>\n",
       "      <td>Delhi</td>\n",
       "      <td>Cochin</td>\n",
       "      <td>DEL → LKO → BOM → COK</td>\n",
       "      <td>09:25</td>\n",
       "      <td>04:25 10 Jun</td>\n",
       "      <td>19h</td>\n",
       "      <td>2 stops</td>\n",
       "      <td>No info</td>\n",
       "      <td>13882</td>\n",
       "    </tr>\n",
       "    <tr>\n",
       "      <th>3</th>\n",
       "      <td>IndiGo</td>\n",
       "      <td>12/05/2019</td>\n",
       "      <td>Kolkata</td>\n",
       "      <td>Banglore</td>\n",
       "      <td>CCU → NAG → BLR</td>\n",
       "      <td>18:05</td>\n",
       "      <td>23:30</td>\n",
       "      <td>5h 25m</td>\n",
       "      <td>1 stop</td>\n",
       "      <td>No info</td>\n",
       "      <td>6218</td>\n",
       "    </tr>\n",
       "    <tr>\n",
       "      <th>4</th>\n",
       "      <td>IndiGo</td>\n",
       "      <td>01/03/2019</td>\n",
       "      <td>Banglore</td>\n",
       "      <td>New Delhi</td>\n",
       "      <td>BLR → NAG → DEL</td>\n",
       "      <td>16:50</td>\n",
       "      <td>21:35</td>\n",
       "      <td>4h 45m</td>\n",
       "      <td>1 stop</td>\n",
       "      <td>No info</td>\n",
       "      <td>13302</td>\n",
       "    </tr>\n",
       "  </tbody>\n",
       "</table>\n",
       "</div>"
      ],
      "text/plain": [
       "       Airline Date_of_Journey    Source Destination                  Route  \\\n",
       "0       IndiGo      24/03/2019  Banglore   New Delhi              BLR → DEL   \n",
       "1    Air India       1/05/2019   Kolkata    Banglore  CCU → IXR → BBI → BLR   \n",
       "2  Jet Airways       9/06/2019     Delhi      Cochin  DEL → LKO → BOM → COK   \n",
       "3       IndiGo      12/05/2019   Kolkata    Banglore        CCU → NAG → BLR   \n",
       "4       IndiGo      01/03/2019  Banglore   New Delhi        BLR → NAG → DEL   \n",
       "\n",
       "  Dep_Time  Arrival_Time Duration Total_Stops Additional_Info  Price  \n",
       "0    22:20  01:10 22 Mar   2h 50m    non-stop         No info   3897  \n",
       "1    05:50         13:15   7h 25m     2 stops         No info   7662  \n",
       "2    09:25  04:25 10 Jun      19h     2 stops         No info  13882  \n",
       "3    18:05         23:30   5h 25m      1 stop         No info   6218  \n",
       "4    16:50         21:35   4h 45m      1 stop         No info  13302  "
      ]
     },
     "execution_count": 10,
     "metadata": {},
     "output_type": "execute_result"
    }
   ],
   "source": [
    "df.head()"
   ]
  },
  {
   "cell_type": "markdown",
   "metadata": {},
   "source": [
    "#### Last 5 rows :"
   ]
  },
  {
   "cell_type": "code",
   "execution_count": 11,
   "metadata": {
    "execution": {
     "iopub.execute_input": "2023-01-27T09:55:47.701414Z",
     "iopub.status.busy": "2023-01-27T09:55:47.700974Z",
     "iopub.status.idle": "2023-01-27T09:55:47.721519Z",
     "shell.execute_reply": "2023-01-27T09:55:47.720157Z",
     "shell.execute_reply.started": "2023-01-27T09:55:47.701383Z"
    }
   },
   "outputs": [
    {
     "data": {
      "text/html": [
       "<div>\n",
       "<style scoped>\n",
       "    .dataframe tbody tr th:only-of-type {\n",
       "        vertical-align: middle;\n",
       "    }\n",
       "\n",
       "    .dataframe tbody tr th {\n",
       "        vertical-align: top;\n",
       "    }\n",
       "\n",
       "    .dataframe thead th {\n",
       "        text-align: right;\n",
       "    }\n",
       "</style>\n",
       "<table border=\"1\" class=\"dataframe\">\n",
       "  <thead>\n",
       "    <tr style=\"text-align: right;\">\n",
       "      <th></th>\n",
       "      <th>Airline</th>\n",
       "      <th>Date_of_Journey</th>\n",
       "      <th>Source</th>\n",
       "      <th>Destination</th>\n",
       "      <th>Route</th>\n",
       "      <th>Dep_Time</th>\n",
       "      <th>Arrival_Time</th>\n",
       "      <th>Duration</th>\n",
       "      <th>Total_Stops</th>\n",
       "      <th>Additional_Info</th>\n",
       "      <th>Price</th>\n",
       "    </tr>\n",
       "  </thead>\n",
       "  <tbody>\n",
       "    <tr>\n",
       "      <th>10678</th>\n",
       "      <td>Air Asia</td>\n",
       "      <td>9/04/2019</td>\n",
       "      <td>Kolkata</td>\n",
       "      <td>Banglore</td>\n",
       "      <td>CCU → BLR</td>\n",
       "      <td>19:55</td>\n",
       "      <td>22:25</td>\n",
       "      <td>2h 30m</td>\n",
       "      <td>non-stop</td>\n",
       "      <td>No info</td>\n",
       "      <td>4107</td>\n",
       "    </tr>\n",
       "    <tr>\n",
       "      <th>10679</th>\n",
       "      <td>Air India</td>\n",
       "      <td>27/04/2019</td>\n",
       "      <td>Kolkata</td>\n",
       "      <td>Banglore</td>\n",
       "      <td>CCU → BLR</td>\n",
       "      <td>20:45</td>\n",
       "      <td>23:20</td>\n",
       "      <td>2h 35m</td>\n",
       "      <td>non-stop</td>\n",
       "      <td>No info</td>\n",
       "      <td>4145</td>\n",
       "    </tr>\n",
       "    <tr>\n",
       "      <th>10680</th>\n",
       "      <td>Jet Airways</td>\n",
       "      <td>27/04/2019</td>\n",
       "      <td>Banglore</td>\n",
       "      <td>Delhi</td>\n",
       "      <td>BLR → DEL</td>\n",
       "      <td>08:20</td>\n",
       "      <td>11:20</td>\n",
       "      <td>3h</td>\n",
       "      <td>non-stop</td>\n",
       "      <td>No info</td>\n",
       "      <td>7229</td>\n",
       "    </tr>\n",
       "    <tr>\n",
       "      <th>10681</th>\n",
       "      <td>Vistara</td>\n",
       "      <td>01/03/2019</td>\n",
       "      <td>Banglore</td>\n",
       "      <td>New Delhi</td>\n",
       "      <td>BLR → DEL</td>\n",
       "      <td>11:30</td>\n",
       "      <td>14:10</td>\n",
       "      <td>2h 40m</td>\n",
       "      <td>non-stop</td>\n",
       "      <td>No info</td>\n",
       "      <td>12648</td>\n",
       "    </tr>\n",
       "    <tr>\n",
       "      <th>10682</th>\n",
       "      <td>Air India</td>\n",
       "      <td>9/05/2019</td>\n",
       "      <td>Delhi</td>\n",
       "      <td>Cochin</td>\n",
       "      <td>DEL → GOI → BOM → COK</td>\n",
       "      <td>10:55</td>\n",
       "      <td>19:15</td>\n",
       "      <td>8h 20m</td>\n",
       "      <td>2 stops</td>\n",
       "      <td>No info</td>\n",
       "      <td>11753</td>\n",
       "    </tr>\n",
       "  </tbody>\n",
       "</table>\n",
       "</div>"
      ],
      "text/plain": [
       "           Airline Date_of_Journey    Source Destination  \\\n",
       "10678     Air Asia       9/04/2019   Kolkata    Banglore   \n",
       "10679    Air India      27/04/2019   Kolkata    Banglore   \n",
       "10680  Jet Airways      27/04/2019  Banglore       Delhi   \n",
       "10681      Vistara      01/03/2019  Banglore   New Delhi   \n",
       "10682    Air India       9/05/2019     Delhi      Cochin   \n",
       "\n",
       "                       Route Dep_Time Arrival_Time Duration Total_Stops  \\\n",
       "10678              CCU → BLR    19:55        22:25   2h 30m    non-stop   \n",
       "10679              CCU → BLR    20:45        23:20   2h 35m    non-stop   \n",
       "10680              BLR → DEL    08:20        11:20       3h    non-stop   \n",
       "10681              BLR → DEL    11:30        14:10   2h 40m    non-stop   \n",
       "10682  DEL → GOI → BOM → COK    10:55        19:15   8h 20m     2 stops   \n",
       "\n",
       "      Additional_Info  Price  \n",
       "10678         No info   4107  \n",
       "10679         No info   4145  \n",
       "10680         No info   7229  \n",
       "10681         No info  12648  \n",
       "10682         No info  11753  "
      ]
     },
     "execution_count": 11,
     "metadata": {},
     "output_type": "execute_result"
    }
   ],
   "source": [
    "df.tail()"
   ]
  },
  {
   "cell_type": "markdown",
   "metadata": {},
   "source": [
    "#### Information of the dataset :"
   ]
  },
  {
   "cell_type": "code",
   "execution_count": 12,
   "metadata": {
    "execution": {
     "iopub.execute_input": "2023-01-27T09:56:30.947670Z",
     "iopub.status.busy": "2023-01-27T09:56:30.946240Z",
     "iopub.status.idle": "2023-01-27T09:56:30.984290Z",
     "shell.execute_reply": "2023-01-27T09:56:30.982652Z",
     "shell.execute_reply.started": "2023-01-27T09:56:30.947621Z"
    }
   },
   "outputs": [
    {
     "name": "stdout",
     "output_type": "stream",
     "text": [
      "<class 'pandas.core.frame.DataFrame'>\n",
      "RangeIndex: 10683 entries, 0 to 10682\n",
      "Data columns (total 11 columns):\n",
      " #   Column           Non-Null Count  Dtype \n",
      "---  ------           --------------  ----- \n",
      " 0   Airline          10683 non-null  object\n",
      " 1   Date_of_Journey  10683 non-null  object\n",
      " 2   Source           10683 non-null  object\n",
      " 3   Destination      10683 non-null  object\n",
      " 4   Route            10682 non-null  object\n",
      " 5   Dep_Time         10683 non-null  object\n",
      " 6   Arrival_Time     10683 non-null  object\n",
      " 7   Duration         10683 non-null  object\n",
      " 8   Total_Stops      10682 non-null  object\n",
      " 9   Additional_Info  10683 non-null  object\n",
      " 10  Price            10683 non-null  int64 \n",
      "dtypes: int64(1), object(10)\n",
      "memory usage: 918.2+ KB\n"
     ]
    }
   ],
   "source": [
    "df.info()"
   ]
  },
  {
   "cell_type": "markdown",
   "metadata": {},
   "source": [
    "#### Statistical Descriptions of numerical columns (here we have Price) :"
   ]
  },
  {
   "cell_type": "code",
   "execution_count": 13,
   "metadata": {
    "execution": {
     "iopub.execute_input": "2023-01-27T09:57:04.546575Z",
     "iopub.status.busy": "2023-01-27T09:57:04.546112Z",
     "iopub.status.idle": "2023-01-27T09:57:04.572633Z",
     "shell.execute_reply": "2023-01-27T09:57:04.571416Z",
     "shell.execute_reply.started": "2023-01-27T09:57:04.546537Z"
    }
   },
   "outputs": [
    {
     "data": {
      "text/html": [
       "<div>\n",
       "<style scoped>\n",
       "    .dataframe tbody tr th:only-of-type {\n",
       "        vertical-align: middle;\n",
       "    }\n",
       "\n",
       "    .dataframe tbody tr th {\n",
       "        vertical-align: top;\n",
       "    }\n",
       "\n",
       "    .dataframe thead th {\n",
       "        text-align: right;\n",
       "    }\n",
       "</style>\n",
       "<table border=\"1\" class=\"dataframe\">\n",
       "  <thead>\n",
       "    <tr style=\"text-align: right;\">\n",
       "      <th></th>\n",
       "      <th>count</th>\n",
       "      <th>mean</th>\n",
       "      <th>std</th>\n",
       "      <th>min</th>\n",
       "      <th>25%</th>\n",
       "      <th>50%</th>\n",
       "      <th>75%</th>\n",
       "      <th>max</th>\n",
       "    </tr>\n",
       "  </thead>\n",
       "  <tbody>\n",
       "    <tr>\n",
       "      <th>Price</th>\n",
       "      <td>10683.0</td>\n",
       "      <td>9087.064121</td>\n",
       "      <td>4611.359167</td>\n",
       "      <td>1759.0</td>\n",
       "      <td>5277.0</td>\n",
       "      <td>8372.0</td>\n",
       "      <td>12373.0</td>\n",
       "      <td>79512.0</td>\n",
       "    </tr>\n",
       "  </tbody>\n",
       "</table>\n",
       "</div>"
      ],
      "text/plain": [
       "         count         mean          std     min     25%     50%      75%  \\\n",
       "Price  10683.0  9087.064121  4611.359167  1759.0  5277.0  8372.0  12373.0   \n",
       "\n",
       "           max  \n",
       "Price  79512.0  "
      ]
     },
     "execution_count": 13,
     "metadata": {},
     "output_type": "execute_result"
    }
   ],
   "source": [
    "df.describe().T"
   ]
  },
  {
   "cell_type": "markdown",
   "metadata": {},
   "source": [
    "#### Checking of missing values :"
   ]
  },
  {
   "cell_type": "code",
   "execution_count": 14,
   "metadata": {
    "execution": {
     "iopub.execute_input": "2023-01-27T10:14:51.283513Z",
     "iopub.status.busy": "2023-01-27T10:14:51.282871Z",
     "iopub.status.idle": "2023-01-27T10:14:51.301840Z",
     "shell.execute_reply": "2023-01-27T10:14:51.300421Z",
     "shell.execute_reply.started": "2023-01-27T10:14:51.283448Z"
    }
   },
   "outputs": [
    {
     "data": {
      "text/plain": [
       "Airline            0\n",
       "Date_of_Journey    0\n",
       "Source             0\n",
       "Destination        0\n",
       "Route              1\n",
       "Dep_Time           0\n",
       "Arrival_Time       0\n",
       "Duration           0\n",
       "Total_Stops        1\n",
       "Additional_Info    0\n",
       "Price              0\n",
       "dtype: int64"
      ]
     },
     "execution_count": 14,
     "metadata": {},
     "output_type": "execute_result"
    }
   ],
   "source": [
    "df.isnull().sum()"
   ]
  },
  {
   "cell_type": "code",
   "execution_count": 15,
   "metadata": {
    "execution": {
     "iopub.execute_input": "2023-01-27T10:15:00.431391Z",
     "iopub.status.busy": "2023-01-27T10:15:00.430908Z",
     "iopub.status.idle": "2023-01-27T10:15:00.450934Z",
     "shell.execute_reply": "2023-01-27T10:15:00.449475Z",
     "shell.execute_reply.started": "2023-01-27T10:15:00.431355Z"
    }
   },
   "outputs": [
    {
     "data": {
      "text/html": [
       "<div>\n",
       "<style scoped>\n",
       "    .dataframe tbody tr th:only-of-type {\n",
       "        vertical-align: middle;\n",
       "    }\n",
       "\n",
       "    .dataframe tbody tr th {\n",
       "        vertical-align: top;\n",
       "    }\n",
       "\n",
       "    .dataframe thead th {\n",
       "        text-align: right;\n",
       "    }\n",
       "</style>\n",
       "<table border=\"1\" class=\"dataframe\">\n",
       "  <thead>\n",
       "    <tr style=\"text-align: right;\">\n",
       "      <th></th>\n",
       "      <th>Airline</th>\n",
       "      <th>Date_of_Journey</th>\n",
       "      <th>Source</th>\n",
       "      <th>Destination</th>\n",
       "      <th>Route</th>\n",
       "      <th>Dep_Time</th>\n",
       "      <th>Arrival_Time</th>\n",
       "      <th>Duration</th>\n",
       "      <th>Total_Stops</th>\n",
       "      <th>Additional_Info</th>\n",
       "      <th>Price</th>\n",
       "    </tr>\n",
       "  </thead>\n",
       "  <tbody>\n",
       "    <tr>\n",
       "      <th>9039</th>\n",
       "      <td>Air India</td>\n",
       "      <td>6/05/2019</td>\n",
       "      <td>Delhi</td>\n",
       "      <td>Cochin</td>\n",
       "      <td>NaN</td>\n",
       "      <td>09:45</td>\n",
       "      <td>09:25 07 May</td>\n",
       "      <td>23h 40m</td>\n",
       "      <td>NaN</td>\n",
       "      <td>No info</td>\n",
       "      <td>7480</td>\n",
       "    </tr>\n",
       "  </tbody>\n",
       "</table>\n",
       "</div>"
      ],
      "text/plain": [
       "        Airline Date_of_Journey Source Destination Route Dep_Time  \\\n",
       "9039  Air India       6/05/2019  Delhi      Cochin   NaN    09:45   \n",
       "\n",
       "      Arrival_Time Duration Total_Stops Additional_Info  Price  \n",
       "9039  09:25 07 May  23h 40m         NaN         No info   7480  "
      ]
     },
     "execution_count": 15,
     "metadata": {},
     "output_type": "execute_result"
    }
   ],
   "source": [
    "df.loc[df[\"Route\"].isnull()]"
   ]
  },
  {
   "cell_type": "markdown",
   "metadata": {},
   "source": [
    "__Insight :__ Our dataset has 2 missing values in the \"Route\" and \"Total_Stops\" columns which is in row of index __9039__"
   ]
  },
  {
   "cell_type": "markdown",
   "metadata": {},
   "source": [
    "#### Datatypes of the columns :"
   ]
  },
  {
   "cell_type": "code",
   "execution_count": 16,
   "metadata": {
    "execution": {
     "iopub.execute_input": "2023-01-27T10:19:11.543270Z",
     "iopub.status.busy": "2023-01-27T10:19:11.542600Z",
     "iopub.status.idle": "2023-01-27T10:19:11.553075Z",
     "shell.execute_reply": "2023-01-27T10:19:11.551378Z",
     "shell.execute_reply.started": "2023-01-27T10:19:11.543217Z"
    }
   },
   "outputs": [
    {
     "name": "stdout",
     "output_type": "stream",
     "text": [
      "Airline : object\n",
      "Date_of_Journey : object\n",
      "Source : object\n",
      "Destination : object\n",
      "Route : object\n",
      "Dep_Time : object\n",
      "Arrival_Time : object\n",
      "Duration : object\n",
      "Total_Stops : object\n",
      "Additional_Info : object\n",
      "Price : int64\n"
     ]
    }
   ],
   "source": [
    "for x in df.columns:\n",
    "    print(f\"{x} : {df[x].dtypes}\")"
   ]
  },
  {
   "cell_type": "markdown",
   "metadata": {},
   "source": [
    "### Data preprocessing"
   ]
  },
  {
   "cell_type": "markdown",
   "metadata": {},
   "source": [
    "__Tasks :__<br>\n",
    "1. Handling missing values.\n",
    "1. Create new columns for journey day and month.\n",
    "1. Create new columns for Departure hour and minute.\n",
    "1. Create new columns for Arrival hour and minute.\n",
    "1. Create new columns for Duration hour and minute."
   ]
  },
  {
   "cell_type": "code",
   "execution_count": 6,
   "metadata": {
    "execution": {
     "iopub.execute_input": "2023-01-27T12:26:52.081508Z",
     "iopub.status.busy": "2023-01-27T12:26:52.080972Z",
     "iopub.status.idle": "2023-01-27T12:26:52.089403Z",
     "shell.execute_reply": "2023-01-27T12:26:52.087957Z",
     "shell.execute_reply.started": "2023-01-27T12:26:52.081453Z"
    }
   },
   "outputs": [],
   "source": [
    "## Creating a copy of actual dataset \"df\"\n",
    "\n",
    "df_new = df.copy()"
   ]
  },
  {
   "cell_type": "markdown",
   "metadata": {},
   "source": [
    "__1. Handling missing values :__"
   ]
  },
  {
   "cell_type": "code",
   "execution_count": 7,
   "metadata": {
    "execution": {
     "iopub.execute_input": "2023-01-27T12:26:54.747317Z",
     "iopub.status.busy": "2023-01-27T12:26:54.746127Z",
     "iopub.status.idle": "2023-01-27T12:26:54.769274Z",
     "shell.execute_reply": "2023-01-27T12:26:54.767629Z",
     "shell.execute_reply.started": "2023-01-27T12:26:54.747208Z"
    }
   },
   "outputs": [],
   "source": [
    "# Since dataset has only one row having missing values, hence we drop it\n",
    "df_new.drop(df_new.loc[df_new[\"Route\"].isnull()].index[0], axis = 0, inplace = True)"
   ]
  },
  {
   "cell_type": "markdown",
   "metadata": {},
   "source": [
    "__2. Creating new columns for journey_day and journey_month :__"
   ]
  },
  {
   "cell_type": "code",
   "execution_count": 8,
   "metadata": {
    "execution": {
     "iopub.execute_input": "2023-01-27T12:26:57.606467Z",
     "iopub.status.busy": "2023-01-27T12:26:57.605421Z",
     "iopub.status.idle": "2023-01-27T12:26:57.636490Z",
     "shell.execute_reply": "2023-01-27T12:26:57.634530Z",
     "shell.execute_reply.started": "2023-01-27T12:26:57.606408Z"
    }
   },
   "outputs": [],
   "source": [
    "df_new[\"Journey_day\"] = pd.to_datetime(df_new[\"Date_of_Journey\"], format='%d/%m/%Y').dt.day\n",
    "df_new[\"Journey_month\"] = pd.to_datetime(df_new[\"Date_of_Journey\"], format='%d/%m/%Y').dt.month\n",
    "\n",
    "df_new.drop(\"Date_of_Journey\", axis = 1, inplace = True) # dropping the Date_of_Journey feature"
   ]
  },
  {
   "cell_type": "markdown",
   "metadata": {},
   "source": [
    "__3. Create new columns for Departure hour and minute :__"
   ]
  },
  {
   "cell_type": "code",
   "execution_count": 9,
   "metadata": {
    "execution": {
     "iopub.execute_input": "2023-01-27T12:27:00.179524Z",
     "iopub.status.busy": "2023-01-27T12:27:00.179040Z",
     "iopub.status.idle": "2023-01-27T12:27:00.223369Z",
     "shell.execute_reply": "2023-01-27T12:27:00.222054Z",
     "shell.execute_reply.started": "2023-01-27T12:27:00.179482Z"
    }
   },
   "outputs": [],
   "source": [
    "df_new[\"Dep_hour\"] = pd.to_datetime(df_new[\"Dep_Time\"]).dt.hour\n",
    "df_new[\"Dep_minute\"] = pd.to_datetime(df_new[\"Dep_Time\"]).dt.minute\n",
    "\n",
    "df_new.drop(\"Dep_Time\", axis = 1, inplace = True) # dropping the Dep_Time feature"
   ]
  },
  {
   "cell_type": "markdown",
   "metadata": {},
   "source": [
    "__4. Create new columns for Arrival hour and minute :__"
   ]
  },
  {
   "cell_type": "code",
   "execution_count": 10,
   "metadata": {
    "execution": {
     "iopub.execute_input": "2023-01-27T12:27:02.868474Z",
     "iopub.status.busy": "2023-01-27T12:27:02.867784Z",
     "iopub.status.idle": "2023-01-27T12:27:03.106274Z",
     "shell.execute_reply": "2023-01-27T12:27:03.105144Z",
     "shell.execute_reply.started": "2023-01-27T12:27:02.868434Z"
    }
   },
   "outputs": [],
   "source": [
    "df_new[\"Arrival_hour\"] = pd.to_datetime(df_new[\"Arrival_Time\"]).dt.hour\n",
    "df_new[\"Arrival_minute\"] = pd.to_datetime(df_new[\"Arrival_Time\"]).dt.minute\n",
    "\n",
    "df_new.drop(\"Arrival_Time\", axis = 1, inplace = True) # dropping the Arrival_Time feature"
   ]
  },
  {
   "cell_type": "markdown",
   "metadata": {},
   "source": [
    "__5. Create new columns for Duration hour and minute :__"
   ]
  },
  {
   "cell_type": "code",
   "execution_count": 11,
   "metadata": {
    "execution": {
     "iopub.execute_input": "2023-01-27T12:27:05.563248Z",
     "iopub.status.busy": "2023-01-27T12:27:05.562533Z",
     "iopub.status.idle": "2023-01-27T12:27:05.667541Z",
     "shell.execute_reply": "2023-01-27T12:27:05.666148Z",
     "shell.execute_reply.started": "2023-01-27T12:27:05.563203Z"
    }
   },
   "outputs": [],
   "source": [
    "## Appending each splitted elements in a list \n",
    "dur_var = []\n",
    "\n",
    "for x in df_new.index:\n",
    "    dur_var.append(df_new[\"Duration\"][x].split())"
   ]
  },
  {
   "cell_type": "code",
   "execution_count": 24,
   "metadata": {
    "execution": {
     "iopub.execute_input": "2023-01-27T10:30:35.166096Z",
     "iopub.status.busy": "2023-01-27T10:30:35.165648Z",
     "iopub.status.idle": "2023-01-27T10:30:35.172969Z",
     "shell.execute_reply": "2023-01-27T10:30:35.171623Z",
     "shell.execute_reply.started": "2023-01-27T10:30:35.166063Z"
    }
   },
   "outputs": [
    {
     "name": "stdout",
     "output_type": "stream",
     "text": [
      "['2h', '50m']\n",
      "['7h', '25m']\n",
      "['19h']\n"
     ]
    }
   ],
   "source": [
    "print(dur_var[0])\n",
    "print(dur_var[1])\n",
    "print(dur_var[2])"
   ]
  },
  {
   "cell_type": "code",
   "execution_count": 12,
   "metadata": {
    "execution": {
     "iopub.execute_input": "2023-01-27T12:27:07.918802Z",
     "iopub.status.busy": "2023-01-27T12:27:07.918378Z",
     "iopub.status.idle": "2023-01-27T12:27:07.948628Z",
     "shell.execute_reply": "2023-01-27T12:27:07.947182Z",
     "shell.execute_reply.started": "2023-01-27T12:27:07.918770Z"
    }
   },
   "outputs": [],
   "source": [
    "dur_hour = []\n",
    "dur_min = []\n",
    "\n",
    "for i in dur_var:\n",
    "    if len(i) == 2:\n",
    "        dur_hour.append(int(i[0][:-1]))\n",
    "        dur_min.append(int(i[1][:-1]))\n",
    "    elif len(i) == 1:\n",
    "        dur_hour.append(int(i[0][:-1]))\n",
    "        dur_min.append(0)\n",
    "        \n",
    "df_new[\"Duration_hour\"] = dur_hour\n",
    "df_new[\"Duration_min\"] = dur_min"
   ]
  },
  {
   "cell_type": "code",
   "execution_count": 13,
   "metadata": {
    "execution": {
     "iopub.execute_input": "2023-01-27T12:27:10.832257Z",
     "iopub.status.busy": "2023-01-27T12:27:10.831817Z",
     "iopub.status.idle": "2023-01-27T12:27:10.842550Z",
     "shell.execute_reply": "2023-01-27T12:27:10.841308Z",
     "shell.execute_reply.started": "2023-01-27T12:27:10.832212Z"
    }
   },
   "outputs": [],
   "source": [
    "df_new.drop(columns = [\"Duration\"], inplace = True)"
   ]
  },
  {
   "cell_type": "markdown",
   "metadata": {},
   "source": [
    "__Dropping Route and Additional_info fetaures :__<br>\n",
    "- \"Route\" and \"Total_stops\" provides same informations\n",
    "- \"Additional_info\" has 8344 data as \"No Info\", which is 78.11% of the whole data"
   ]
  },
  {
   "cell_type": "code",
   "execution_count": 14,
   "metadata": {
    "execution": {
     "iopub.execute_input": "2023-01-27T12:27:14.279471Z",
     "iopub.status.busy": "2023-01-27T12:27:14.279060Z",
     "iopub.status.idle": "2023-01-27T12:27:14.289028Z",
     "shell.execute_reply": "2023-01-27T12:27:14.286412Z",
     "shell.execute_reply.started": "2023-01-27T12:27:14.279438Z"
    }
   },
   "outputs": [],
   "source": [
    "df_new.drop([\"Route\", \"Additional_Info\"], axis = 1, inplace = True)"
   ]
  },
  {
   "cell_type": "code",
   "execution_count": 28,
   "metadata": {
    "execution": {
     "iopub.execute_input": "2023-01-27T10:31:29.893203Z",
     "iopub.status.busy": "2023-01-27T10:31:29.892795Z",
     "iopub.status.idle": "2023-01-27T10:31:29.908671Z",
     "shell.execute_reply": "2023-01-27T10:31:29.907138Z",
     "shell.execute_reply.started": "2023-01-27T10:31:29.893172Z"
    }
   },
   "outputs": [
    {
     "name": "stdout",
     "output_type": "stream",
     "text": [
      "Jet Airways                          3849\n",
      "IndiGo                               2053\n",
      "Air India                            1751\n",
      "Multiple carriers                    1196\n",
      "SpiceJet                              818\n",
      "Vistara                               479\n",
      "Air Asia                              319\n",
      "GoAir                                 194\n",
      "Multiple carriers Premium economy      13\n",
      "Jet Airways Business                    6\n",
      "Vistara Premium economy                 3\n",
      "Trujet                                  1\n",
      "Name: Airline, dtype: int64\n",
      "--------------------------------------------------\n",
      "Delhi       4536\n",
      "Kolkata     2871\n",
      "Banglore    2197\n",
      "Mumbai       697\n",
      "Chennai      381\n",
      "Name: Source, dtype: int64\n",
      "--------------------------------------------------\n",
      "Cochin       4536\n",
      "Banglore     2871\n",
      "Delhi        1265\n",
      "New Delhi     932\n",
      "Hyderabad     697\n",
      "Kolkata       381\n",
      "Name: Destination, dtype: int64\n",
      "--------------------------------------------------\n"
     ]
    }
   ],
   "source": [
    "nominal_features = [\"Airline\", \"Source\", \"Destination\"]\n",
    "for x in nominal_features:\n",
    "    print(df_new[x].value_counts())\n",
    "    print(\"-\" * 50)"
   ]
  },
  {
   "cell_type": "markdown",
   "metadata": {},
   "source": [
    "__Insights :__<br>\n",
    "1. Airline : Since \"Jet Airways Business\", \"Vistara Premium economy\" and \"Trujet\" are having less frequencies, hence we put these 3 categories into \"Others\" category.\n",
    "1. Destination : Since Airport for \"Delhi\" and \"New Delhi\" are same, hence we take both the categories as one \"Delhi\"."
   ]
  },
  {
   "cell_type": "markdown",
   "metadata": {},
   "source": [
    "__1. Separating into \"Others\" category__"
   ]
  },
  {
   "cell_type": "code",
   "execution_count": 15,
   "metadata": {
    "execution": {
     "iopub.execute_input": "2023-01-27T12:27:20.905151Z",
     "iopub.status.busy": "2023-01-27T12:27:20.904573Z",
     "iopub.status.idle": "2023-01-27T12:27:20.916165Z",
     "shell.execute_reply": "2023-01-27T12:27:20.914917Z",
     "shell.execute_reply.started": "2023-01-27T12:27:20.905104Z"
    }
   },
   "outputs": [
    {
     "name": "stdout",
     "output_type": "stream",
     "text": [
      "Airlines with minimum frequencies : ['Jet Airways Business', 'Vistara Premium economy', 'Trujet']\n"
     ]
    }
   ],
   "source": [
    "airline_stats = df_new[\"Airline\"].value_counts()\n",
    "\n",
    "airline_with_less_freq = list(airline_stats[airline_stats <= 10].index)\n",
    "\n",
    "print(f\"Airlines with minimum frequencies : {airline_with_less_freq}\")"
   ]
  },
  {
   "cell_type": "code",
   "execution_count": 16,
   "metadata": {
    "execution": {
     "iopub.execute_input": "2023-01-27T12:27:25.655420Z",
     "iopub.status.busy": "2023-01-27T12:27:25.655015Z",
     "iopub.status.idle": "2023-01-27T12:27:25.667882Z",
     "shell.execute_reply": "2023-01-27T12:27:25.666486Z",
     "shell.execute_reply.started": "2023-01-27T12:27:25.655387Z"
    }
   },
   "outputs": [],
   "source": [
    "df_new.loc[(df_new[\"Airline\"] == 'Jet Airways Business') | (df_new[\"Airline\"] == 'Vistara Premium economy') | (df_new[\"Airline\"] == 'Trujet'), \"Airline\"] = \"Other\""
   ]
  },
  {
   "cell_type": "code",
   "execution_count": 31,
   "metadata": {
    "execution": {
     "iopub.execute_input": "2023-01-27T10:35:06.081226Z",
     "iopub.status.busy": "2023-01-27T10:35:06.080771Z",
     "iopub.status.idle": "2023-01-27T10:35:06.092610Z",
     "shell.execute_reply": "2023-01-27T10:35:06.091283Z",
     "shell.execute_reply.started": "2023-01-27T10:35:06.081189Z"
    }
   },
   "outputs": [
    {
     "data": {
      "text/plain": [
       "Jet Airways                          3849\n",
       "IndiGo                               2053\n",
       "Air India                            1751\n",
       "Multiple carriers                    1196\n",
       "SpiceJet                              818\n",
       "Vistara                               479\n",
       "Air Asia                              319\n",
       "GoAir                                 194\n",
       "Multiple carriers Premium economy      13\n",
       "Other                                  10\n",
       "Name: Airline, dtype: int64"
      ]
     },
     "execution_count": 31,
     "metadata": {},
     "output_type": "execute_result"
    }
   ],
   "source": [
    "df_new[\"Airline\"].value_counts()"
   ]
  },
  {
   "cell_type": "markdown",
   "metadata": {},
   "source": [
    "__2. Merging Delhi and New Delhi as one category Delhi__"
   ]
  },
  {
   "cell_type": "code",
   "execution_count": 17,
   "metadata": {
    "execution": {
     "iopub.execute_input": "2023-01-27T12:27:30.606130Z",
     "iopub.status.busy": "2023-01-27T12:27:30.605218Z",
     "iopub.status.idle": "2023-01-27T12:27:30.621339Z",
     "shell.execute_reply": "2023-01-27T12:27:30.619756Z",
     "shell.execute_reply.started": "2023-01-27T12:27:30.605927Z"
    }
   },
   "outputs": [],
   "source": [
    "df_new.loc[(df_new[\"Destination\"] == \"Delhi\") | (df_new[\"Destination\"] == \"New Delhi\"), \"Destination\"] = \"Delhi\""
   ]
  },
  {
   "cell_type": "code",
   "execution_count": 33,
   "metadata": {
    "execution": {
     "iopub.execute_input": "2023-01-27T10:35:47.723988Z",
     "iopub.status.busy": "2023-01-27T10:35:47.723528Z",
     "iopub.status.idle": "2023-01-27T10:35:47.734331Z",
     "shell.execute_reply": "2023-01-27T10:35:47.732832Z",
     "shell.execute_reply.started": "2023-01-27T10:35:47.723951Z"
    }
   },
   "outputs": [
    {
     "data": {
      "text/plain": [
       "Cochin       4536\n",
       "Banglore     2871\n",
       "Delhi        2197\n",
       "Hyderabad     697\n",
       "Kolkata       381\n",
       "Name: Destination, dtype: int64"
      ]
     },
     "execution_count": 33,
     "metadata": {},
     "output_type": "execute_result"
    }
   ],
   "source": [
    "df_new[\"Destination\"].value_counts()"
   ]
  },
  {
   "cell_type": "markdown",
   "metadata": {},
   "source": [
    "## EDA"
   ]
  },
  {
   "cell_type": "markdown",
   "metadata": {},
   "source": [
    "__1. Airline and Price__"
   ]
  },
  {
   "cell_type": "code",
   "execution_count": 34,
   "metadata": {
    "execution": {
     "iopub.execute_input": "2023-01-27T10:36:56.532495Z",
     "iopub.status.busy": "2023-01-27T10:36:56.531990Z",
     "iopub.status.idle": "2023-01-27T10:36:58.202079Z",
     "shell.execute_reply": "2023-01-27T10:36:58.200501Z",
     "shell.execute_reply.started": "2023-01-27T10:36:56.532459Z"
    }
   },
   "outputs": [
    {
     "data": {
      "image/png": "[encoded data removed]",
      "text/plain": [
       "<Figure size 1080x288 with 2 Axes>"
      ]
     },
     "metadata": {},
     "output_type": "display_data"
    }
   ],
   "source": [
    "plt.figure(figsize = (15,4))\n",
    "plt.subplot(1, 3, 1)\n",
    "sns.barplot(df_new[\"Price\"], df[\"Airline\"])\n",
    "plt.title(\"All Airlines\")\n",
    "plt.subplot(1, 3, 3)\n",
    "sns.barplot(df_new[\"Price\"], df_new[\"Airline\"])\n",
    "plt.title(\"'Jet Airways Business', 'Vistara Premium economy' and 'Trujet' merged in Other category\")\n",
    "plt.show()"
   ]
  },
  {
   "cell_type": "code",
   "execution_count": 36,
   "metadata": {
    "execution": {
     "iopub.execute_input": "2023-01-27T10:37:22.148425Z",
     "iopub.status.busy": "2023-01-27T10:37:22.148007Z",
     "iopub.status.idle": "2023-01-27T10:37:22.643063Z",
     "shell.execute_reply": "2023-01-27T10:37:22.642184Z",
     "shell.execute_reply.started": "2023-01-27T10:37:22.148394Z"
    }
   },
   "outputs": [
    {
     "data": {
      "image/png": "[encoded data removed]",
      "text/plain": [
       "<Figure size 1800x504 with 1 Axes>"
      ]
     },
     "metadata": {},
     "output_type": "display_data"
    }
   ],
   "source": [
    "fig , ax  =  plt.subplots(figsize  =(25, 7))\n",
    "sns.boxplot(x='Airline', y='Price', data=df.sort_values(\"Price\", ascending = False));"
   ]
  },
  {
   "cell_type": "markdown",
   "metadata": {},
   "source": [
    "__Insights :__ From the the above plot we observed that \"Jet Airways Business\" is the costliest Airline and \"Trujet\" is the cheapest Airline. All the Airlines have outlier except Vistara Premium economy and Trujet Airways. Except the price of Jet Airways, almost all the other Airlines' Prices are economical."
   ]
  },
  {
   "cell_type": "markdown",
   "metadata": {},
   "source": [
    "__2. Jouney_month and Price__"
   ]
  },
  {
   "cell_type": "code",
   "execution_count": 37,
   "metadata": {
    "execution": {
     "iopub.execute_input": "2023-01-27T10:47:44.208835Z",
     "iopub.status.busy": "2023-01-27T10:47:44.208267Z",
     "iopub.status.idle": "2023-01-27T10:47:44.586075Z",
     "shell.execute_reply": "2023-01-27T10:47:44.584499Z",
     "shell.execute_reply.started": "2023-01-27T10:47:44.208798Z"
    }
   },
   "outputs": [
    {
     "data": {
      "image/png": "[encoded data removed]",
      "text/plain": [
       "<Figure size 432x360 with 1 Axes>"
      ]
     },
     "metadata": {},
     "output_type": "display_data"
    }
   ],
   "source": [
    "plt.figure(figsize = (6,5))\n",
    "sns.barplot(df_new[\"Journey_month\"], df_new[\"Price\"])\n",
    "plt.show()"
   ]
  },
  {
   "cell_type": "code",
   "execution_count": 38,
   "metadata": {
    "execution": {
     "iopub.execute_input": "2023-01-27T10:50:53.275545Z",
     "iopub.status.busy": "2023-01-27T10:50:53.275007Z",
     "iopub.status.idle": "2023-01-27T10:50:53.611408Z",
     "shell.execute_reply": "2023-01-27T10:50:53.610424Z",
     "shell.execute_reply.started": "2023-01-27T10:50:53.275505Z"
    }
   },
   "outputs": [
    {
     "data": {
      "image/png": "[encoded data removed]",
      "text/plain": [
       "<Figure size 1800x720 with 1 Axes>"
      ]
     },
     "metadata": {},
     "output_type": "display_data"
    }
   ],
   "source": [
    "fig , ax  =  plt.subplots(figsize  =(25, 10))\n",
    "sns.boxplot(x='Journey_month', y='Price', data=df_new.sort_values(\"Price\", ascending = False));"
   ]
  },
  {
   "cell_type": "markdown",
   "metadata": {},
   "source": [
    "__Insights :__ In March, the price of the flights are quite higher than April, May and June."
   ]
  },
  {
   "cell_type": "markdown",
   "metadata": {},
   "source": [
    "__3. Dep_hour and Price__"
   ]
  },
  {
   "cell_type": "code",
   "execution_count": 39,
   "metadata": {
    "execution": {
     "iopub.execute_input": "2023-01-27T10:52:44.994599Z",
     "iopub.status.busy": "2023-01-27T10:52:44.994016Z",
     "iopub.status.idle": "2023-01-27T10:52:46.954213Z",
     "shell.execute_reply": "2023-01-27T10:52:46.952848Z",
     "shell.execute_reply.started": "2023-01-27T10:52:44.994558Z"
    }
   },
   "outputs": [
    {
     "data": {
      "image/png": "[encoded data removed]",
      "text/plain": [
       "<Figure size 1080x576 with 2 Axes>"
      ]
     },
     "metadata": {},
     "output_type": "display_data"
    }
   ],
   "source": [
    "plt.figure(figsize = (15,8))\n",
    "plt.subplot(2,1,1)\n",
    "sns.barplot(df_new[\"Dep_hour\"], df_new[\"Price\"])\n",
    "plt.subplot(2,1,2)\n",
    "sns.lineplot(df_new[\"Dep_hour\"], df_new[\"Price\"])\n",
    "plt.show()"
   ]
  },
  {
   "cell_type": "markdown",
   "metadata": {},
   "source": [
    "__Insight :__ From the above plot, its not following a certain patterns. But afternoon and some of the evening flights are having quite higher price than any other slots."
   ]
  },
  {
   "cell_type": "markdown",
   "metadata": {},
   "source": [
    "__4. Total_Stops and Price__"
   ]
  },
  {
   "cell_type": "code",
   "execution_count": 41,
   "metadata": {
    "execution": {
     "iopub.execute_input": "2023-01-27T10:54:12.124932Z",
     "iopub.status.busy": "2023-01-27T10:54:12.124467Z",
     "iopub.status.idle": "2023-01-27T10:54:12.903893Z",
     "shell.execute_reply": "2023-01-27T10:54:12.902512Z",
     "shell.execute_reply.started": "2023-01-27T10:54:12.124900Z"
    }
   },
   "outputs": [
    {
     "data": {
      "image/png": "[encoded data removed]",
      "text/plain": [
       "<Figure size 1656x360 with 2 Axes>"
      ]
     },
     "metadata": {},
     "output_type": "display_data"
    }
   ],
   "source": [
    "plt.figure(figsize = (23,5))\n",
    "plt.subplot(1,3,1)\n",
    "sns.barplot(df_new[\"Total_Stops\"], df_new[\"Price\"])\n",
    "plt.subplot(1,3,2)\n",
    "sns.lineplot(df_new[\"Total_Stops\"], df_new[\"Price\"])\n",
    "plt.show()"
   ]
  },
  {
   "cell_type": "markdown",
   "metadata": {},
   "source": [
    "__Insight :__ The Price of the Fight increases as the number of Total_Stops increases."
   ]
  },
  {
   "cell_type": "markdown",
   "metadata": {},
   "source": [
    "__5. Total_Stops and Airline__"
   ]
  },
  {
   "cell_type": "code",
   "execution_count": 42,
   "metadata": {
    "execution": {
     "iopub.execute_input": "2023-01-27T10:56:33.760958Z",
     "iopub.status.busy": "2023-01-27T10:56:33.760450Z",
     "iopub.status.idle": "2023-01-27T10:56:34.216933Z",
     "shell.execute_reply": "2023-01-27T10:56:34.215450Z",
     "shell.execute_reply.started": "2023-01-27T10:56:33.760924Z"
    }
   },
   "outputs": [
    {
     "data": {
      "image/png": "[encoded data removed]",
      "text/plain": [
       "<Figure size 2160x288 with 1 Axes>"
      ]
     },
     "metadata": {},
     "output_type": "display_data"
    }
   ],
   "source": [
    "plt.figure(figsize = (30,4))\n",
    "sns.countplot(df[\"Airline\"], hue = df[\"Total_Stops\"])\n",
    "plt.show()"
   ]
  },
  {
   "cell_type": "markdown",
   "metadata": {},
   "source": [
    "__Insights :__<br>\n",
    "- Indigo airline are having maximum non-stop flights.\n",
    "- Jet Airways are having maximum flights of single stopage."
   ]
  },
  {
   "cell_type": "markdown",
   "metadata": {},
   "source": [
    "__6. Source & Price and Destination & Price__"
   ]
  },
  {
   "cell_type": "code",
   "execution_count": 18,
   "metadata": {
    "execution": {
     "iopub.execute_input": "2023-01-27T12:28:47.890812Z",
     "iopub.status.busy": "2023-01-27T12:28:47.890327Z",
     "iopub.status.idle": "2023-01-27T12:28:48.846909Z",
     "shell.execute_reply": "2023-01-27T12:28:48.845487Z",
     "shell.execute_reply.started": "2023-01-27T12:28:47.890773Z"
    }
   },
   "outputs": [
    {
     "data": {
      "image/png": "[encoded data removed]",
      "text/plain": [
       "<Figure size 1800x288 with 2 Axes>"
      ]
     },
     "metadata": {},
     "output_type": "display_data"
    }
   ],
   "source": [
    "plt.figure(figsize = (25,4))\n",
    "plt.subplot(1,3,1)\n",
    "sns.barplot(df_new[\"Source\"], df_new[\"Price\"])\n",
    "plt.title(\"Source vs Price\")\n",
    "plt.subplot(1,3,2)\n",
    "sns.barplot(df_new[\"Destination\"], df_new[\"Price\"])\n",
    "plt.title(\"Destination vs Price\")\n",
    "plt.show()"
   ]
  },
  {
   "cell_type": "code",
   "execution_count": 21,
   "metadata": {
    "execution": {
     "iopub.execute_input": "2023-01-27T12:31:25.591655Z",
     "iopub.status.busy": "2023-01-27T12:31:25.591131Z",
     "iopub.status.idle": "2023-01-27T12:31:26.179795Z",
     "shell.execute_reply": "2023-01-27T12:31:26.178723Z",
     "shell.execute_reply.started": "2023-01-27T12:31:25.591616Z"
    }
   },
   "outputs": [
    {
     "data": {
      "image/png": "[encoded data removed]",
      "text/plain": [
       "<Figure size 1800x1008 with 2 Axes>"
      ]
     },
     "metadata": {},
     "output_type": "display_data"
    }
   ],
   "source": [
    "plt.figure(figsize=(25, 14))\n",
    "plt.subplot(2,1,1)\n",
    "sns.boxplot(x='Source', y='Price', data=df_new.sort_values(\"Price\", ascending = False));\n",
    "plt.subplot(2,1,2)\n",
    "sns.boxplot(x='Destination', y='Price', data=df_new.sort_values(\"Price\", ascending = False));"
   ]
  },
  {
   "cell_type": "markdown",
   "metadata": {},
   "source": [
    "__Insights :__<br>\n",
    "- The Airlines having their Sources at Delhi and Bangalore are costlier than the others. \n",
    "- The Airlines having their Destinations at New Delhi, Cochin and Bangalore are costlier than the others."
   ]
  },
  {
   "cell_type": "markdown",
   "metadata": {},
   "source": [
    "__7. Distribution of Price__"
   ]
  },
  {
   "cell_type": "code",
   "execution_count": 22,
   "metadata": {
    "execution": {
     "iopub.execute_input": "2023-01-27T12:36:06.229455Z",
     "iopub.status.busy": "2023-01-27T12:36:06.228260Z",
     "iopub.status.idle": "2023-01-27T12:36:06.815609Z",
     "shell.execute_reply": "2023-01-27T12:36:06.814444Z",
     "shell.execute_reply.started": "2023-01-27T12:36:06.229402Z"
    }
   },
   "outputs": [
    {
     "data": {
      "image/png": "[encoded data removed]",
      "text/plain": [
       "<Figure size 1440x288 with 2 Axes>"
      ]
     },
     "metadata": {},
     "output_type": "display_data"
    }
   ],
   "source": [
    "plt.figure(figsize = (20,4))\n",
    "plt.subplot(1,2,1)\n",
    "sns.distplot(df_new[\"Price\"])\n",
    "plt.subplot(1,2,2)\n",
    "sns.boxplot(df_new[\"Price\"])\n",
    "plt.show()"
   ]
  },
  {
   "cell_type": "markdown",
   "metadata": {},
   "source": [
    "__Insight :__ The price is right skewed and after 23000 its treated them as outliers. We will not apply any transformations on ‘Price’ column, since it is our target variable"
   ]
  },
  {
   "cell_type": "markdown",
   "metadata": {},
   "source": [
    "__Encoding the categorical features :__<br>\n",
    "\n",
    "__A.) Since \"Airline\", \"Source\" and \"Destination\" are nominal data, hence we will apply One Hot Encoding to these features__"
   ]
  },
  {
   "cell_type": "code",
   "execution_count": 23,
   "metadata": {
    "execution": {
     "iopub.execute_input": "2023-01-27T12:40:09.855475Z",
     "iopub.status.busy": "2023-01-27T12:40:09.855017Z",
     "iopub.status.idle": "2023-01-27T12:40:09.878166Z",
     "shell.execute_reply": "2023-01-27T12:40:09.876698Z",
     "shell.execute_reply.started": "2023-01-27T12:40:09.855437Z"
    }
   },
   "outputs": [
    {
     "data": {
      "text/html": [
       "<div>\n",
       "<style scoped>\n",
       "    .dataframe tbody tr th:only-of-type {\n",
       "        vertical-align: middle;\n",
       "    }\n",
       "\n",
       "    .dataframe tbody tr th {\n",
       "        vertical-align: top;\n",
       "    }\n",
       "\n",
       "    .dataframe thead th {\n",
       "        text-align: right;\n",
       "    }\n",
       "</style>\n",
       "<table border=\"1\" class=\"dataframe\">\n",
       "  <thead>\n",
       "    <tr style=\"text-align: right;\">\n",
       "      <th></th>\n",
       "      <th>Airline</th>\n",
       "      <th>Source</th>\n",
       "      <th>Destination</th>\n",
       "      <th>Total_Stops</th>\n",
       "      <th>Price</th>\n",
       "      <th>Journey_day</th>\n",
       "      <th>Journey_month</th>\n",
       "      <th>Dep_hour</th>\n",
       "      <th>Dep_minute</th>\n",
       "      <th>Arrival_hour</th>\n",
       "      <th>Arrival_minute</th>\n",
       "      <th>Duration_hour</th>\n",
       "      <th>Duration_min</th>\n",
       "    </tr>\n",
       "  </thead>\n",
       "  <tbody>\n",
       "    <tr>\n",
       "      <th>8467</th>\n",
       "      <td>SpiceJet</td>\n",
       "      <td>Banglore</td>\n",
       "      <td>Delhi</td>\n",
       "      <td>non-stop</td>\n",
       "      <td>3573</td>\n",
       "      <td>27</td>\n",
       "      <td>6</td>\n",
       "      <td>5</td>\n",
       "      <td>55</td>\n",
       "      <td>8</td>\n",
       "      <td>35</td>\n",
       "      <td>2</td>\n",
       "      <td>40</td>\n",
       "    </tr>\n",
       "    <tr>\n",
       "      <th>8870</th>\n",
       "      <td>Jet Airways</td>\n",
       "      <td>Delhi</td>\n",
       "      <td>Cochin</td>\n",
       "      <td>2 stops</td>\n",
       "      <td>11507</td>\n",
       "      <td>3</td>\n",
       "      <td>6</td>\n",
       "      <td>9</td>\n",
       "      <td>35</td>\n",
       "      <td>12</td>\n",
       "      <td>35</td>\n",
       "      <td>27</td>\n",
       "      <td>0</td>\n",
       "    </tr>\n",
       "  </tbody>\n",
       "</table>\n",
       "</div>"
      ],
      "text/plain": [
       "          Airline    Source Destination Total_Stops  Price  Journey_day  \\\n",
       "8467     SpiceJet  Banglore       Delhi    non-stop   3573           27   \n",
       "8870  Jet Airways     Delhi      Cochin     2 stops  11507            3   \n",
       "\n",
       "      Journey_month  Dep_hour  Dep_minute  Arrival_hour  Arrival_minute  \\\n",
       "8467              6         5          55             8              35   \n",
       "8870              6         9          35            12              35   \n",
       "\n",
       "      Duration_hour  Duration_min  \n",
       "8467              2            40  \n",
       "8870             27             0  "
      ]
     },
     "execution_count": 23,
     "metadata": {},
     "output_type": "execute_result"
    }
   ],
   "source": [
    "df_new.sample(2)"
   ]
  },
  {
   "cell_type": "markdown",
   "metadata": {},
   "source": [
    "__Encoding with one hot encoding__"
   ]
  },
  {
   "cell_type": "code",
   "execution_count": 24,
   "metadata": {
    "execution": {
     "iopub.execute_input": "2023-01-27T12:42:58.115830Z",
     "iopub.status.busy": "2023-01-27T12:42:58.115383Z",
     "iopub.status.idle": "2023-01-27T12:42:58.132859Z",
     "shell.execute_reply": "2023-01-27T12:42:58.131815Z",
     "shell.execute_reply.started": "2023-01-27T12:42:58.115792Z"
    }
   },
   "outputs": [],
   "source": [
    "df_new = pd.get_dummies(data = df_new, columns = [\"Airline\", \"Destination\", \"Source\"], drop_first = True)"
   ]
  },
  {
   "cell_type": "markdown",
   "metadata": {},
   "source": [
    "__B.) Since \"Total_Stops\" is an ordinal data, hence we will encode order wise__"
   ]
  },
  {
   "cell_type": "code",
   "execution_count": 25,
   "metadata": {
    "execution": {
     "iopub.execute_input": "2023-01-27T12:43:29.566443Z",
     "iopub.status.busy": "2023-01-27T12:43:29.565921Z",
     "iopub.status.idle": "2023-01-27T12:43:29.579015Z",
     "shell.execute_reply": "2023-01-27T12:43:29.577661Z",
     "shell.execute_reply.started": "2023-01-27T12:43:29.566399Z"
    }
   },
   "outputs": [
    {
     "data": {
      "text/plain": [
       "1 stop      5625\n",
       "non-stop    3491\n",
       "2 stops     1520\n",
       "3 stops       45\n",
       "4 stops        1\n",
       "Name: Total_Stops, dtype: int64"
      ]
     },
     "execution_count": 25,
     "metadata": {},
     "output_type": "execute_result"
    }
   ],
   "source": [
    "df_new[\"Total_Stops\"].value_counts()"
   ]
  },
  {
   "cell_type": "code",
   "execution_count": 26,
   "metadata": {
    "execution": {
     "iopub.execute_input": "2023-01-27T12:43:38.904163Z",
     "iopub.status.busy": "2023-01-27T12:43:38.903759Z",
     "iopub.status.idle": "2023-01-27T12:43:38.917064Z",
     "shell.execute_reply": "2023-01-27T12:43:38.915968Z",
     "shell.execute_reply.started": "2023-01-27T12:43:38.904116Z"
    }
   },
   "outputs": [],
   "source": [
    "df_new[\"Total_Stops\"].replace({\n",
    "    \"non-stop\" : 0,\n",
    "    \"1 stop\" : 1,\n",
    "    \"2 stops\" : 2,\n",
    "    \"3 stops\" : 3,\n",
    "    \"4 stops\" : 4\n",
    "}, inplace = True)"
   ]
  },
  {
   "cell_type": "code",
   "execution_count": 27,
   "metadata": {
    "execution": {
     "iopub.execute_input": "2023-01-27T12:44:41.490139Z",
     "iopub.status.busy": "2023-01-27T12:44:41.489704Z",
     "iopub.status.idle": "2023-01-27T12:44:41.510152Z",
     "shell.execute_reply": "2023-01-27T12:44:41.509115Z",
     "shell.execute_reply.started": "2023-01-27T12:44:41.490102Z"
    }
   },
   "outputs": [
    {
     "data": {
      "text/html": [
       "<div>\n",
       "<style scoped>\n",
       "    .dataframe tbody tr th:only-of-type {\n",
       "        vertical-align: middle;\n",
       "    }\n",
       "\n",
       "    .dataframe tbody tr th {\n",
       "        vertical-align: top;\n",
       "    }\n",
       "\n",
       "    .dataframe thead th {\n",
       "        text-align: right;\n",
       "    }\n",
       "</style>\n",
       "<table border=\"1\" class=\"dataframe\">\n",
       "  <thead>\n",
       "    <tr style=\"text-align: right;\">\n",
       "      <th></th>\n",
       "      <th>Total_Stops</th>\n",
       "      <th>Price</th>\n",
       "      <th>Journey_day</th>\n",
       "      <th>Journey_month</th>\n",
       "      <th>Dep_hour</th>\n",
       "      <th>Dep_minute</th>\n",
       "      <th>Arrival_hour</th>\n",
       "      <th>Arrival_minute</th>\n",
       "      <th>Duration_hour</th>\n",
       "      <th>Duration_min</th>\n",
       "      <th>Airline_Air India</th>\n",
       "      <th>Airline_GoAir</th>\n",
       "      <th>Airline_IndiGo</th>\n",
       "      <th>Airline_Jet Airways</th>\n",
       "      <th>Airline_Multiple carriers</th>\n",
       "      <th>Airline_Multiple carriers Premium economy</th>\n",
       "      <th>Airline_Other</th>\n",
       "      <th>Airline_SpiceJet</th>\n",
       "      <th>Airline_Vistara</th>\n",
       "      <th>Destination_Cochin</th>\n",
       "      <th>Destination_Delhi</th>\n",
       "      <th>Destination_Hyderabad</th>\n",
       "      <th>Destination_Kolkata</th>\n",
       "      <th>Source_Chennai</th>\n",
       "      <th>Source_Delhi</th>\n",
       "      <th>Source_Kolkata</th>\n",
       "      <th>Source_Mumbai</th>\n",
       "    </tr>\n",
       "  </thead>\n",
       "  <tbody>\n",
       "    <tr>\n",
       "      <th>9675</th>\n",
       "      <td>2</td>\n",
       "      <td>6610</td>\n",
       "      <td>6</td>\n",
       "      <td>3</td>\n",
       "      <td>6</td>\n",
       "      <td>40</td>\n",
       "      <td>21</td>\n",
       "      <td>20</td>\n",
       "      <td>14</td>\n",
       "      <td>40</td>\n",
       "      <td>0</td>\n",
       "      <td>0</td>\n",
       "      <td>1</td>\n",
       "      <td>0</td>\n",
       "      <td>0</td>\n",
       "      <td>0</td>\n",
       "      <td>0</td>\n",
       "      <td>0</td>\n",
       "      <td>0</td>\n",
       "      <td>1</td>\n",
       "      <td>0</td>\n",
       "      <td>0</td>\n",
       "      <td>0</td>\n",
       "      <td>0</td>\n",
       "      <td>1</td>\n",
       "      <td>0</td>\n",
       "      <td>0</td>\n",
       "    </tr>\n",
       "    <tr>\n",
       "      <th>9865</th>\n",
       "      <td>1</td>\n",
       "      <td>14151</td>\n",
       "      <td>21</td>\n",
       "      <td>5</td>\n",
       "      <td>20</td>\n",
       "      <td>25</td>\n",
       "      <td>18</td>\n",
       "      <td>0</td>\n",
       "      <td>21</td>\n",
       "      <td>35</td>\n",
       "      <td>0</td>\n",
       "      <td>0</td>\n",
       "      <td>0</td>\n",
       "      <td>1</td>\n",
       "      <td>0</td>\n",
       "      <td>0</td>\n",
       "      <td>0</td>\n",
       "      <td>0</td>\n",
       "      <td>0</td>\n",
       "      <td>0</td>\n",
       "      <td>0</td>\n",
       "      <td>0</td>\n",
       "      <td>0</td>\n",
       "      <td>0</td>\n",
       "      <td>0</td>\n",
       "      <td>1</td>\n",
       "      <td>0</td>\n",
       "    </tr>\n",
       "    <tr>\n",
       "      <th>7168</th>\n",
       "      <td>1</td>\n",
       "      <td>14086</td>\n",
       "      <td>9</td>\n",
       "      <td>3</td>\n",
       "      <td>16</td>\n",
       "      <td>0</td>\n",
       "      <td>1</td>\n",
       "      <td>35</td>\n",
       "      <td>9</td>\n",
       "      <td>35</td>\n",
       "      <td>0</td>\n",
       "      <td>0</td>\n",
       "      <td>0</td>\n",
       "      <td>0</td>\n",
       "      <td>1</td>\n",
       "      <td>0</td>\n",
       "      <td>0</td>\n",
       "      <td>0</td>\n",
       "      <td>0</td>\n",
       "      <td>1</td>\n",
       "      <td>0</td>\n",
       "      <td>0</td>\n",
       "      <td>0</td>\n",
       "      <td>0</td>\n",
       "      <td>1</td>\n",
       "      <td>0</td>\n",
       "      <td>0</td>\n",
       "    </tr>\n",
       "  </tbody>\n",
       "</table>\n",
       "</div>"
      ],
      "text/plain": [
       "      Total_Stops  Price  Journey_day  Journey_month  Dep_hour  Dep_minute  \\\n",
       "9675            2   6610            6              3         6          40   \n",
       "9865            1  14151           21              5        20          25   \n",
       "7168            1  14086            9              3        16           0   \n",
       "\n",
       "      Arrival_hour  Arrival_minute  Duration_hour  Duration_min  \\\n",
       "9675            21              20             14            40   \n",
       "9865            18               0             21            35   \n",
       "7168             1              35              9            35   \n",
       "\n",
       "      Airline_Air India  Airline_GoAir  Airline_IndiGo  Airline_Jet Airways  \\\n",
       "9675                  0              0               1                    0   \n",
       "9865                  0              0               0                    1   \n",
       "7168                  0              0               0                    0   \n",
       "\n",
       "      Airline_Multiple carriers  Airline_Multiple carriers Premium economy  \\\n",
       "9675                          0                                          0   \n",
       "9865                          0                                          0   \n",
       "7168                          1                                          0   \n",
       "\n",
       "      Airline_Other  Airline_SpiceJet  Airline_Vistara  Destination_Cochin  \\\n",
       "9675              0                 0                0                   1   \n",
       "9865              0                 0                0                   0   \n",
       "7168              0                 0                0                   1   \n",
       "\n",
       "      Destination_Delhi  Destination_Hyderabad  Destination_Kolkata  \\\n",
       "9675                  0                      0                    0   \n",
       "9865                  0                      0                    0   \n",
       "7168                  0                      0                    0   \n",
       "\n",
       "      Source_Chennai  Source_Delhi  Source_Kolkata  Source_Mumbai  \n",
       "9675               0             1               0              0  \n",
       "9865               0             0               1              0  \n",
       "7168               0             1               0              0  "
      ]
     },
     "execution_count": 27,
     "metadata": {},
     "output_type": "execute_result"
    }
   ],
   "source": [
    "df_new.sample(3)"
   ]
  },
  {
   "cell_type": "markdown",
   "metadata": {},
   "source": [
    "### Splitting the dataset into training and testing set"
   ]
  },
  {
   "cell_type": "code",
   "execution_count": 28,
   "metadata": {
    "execution": {
     "iopub.execute_input": "2023-01-27T12:45:25.629462Z",
     "iopub.status.busy": "2023-01-27T12:45:25.629021Z",
     "iopub.status.idle": "2023-01-27T12:45:25.637183Z",
     "shell.execute_reply": "2023-01-27T12:45:25.635784Z",
     "shell.execute_reply.started": "2023-01-27T12:45:25.629425Z"
    }
   },
   "outputs": [],
   "source": [
    "X = df_new.drop(\"Price\", axis = 1)\n",
    "y = df_new[\"Price\"]"
   ]
  },
  {
   "cell_type": "code",
   "execution_count": 31,
   "metadata": {
    "execution": {
     "iopub.execute_input": "2023-01-27T12:46:21.836499Z",
     "iopub.status.busy": "2023-01-27T12:46:21.836091Z",
     "iopub.status.idle": "2023-01-27T12:46:21.846904Z",
     "shell.execute_reply": "2023-01-27T12:46:21.845756Z",
     "shell.execute_reply.started": "2023-01-27T12:46:21.836464Z"
    }
   },
   "outputs": [],
   "source": [
    "X_train, X_test, y_train, y_test = train_test_split(X, y, test_size = 0.2, random_state = random_state)"
   ]
  },
  {
   "cell_type": "code",
   "execution_count": 32,
   "metadata": {
    "execution": {
     "iopub.execute_input": "2023-01-27T12:46:36.782354Z",
     "iopub.status.busy": "2023-01-27T12:46:36.781926Z",
     "iopub.status.idle": "2023-01-27T12:46:36.789592Z",
     "shell.execute_reply": "2023-01-27T12:46:36.788418Z",
     "shell.execute_reply.started": "2023-01-27T12:46:36.782318Z"
    }
   },
   "outputs": [
    {
     "data": {
      "text/plain": [
       "((8545, 26), (2137, 26))"
      ]
     },
     "execution_count": 32,
     "metadata": {},
     "output_type": "execute_result"
    }
   ],
   "source": [
    "X_train.shape, X_test.shape"
   ]
  },
  {
   "cell_type": "markdown",
   "metadata": {},
   "source": [
    "### Scaling the data"
   ]
  },
  {
   "cell_type": "code",
   "execution_count": 33,
   "metadata": {
    "execution": {
     "iopub.execute_input": "2023-01-27T12:48:12.639222Z",
     "iopub.status.busy": "2023-01-27T12:48:12.638729Z",
     "iopub.status.idle": "2023-01-27T12:48:12.644570Z",
     "shell.execute_reply": "2023-01-27T12:48:12.643323Z",
     "shell.execute_reply.started": "2023-01-27T12:48:12.639184Z"
    }
   },
   "outputs": [],
   "source": [
    "scaler = StandardScaler()"
   ]
  },
  {
   "cell_type": "code",
   "execution_count": 34,
   "metadata": {
    "execution": {
     "iopub.execute_input": "2023-01-27T12:48:20.990104Z",
     "iopub.status.busy": "2023-01-27T12:48:20.989654Z",
     "iopub.status.idle": "2023-01-27T12:48:21.010403Z",
     "shell.execute_reply": "2023-01-27T12:48:21.009111Z",
     "shell.execute_reply.started": "2023-01-27T12:48:20.990071Z"
    }
   },
   "outputs": [],
   "source": [
    "X_train_scaled = scaler.fit_transform(X_train)\n",
    "X_test_scaled = scaler.transform(X_test)"
   ]
  },
  {
   "cell_type": "code",
   "execution_count": null,
   "metadata": {},
   "outputs": [],
   "source": []
  },
  {
   "cell_type": "markdown",
   "metadata": {},
   "source": [
    "__Total count of \"No Info\" and \"No info\"__"
   ]
  },
  {
   "cell_type": "code",
   "execution_count": 16,
   "metadata": {},
   "outputs": [
    {
     "name": "stdout",
     "output_type": "stream",
     "text": [
      "78.14284377047646\n"
     ]
    }
   ],
   "source": [
    "total_count = df.loc[(df[\"Additional_Info\"] == \"No Info\") | (df[\"Additional_Info\"] == \"No info\"), \"Additional_Info\"].count()\n",
    "total = df.shape[0]\n",
    "\n",
    "print((total_count/total)*100)"
   ]
  },
  {
   "cell_type": "markdown",
   "metadata": {},
   "source": [
    "__Using function__"
   ]
  },
  {
   "cell_type": "code",
   "execution_count": 17,
   "metadata": {},
   "outputs": [],
   "source": [
    "def find_no_info_percentage(x):\n",
    "    total_no_info_count = df.loc[(df[x] == \"No Info\") | (df[x] == \"No info\"), x].count()\n",
    "    total = df.shape[0]\n",
    "    return (total_count/total)*100"
   ]
  },
  {
   "cell_type": "code",
   "execution_count": 18,
   "metadata": {},
   "outputs": [
    {
     "data": {
      "text/plain": [
       "78.14284377047646"
      ]
     },
     "execution_count": 18,
     "metadata": {},
     "output_type": "execute_result"
    }
   ],
   "source": [
    "find_no_info_percentage(\"Additional_Info\")"
   ]
  }
 ],
 "metadata": {
  "kernelspec": {
   "display_name": "Python 3 (ipykernel)",
   "language": "python",
   "name": "python3"
  },
  "language_info": {
   "codemirror_mode": {
    "name": "ipython",
    "version": 3
   },
   "file_extension": ".py",
   "mimetype": "text/x-python",
   "name": "python",
   "nbconvert_exporter": "python",
   "pygments_lexer": "ipython3",
   "version": "3.9.12"
  }
 },
 "nbformat": 4,
 "nbformat_minor": 4
}
