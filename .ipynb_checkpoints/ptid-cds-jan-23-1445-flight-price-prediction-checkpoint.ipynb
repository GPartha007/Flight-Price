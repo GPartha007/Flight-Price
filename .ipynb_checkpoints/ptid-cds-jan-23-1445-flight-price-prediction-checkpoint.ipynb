{
 "cells": [
  {
   "cell_type": "markdown",
   "metadata": {},
   "source": [
    "## Team ID : PTID-CDS-JAN-23-1445\n",
    "## Project ID : PRCP-1025-FlightPricePrediction"
   ]
  },
  {
   "cell_type": "markdown",
   "metadata": {},
   "source": [
    "__Problem Statement :__ <br>\n",
    "Flight ticket prices can be something hard to guess, today we might see a price, check out the price of the same flight tomorrow, it will be a different story. We might have often heard travellers saying that flight ticket prices are so unpredictable. That’s why we will try to use machine learning to solve this problem. This can help airlines by predicting what prices they can maintain."
   ]
  },
  {
   "cell_type": "markdown",
   "metadata": {},
   "source": [
    "__Tasks :__ <br>\n",
    "- Prepare a complete data analysis report on the given data.\n",
    "\n",
    "- Create a predictive model which will help the customers to predict future flight prices and plan their journey accordingly."
   ]
  },
  {
   "cell_type": "markdown",
   "metadata": {},
   "source": [
    "## Libraries we needed : "
   ]
  },
  {
   "cell_type": "code",
   "execution_count": 1,
   "metadata": {
    "execution": {
     "iopub.execute_input": "2023-01-28T13:02:13.722949Z",
     "iopub.status.busy": "2023-01-28T13:02:13.722506Z",
     "iopub.status.idle": "2023-01-28T13:02:13.918285Z",
     "shell.execute_reply": "2023-01-28T13:02:13.916387Z",
     "shell.execute_reply.started": "2023-01-28T13:02:13.722917Z"
    }
   },
   "outputs": [],
   "source": [
    "#------------Basic Libraies------------------\n",
    "import numpy as np, pandas as pd \n",
    "import matplotlib.pyplot as plt, seaborn as sns\n",
    "import warnings\n",
    "from sklearn import set_config\n",
    "\n",
    "#-------------Some necessary configurations-----------------\n",
    "warnings.filterwarnings(\"ignore\")\n",
    "%matplotlib inline\n",
    "set_config(display = \"diagram\")\n",
    "pd.set_option(\"display.max_columns\", None)\n",
    "sns.set()"
   ]
  },
  {
   "cell_type": "code",
   "execution_count": 2,
   "metadata": {
    "execution": {
     "iopub.execute_input": "2023-01-28T13:02:16.730089Z",
     "iopub.status.busy": "2023-01-28T13:02:16.729736Z",
     "iopub.status.idle": "2023-01-28T13:02:16.735802Z",
     "shell.execute_reply": "2023-01-28T13:02:16.734945Z",
     "shell.execute_reply.started": "2023-01-28T13:02:16.730063Z"
    }
   },
   "outputs": [],
   "source": [
    "#---------------Libraries for splitting the dataset, preprocessing and model creation--------------\n",
    "from sklearn.model_selection import train_test_split\n",
    "from sklearn.model_selection import cross_val_score, GridSearchCV, KFold, learning_curve\n",
    "from sklearn.preprocessing import StandardScaler, MinMaxScaler\n",
    "\n",
    "#---------Algorithms we needed to train our model------------\n",
    "from sklearn.linear_model import LinearRegression, Ridge, Lasso\n",
    "from sklearn.svm import SVR\n",
    "from sklearn.neighbors import KNeighborsRegressor\n",
    "from sklearn.tree import DecisionTreeRegressor\n",
    "from sklearn.ensemble import RandomForestRegressor\n",
    "from xgboost import XGBRegressor\n",
    "\n",
    "#-------------For prediction evaluation-----------------\n",
    "from sklearn.metrics import *\n",
    "\n",
    "\n",
    "random_state = 100"
   ]
  },
  {
   "cell_type": "markdown",
   "metadata": {},
   "source": [
    "## Converting the dataset into pandas DataFrame"
   ]
  },
  {
   "cell_type": "code",
   "execution_count": 3,
   "metadata": {
    "_cell_guid": "b1076dfc-b9ad-4769-8c92-a6c4dae69d19",
    "_uuid": "8f2839f25d086af736a60e9eeb907d3b93b6e0e5",
    "execution": {
     "iopub.execute_input": "2023-01-27T12:26:34.379846Z",
     "iopub.status.busy": "2023-01-27T12:26:34.379342Z",
     "iopub.status.idle": "2023-01-27T12:26:34.403379Z",
     "shell.execute_reply": "2023-01-27T12:26:34.401776Z",
     "shell.execute_reply.started": "2023-01-27T12:26:34.379805Z"
    }
   },
   "outputs": [
    {
     "name": "stdout",
     "output_type": "stream",
     "text": [
      "/kaggle/input/flight-pred/Flight_Fare.xlsx\n"
     ]
    }
   ],
   "source": [
    "#------------Fetching the file from the directory----------------------\n",
    "import os\n",
    "for dirname, _, filenames in os.walk('/kaggle/input'):\n",
    "    for filename in filenames:\n",
    "        print(os.path.join(dirname, filename))"
   ]
  },
  {
   "cell_type": "code",
   "execution_count": 4,
   "metadata": {
    "execution": {
     "iopub.execute_input": "2023-01-27T12:26:37.788786Z",
     "iopub.status.busy": "2023-01-27T12:26:37.787703Z",
     "iopub.status.idle": "2023-01-27T12:26:40.154938Z",
     "shell.execute_reply": "2023-01-27T12:26:40.153615Z",
     "shell.execute_reply.started": "2023-01-27T12:26:37.788747Z"
    }
   },
   "outputs": [],
   "source": [
    "df = pd.read_excel(\"/kaggle/input/flight-pred/Flight_Fare.xlsx\")"
   ]
  },
  {
   "cell_type": "code",
   "execution_count": 8,
   "metadata": {
    "execution": {
     "iopub.execute_input": "2023-01-27T09:52:46.784868Z",
     "iopub.status.busy": "2023-01-27T09:52:46.784169Z",
     "iopub.status.idle": "2023-01-27T09:52:46.791567Z",
     "shell.execute_reply": "2023-01-27T09:52:46.790201Z",
     "shell.execute_reply.started": "2023-01-27T09:52:46.784829Z"
    }
   },
   "outputs": [
    {
     "name": "stdout",
     "output_type": "stream",
     "text": [
      "Columns : \n",
      "['Airline', 'Date_of_Journey', 'Source', 'Destination', 'Route', 'Dep_Time', 'Arrival_Time', 'Duration', 'Total_Stops', 'Additional_Info', 'Price']\n",
      "Total Columns : 11\n"
     ]
    }
   ],
   "source": [
    "print(f\"Columns : \\n{list(df.columns)}\")\n",
    "print(f\"Total Columns : {len(list(df.columns))}\")"
   ]
  },
  {
   "cell_type": "markdown",
   "metadata": {},
   "source": [
    "### Columns of the dataset :\n",
    "1.\t__Airline:__ So this column will have all the types of airlines like Indigo, Jet Airways, Air India, and many more.\n",
    "2.\t__Date_of_Journey:__ This column will let us know about the date on which the passenger’s journey will start.\n",
    "3.\t__Source:__ This column holds the name of the place from where the passenger’s journey will start.\n",
    "4.\t__Destination:__ This column holds the name of the place to where passengers wanted to travel.\n",
    "5.\t__Route:__ Here we can know about what the route is through which passengers have opted to travel from his/her source to their destination.\n",
    "6. __Dep_Time:__ Departure time is when the passenger will leave from his/her destination.\n",
    "7.\t__Arrival_Time:__ Arrival time is when the passenger will reach his/her destination.\n",
    "8.\t__Duration:__ Duration is the whole period that a flight will take to complete its journey from source to destination.\n",
    "9.\t__Total_Stops:__ This will let us know in how many places flights will stop there for the flight in the whole journey.\n",
    "10.\t__Additional_Info:__ In this column, we will get information about food, kind of food, and other amenities.\n",
    "11.\t__Price:__ Price of the flight for a complete journey including all the expenses before onboarding."
   ]
  },
  {
   "cell_type": "markdown",
   "metadata": {},
   "source": [
    "--------------------------\n",
    "### Basic Checks :"
   ]
  },
  {
   "cell_type": "markdown",
   "metadata": {},
   "source": [
    "#### Shape of the dataset :"
   ]
  },
  {
   "cell_type": "code",
   "execution_count": 9,
   "metadata": {
    "execution": {
     "iopub.execute_input": "2023-01-27T09:54:57.931313Z",
     "iopub.status.busy": "2023-01-27T09:54:57.930804Z",
     "iopub.status.idle": "2023-01-27T09:54:57.938640Z",
     "shell.execute_reply": "2023-01-27T09:54:57.937573Z",
     "shell.execute_reply.started": "2023-01-27T09:54:57.931277Z"
    }
   },
   "outputs": [
    {
     "name": "stdout",
     "output_type": "stream",
     "text": [
      "Rows : 10683\n",
      "Columns : 11\n"
     ]
    }
   ],
   "source": [
    "print(f\"Rows : {df.shape[0]}\\nColumns : {df.shape[1]}\")"
   ]
  },
  {
   "cell_type": "markdown",
   "metadata": {},
   "source": [
    "#### First 5 rows :"
   ]
  },
  {
   "cell_type": "code",
   "execution_count": 10,
   "metadata": {
    "execution": {
     "iopub.execute_input": "2023-01-27T09:55:21.547936Z",
     "iopub.status.busy": "2023-01-27T09:55:21.547413Z",
     "iopub.status.idle": "2023-01-27T09:55:21.578768Z",
     "shell.execute_reply": "2023-01-27T09:55:21.577539Z",
     "shell.execute_reply.started": "2023-01-27T09:55:21.547900Z"
    }
   },
   "outputs": [
    {
     "data": {
      "text/html": [
       "<div>\n",
       "<style scoped>\n",
       "    .dataframe tbody tr th:only-of-type {\n",
       "        vertical-align: middle;\n",
       "    }\n",
       "\n",
       "    .dataframe tbody tr th {\n",
       "        vertical-align: top;\n",
       "    }\n",
       "\n",
       "    .dataframe thead th {\n",
       "        text-align: right;\n",
       "    }\n",
       "</style>\n",
       "<table border=\"1\" class=\"dataframe\">\n",
       "  <thead>\n",
       "    <tr style=\"text-align: right;\">\n",
       "      <th></th>\n",
       "      <th>Airline</th>\n",
       "      <th>Date_of_Journey</th>\n",
       "      <th>Source</th>\n",
       "      <th>Destination</th>\n",
       "      <th>Route</th>\n",
       "      <th>Dep_Time</th>\n",
       "      <th>Arrival_Time</th>\n",
       "      <th>Duration</th>\n",
       "      <th>Total_Stops</th>\n",
       "      <th>Additional_Info</th>\n",
       "      <th>Price</th>\n",
       "    </tr>\n",
       "  </thead>\n",
       "  <tbody>\n",
       "    <tr>\n",
       "      <th>0</th>\n",
       "      <td>IndiGo</td>\n",
       "      <td>24/03/2019</td>\n",
       "      <td>Banglore</td>\n",
       "      <td>New Delhi</td>\n",
       "      <td>BLR → DEL</td>\n",
       "      <td>22:20</td>\n",
       "      <td>01:10 22 Mar</td>\n",
       "      <td>2h 50m</td>\n",
       "      <td>non-stop</td>\n",
       "      <td>No info</td>\n",
       "      <td>3897</td>\n",
       "    </tr>\n",
       "    <tr>\n",
       "      <th>1</th>\n",
       "      <td>Air India</td>\n",
       "      <td>1/05/2019</td>\n",
       "      <td>Kolkata</td>\n",
       "      <td>Banglore</td>\n",
       "      <td>CCU → IXR → BBI → BLR</td>\n",
       "      <td>05:50</td>\n",
       "      <td>13:15</td>\n",
       "      <td>7h 25m</td>\n",
       "      <td>2 stops</td>\n",
       "      <td>No info</td>\n",
       "      <td>7662</td>\n",
       "    </tr>\n",
       "    <tr>\n",
       "      <th>2</th>\n",
       "      <td>Jet Airways</td>\n",
       "      <td>9/06/2019</td>\n",
       "      <td>Delhi</td>\n",
       "      <td>Cochin</td>\n",
       "      <td>DEL → LKO → BOM → COK</td>\n",
       "      <td>09:25</td>\n",
       "      <td>04:25 10 Jun</td>\n",
       "      <td>19h</td>\n",
       "      <td>2 stops</td>\n",
       "      <td>No info</td>\n",
       "      <td>13882</td>\n",
       "    </tr>\n",
       "    <tr>\n",
       "      <th>3</th>\n",
       "      <td>IndiGo</td>\n",
       "      <td>12/05/2019</td>\n",
       "      <td>Kolkata</td>\n",
       "      <td>Banglore</td>\n",
       "      <td>CCU → NAG → BLR</td>\n",
       "      <td>18:05</td>\n",
       "      <td>23:30</td>\n",
       "      <td>5h 25m</td>\n",
       "      <td>1 stop</td>\n",
       "      <td>No info</td>\n",
       "      <td>6218</td>\n",
       "    </tr>\n",
       "    <tr>\n",
       "      <th>4</th>\n",
       "      <td>IndiGo</td>\n",
       "      <td>01/03/2019</td>\n",
       "      <td>Banglore</td>\n",
       "      <td>New Delhi</td>\n",
       "      <td>BLR → NAG → DEL</td>\n",
       "      <td>16:50</td>\n",
       "      <td>21:35</td>\n",
       "      <td>4h 45m</td>\n",
       "      <td>1 stop</td>\n",
       "      <td>No info</td>\n",
       "      <td>13302</td>\n",
       "    </tr>\n",
       "  </tbody>\n",
       "</table>\n",
       "</div>"
      ],
      "text/plain": [
       "       Airline Date_of_Journey    Source Destination                  Route  \\\n",
       "0       IndiGo      24/03/2019  Banglore   New Delhi              BLR → DEL   \n",
       "1    Air India       1/05/2019   Kolkata    Banglore  CCU → IXR → BBI → BLR   \n",
       "2  Jet Airways       9/06/2019     Delhi      Cochin  DEL → LKO → BOM → COK   \n",
       "3       IndiGo      12/05/2019   Kolkata    Banglore        CCU → NAG → BLR   \n",
       "4       IndiGo      01/03/2019  Banglore   New Delhi        BLR → NAG → DEL   \n",
       "\n",
       "  Dep_Time  Arrival_Time Duration Total_Stops Additional_Info  Price  \n",
       "0    22:20  01:10 22 Mar   2h 50m    non-stop         No info   3897  \n",
       "1    05:50         13:15   7h 25m     2 stops         No info   7662  \n",
       "2    09:25  04:25 10 Jun      19h     2 stops         No info  13882  \n",
       "3    18:05         23:30   5h 25m      1 stop         No info   6218  \n",
       "4    16:50         21:35   4h 45m      1 stop         No info  13302  "
      ]
     },
     "execution_count": 10,
     "metadata": {},
     "output_type": "execute_result"
    }
   ],
   "source": [
    "df.head()"
   ]
  },
  {
   "cell_type": "markdown",
   "metadata": {},
   "source": [
    "#### Last 5 rows :"
   ]
  },
  {
   "cell_type": "code",
   "execution_count": 11,
   "metadata": {
    "execution": {
     "iopub.execute_input": "2023-01-27T09:55:47.701414Z",
     "iopub.status.busy": "2023-01-27T09:55:47.700974Z",
     "iopub.status.idle": "2023-01-27T09:55:47.721519Z",
     "shell.execute_reply": "2023-01-27T09:55:47.720157Z",
     "shell.execute_reply.started": "2023-01-27T09:55:47.701383Z"
    }
   },
   "outputs": [
    {
     "data": {
      "text/html": [
       "<div>\n",
       "<style scoped>\n",
       "    .dataframe tbody tr th:only-of-type {\n",
       "        vertical-align: middle;\n",
       "    }\n",
       "\n",
       "    .dataframe tbody tr th {\n",
       "        vertical-align: top;\n",
       "    }\n",
       "\n",
       "    .dataframe thead th {\n",
       "        text-align: right;\n",
       "    }\n",
       "</style>\n",
       "<table border=\"1\" class=\"dataframe\">\n",
       "  <thead>\n",
       "    <tr style=\"text-align: right;\">\n",
       "      <th></th>\n",
       "      <th>Airline</th>\n",
       "      <th>Date_of_Journey</th>\n",
       "      <th>Source</th>\n",
       "      <th>Destination</th>\n",
       "      <th>Route</th>\n",
       "      <th>Dep_Time</th>\n",
       "      <th>Arrival_Time</th>\n",
       "      <th>Duration</th>\n",
       "      <th>Total_Stops</th>\n",
       "      <th>Additional_Info</th>\n",
       "      <th>Price</th>\n",
       "    </tr>\n",
       "  </thead>\n",
       "  <tbody>\n",
       "    <tr>\n",
       "      <th>10678</th>\n",
       "      <td>Air Asia</td>\n",
       "      <td>9/04/2019</td>\n",
       "      <td>Kolkata</td>\n",
       "      <td>Banglore</td>\n",
       "      <td>CCU → BLR</td>\n",
       "      <td>19:55</td>\n",
       "      <td>22:25</td>\n",
       "      <td>2h 30m</td>\n",
       "      <td>non-stop</td>\n",
       "      <td>No info</td>\n",
       "      <td>4107</td>\n",
       "    </tr>\n",
       "    <tr>\n",
       "      <th>10679</th>\n",
       "      <td>Air India</td>\n",
       "      <td>27/04/2019</td>\n",
       "      <td>Kolkata</td>\n",
       "      <td>Banglore</td>\n",
       "      <td>CCU → BLR</td>\n",
       "      <td>20:45</td>\n",
       "      <td>23:20</td>\n",
       "      <td>2h 35m</td>\n",
       "      <td>non-stop</td>\n",
       "      <td>No info</td>\n",
       "      <td>4145</td>\n",
       "    </tr>\n",
       "    <tr>\n",
       "      <th>10680</th>\n",
       "      <td>Jet Airways</td>\n",
       "      <td>27/04/2019</td>\n",
       "      <td>Banglore</td>\n",
       "      <td>Delhi</td>\n",
       "      <td>BLR → DEL</td>\n",
       "      <td>08:20</td>\n",
       "      <td>11:20</td>\n",
       "      <td>3h</td>\n",
       "      <td>non-stop</td>\n",
       "      <td>No info</td>\n",
       "      <td>7229</td>\n",
       "    </tr>\n",
       "    <tr>\n",
       "      <th>10681</th>\n",
       "      <td>Vistara</td>\n",
       "      <td>01/03/2019</td>\n",
       "      <td>Banglore</td>\n",
       "      <td>New Delhi</td>\n",
       "      <td>BLR → DEL</td>\n",
       "      <td>11:30</td>\n",
       "      <td>14:10</td>\n",
       "      <td>2h 40m</td>\n",
       "      <td>non-stop</td>\n",
       "      <td>No info</td>\n",
       "      <td>12648</td>\n",
       "    </tr>\n",
       "    <tr>\n",
       "      <th>10682</th>\n",
       "      <td>Air India</td>\n",
       "      <td>9/05/2019</td>\n",
       "      <td>Delhi</td>\n",
       "      <td>Cochin</td>\n",
       "      <td>DEL → GOI → BOM → COK</td>\n",
       "      <td>10:55</td>\n",
       "      <td>19:15</td>\n",
       "      <td>8h 20m</td>\n",
       "      <td>2 stops</td>\n",
       "      <td>No info</td>\n",
       "      <td>11753</td>\n",
       "    </tr>\n",
       "  </tbody>\n",
       "</table>\n",
       "</div>"
      ],
      "text/plain": [
       "           Airline Date_of_Journey    Source Destination  \\\n",
       "10678     Air Asia       9/04/2019   Kolkata    Banglore   \n",
       "10679    Air India      27/04/2019   Kolkata    Banglore   \n",
       "10680  Jet Airways      27/04/2019  Banglore       Delhi   \n",
       "10681      Vistara      01/03/2019  Banglore   New Delhi   \n",
       "10682    Air India       9/05/2019     Delhi      Cochin   \n",
       "\n",
       "                       Route Dep_Time Arrival_Time Duration Total_Stops  \\\n",
       "10678              CCU → BLR    19:55        22:25   2h 30m    non-stop   \n",
       "10679              CCU → BLR    20:45        23:20   2h 35m    non-stop   \n",
       "10680              BLR → DEL    08:20        11:20       3h    non-stop   \n",
       "10681              BLR → DEL    11:30        14:10   2h 40m    non-stop   \n",
       "10682  DEL → GOI → BOM → COK    10:55        19:15   8h 20m     2 stops   \n",
       "\n",
       "      Additional_Info  Price  \n",
       "10678         No info   4107  \n",
       "10679         No info   4145  \n",
       "10680         No info   7229  \n",
       "10681         No info  12648  \n",
       "10682         No info  11753  "
      ]
     },
     "execution_count": 11,
     "metadata": {},
     "output_type": "execute_result"
    }
   ],
   "source": [
    "df.tail()"
   ]
  },
  {
   "cell_type": "markdown",
   "metadata": {},
   "source": [
    "#### Information of the dataset :"
   ]
  },
  {
   "cell_type": "code",
   "execution_count": 12,
   "metadata": {
    "execution": {
     "iopub.execute_input": "2023-01-27T09:56:30.947670Z",
     "iopub.status.busy": "2023-01-27T09:56:30.946240Z",
     "iopub.status.idle": "2023-01-27T09:56:30.984290Z",
     "shell.execute_reply": "2023-01-27T09:56:30.982652Z",
     "shell.execute_reply.started": "2023-01-27T09:56:30.947621Z"
    }
   },
   "outputs": [
    {
     "name": "stdout",
     "output_type": "stream",
     "text": [
      "<class 'pandas.core.frame.DataFrame'>\n",
      "RangeIndex: 10683 entries, 0 to 10682\n",
      "Data columns (total 11 columns):\n",
      " #   Column           Non-Null Count  Dtype \n",
      "---  ------           --------------  ----- \n",
      " 0   Airline          10683 non-null  object\n",
      " 1   Date_of_Journey  10683 non-null  object\n",
      " 2   Source           10683 non-null  object\n",
      " 3   Destination      10683 non-null  object\n",
      " 4   Route            10682 non-null  object\n",
      " 5   Dep_Time         10683 non-null  object\n",
      " 6   Arrival_Time     10683 non-null  object\n",
      " 7   Duration         10683 non-null  object\n",
      " 8   Total_Stops      10682 non-null  object\n",
      " 9   Additional_Info  10683 non-null  object\n",
      " 10  Price            10683 non-null  int64 \n",
      "dtypes: int64(1), object(10)\n",
      "memory usage: 918.2+ KB\n"
     ]
    }
   ],
   "source": [
    "df.info()"
   ]
  },
  {
   "cell_type": "markdown",
   "metadata": {},
   "source": [
    "#### Statistical Descriptions of numerical columns (here we have Price) :"
   ]
  },
  {
   "cell_type": "code",
   "execution_count": 13,
   "metadata": {
    "execution": {
     "iopub.execute_input": "2023-01-27T09:57:04.546575Z",
     "iopub.status.busy": "2023-01-27T09:57:04.546112Z",
     "iopub.status.idle": "2023-01-27T09:57:04.572633Z",
     "shell.execute_reply": "2023-01-27T09:57:04.571416Z",
     "shell.execute_reply.started": "2023-01-27T09:57:04.546537Z"
    }
   },
   "outputs": [
    {
     "data": {
      "text/html": [
       "<div>\n",
       "<style scoped>\n",
       "    .dataframe tbody tr th:only-of-type {\n",
       "        vertical-align: middle;\n",
       "    }\n",
       "\n",
       "    .dataframe tbody tr th {\n",
       "        vertical-align: top;\n",
       "    }\n",
       "\n",
       "    .dataframe thead th {\n",
       "        text-align: right;\n",
       "    }\n",
       "</style>\n",
       "<table border=\"1\" class=\"dataframe\">\n",
       "  <thead>\n",
       "    <tr style=\"text-align: right;\">\n",
       "      <th></th>\n",
       "      <th>count</th>\n",
       "      <th>mean</th>\n",
       "      <th>std</th>\n",
       "      <th>min</th>\n",
       "      <th>25%</th>\n",
       "      <th>50%</th>\n",
       "      <th>75%</th>\n",
       "      <th>max</th>\n",
       "    </tr>\n",
       "  </thead>\n",
       "  <tbody>\n",
       "    <tr>\n",
       "      <th>Price</th>\n",
       "      <td>10683.0</td>\n",
       "      <td>9087.064121</td>\n",
       "      <td>4611.359167</td>\n",
       "      <td>1759.0</td>\n",
       "      <td>5277.0</td>\n",
       "      <td>8372.0</td>\n",
       "      <td>12373.0</td>\n",
       "      <td>79512.0</td>\n",
       "    </tr>\n",
       "  </tbody>\n",
       "</table>\n",
       "</div>"
      ],
      "text/plain": [
       "         count         mean          std     min     25%     50%      75%  \\\n",
       "Price  10683.0  9087.064121  4611.359167  1759.0  5277.0  8372.0  12373.0   \n",
       "\n",
       "           max  \n",
       "Price  79512.0  "
      ]
     },
     "execution_count": 13,
     "metadata": {},
     "output_type": "execute_result"
    }
   ],
   "source": [
    "df.describe().T"
   ]
  },
  {
   "cell_type": "markdown",
   "metadata": {},
   "source": [
    "#### Checking of missing values :"
   ]
  },
  {
   "cell_type": "code",
   "execution_count": 14,
   "metadata": {
    "execution": {
     "iopub.execute_input": "2023-01-27T10:14:51.283513Z",
     "iopub.status.busy": "2023-01-27T10:14:51.282871Z",
     "iopub.status.idle": "2023-01-27T10:14:51.301840Z",
     "shell.execute_reply": "2023-01-27T10:14:51.300421Z",
     "shell.execute_reply.started": "2023-01-27T10:14:51.283448Z"
    }
   },
   "outputs": [
    {
     "data": {
      "text/plain": [
       "Airline            0\n",
       "Date_of_Journey    0\n",
       "Source             0\n",
       "Destination        0\n",
       "Route              1\n",
       "Dep_Time           0\n",
       "Arrival_Time       0\n",
       "Duration           0\n",
       "Total_Stops        1\n",
       "Additional_Info    0\n",
       "Price              0\n",
       "dtype: int64"
      ]
     },
     "execution_count": 14,
     "metadata": {},
     "output_type": "execute_result"
    }
   ],
   "source": [
    "df.isnull().sum()"
   ]
  },
  {
   "cell_type": "code",
   "execution_count": 15,
   "metadata": {
    "execution": {
     "iopub.execute_input": "2023-01-27T10:15:00.431391Z",
     "iopub.status.busy": "2023-01-27T10:15:00.430908Z",
     "iopub.status.idle": "2023-01-27T10:15:00.450934Z",
     "shell.execute_reply": "2023-01-27T10:15:00.449475Z",
     "shell.execute_reply.started": "2023-01-27T10:15:00.431355Z"
    }
   },
   "outputs": [
    {
     "data": {
      "text/html": [
       "<div>\n",
       "<style scoped>\n",
       "    .dataframe tbody tr th:only-of-type {\n",
       "        vertical-align: middle;\n",
       "    }\n",
       "\n",
       "    .dataframe tbody tr th {\n",
       "        vertical-align: top;\n",
       "    }\n",
       "\n",
       "    .dataframe thead th {\n",
       "        text-align: right;\n",
       "    }\n",
       "</style>\n",
       "<table border=\"1\" class=\"dataframe\">\n",
       "  <thead>\n",
       "    <tr style=\"text-align: right;\">\n",
       "      <th></th>\n",
       "      <th>Airline</th>\n",
       "      <th>Date_of_Journey</th>\n",
       "      <th>Source</th>\n",
       "      <th>Destination</th>\n",
       "      <th>Route</th>\n",
       "      <th>Dep_Time</th>\n",
       "      <th>Arrival_Time</th>\n",
       "      <th>Duration</th>\n",
       "      <th>Total_Stops</th>\n",
       "      <th>Additional_Info</th>\n",
       "      <th>Price</th>\n",
       "    </tr>\n",
       "  </thead>\n",
       "  <tbody>\n",
       "    <tr>\n",
       "      <th>9039</th>\n",
       "      <td>Air India</td>\n",
       "      <td>6/05/2019</td>\n",
       "      <td>Delhi</td>\n",
       "      <td>Cochin</td>\n",
       "      <td>NaN</td>\n",
       "      <td>09:45</td>\n",
       "      <td>09:25 07 May</td>\n",
       "      <td>23h 40m</td>\n",
       "      <td>NaN</td>\n",
       "      <td>No info</td>\n",
       "      <td>7480</td>\n",
       "    </tr>\n",
       "  </tbody>\n",
       "</table>\n",
       "</div>"
      ],
      "text/plain": [
       "        Airline Date_of_Journey Source Destination Route Dep_Time  \\\n",
       "9039  Air India       6/05/2019  Delhi      Cochin   NaN    09:45   \n",
       "\n",
       "      Arrival_Time Duration Total_Stops Additional_Info  Price  \n",
       "9039  09:25 07 May  23h 40m         NaN         No info   7480  "
      ]
     },
     "execution_count": 15,
     "metadata": {},
     "output_type": "execute_result"
    }
   ],
   "source": [
    "df.loc[df[\"Route\"].isnull()]"
   ]
  },
  {
   "cell_type": "markdown",
   "metadata": {},
   "source": [
    "__Insight :__ Our dataset has 2 missing values in the \"Route\" and \"Total_Stops\" columns which is in row of index __9039__"
   ]
  },
  {
   "cell_type": "markdown",
   "metadata": {},
   "source": [
    "#### Datatypes of the columns :"
   ]
  },
  {
   "cell_type": "code",
   "execution_count": 16,
   "metadata": {
    "execution": {
     "iopub.execute_input": "2023-01-27T10:19:11.543270Z",
     "iopub.status.busy": "2023-01-27T10:19:11.542600Z",
     "iopub.status.idle": "2023-01-27T10:19:11.553075Z",
     "shell.execute_reply": "2023-01-27T10:19:11.551378Z",
     "shell.execute_reply.started": "2023-01-27T10:19:11.543217Z"
    }
   },
   "outputs": [
    {
     "name": "stdout",
     "output_type": "stream",
     "text": [
      "Airline : object\n",
      "Date_of_Journey : object\n",
      "Source : object\n",
      "Destination : object\n",
      "Route : object\n",
      "Dep_Time : object\n",
      "Arrival_Time : object\n",
      "Duration : object\n",
      "Total_Stops : object\n",
      "Additional_Info : object\n",
      "Price : int64\n"
     ]
    }
   ],
   "source": [
    "for x in df.columns:\n",
    "    print(f\"{x} : {df[x].dtypes}\")"
   ]
  },
  {
   "cell_type": "markdown",
   "metadata": {},
   "source": [
    "### Data preprocessing"
   ]
  },
  {
   "cell_type": "markdown",
   "metadata": {},
   "source": [
    "__Tasks :__<br>\n",
    "1. Handling missing values.\n",
    "1. Create new columns for journey day and month.\n",
    "1. Create new columns for Departure hour and minute.\n",
    "1. Create new columns for Arrival hour and minute.\n",
    "1. Create new columns for Duration hour and minute."
   ]
  },
  {
   "cell_type": "code",
   "execution_count": 6,
   "metadata": {
    "execution": {
     "iopub.execute_input": "2023-01-27T12:26:52.081508Z",
     "iopub.status.busy": "2023-01-27T12:26:52.080972Z",
     "iopub.status.idle": "2023-01-27T12:26:52.089403Z",
     "shell.execute_reply": "2023-01-27T12:26:52.087957Z",
     "shell.execute_reply.started": "2023-01-27T12:26:52.081453Z"
    }
   },
   "outputs": [],
   "source": [
    "## Creating a copy of actual dataset \"df\"\n",
    "\n",
    "df_new = df.copy()"
   ]
  },
  {
   "cell_type": "markdown",
   "metadata": {},
   "source": [
    "__1. Handling missing values :__"
   ]
  },
  {
   "cell_type": "code",
   "execution_count": 7,
   "metadata": {
    "execution": {
     "iopub.execute_input": "2023-01-27T12:26:54.747317Z",
     "iopub.status.busy": "2023-01-27T12:26:54.746127Z",
     "iopub.status.idle": "2023-01-27T12:26:54.769274Z",
     "shell.execute_reply": "2023-01-27T12:26:54.767629Z",
     "shell.execute_reply.started": "2023-01-27T12:26:54.747208Z"
    }
   },
   "outputs": [],
   "source": [
    "# Since dataset has only one row having missing values, hence we drop it\n",
    "df_new.drop(df_new.loc[df_new[\"Route\"].isnull()].index[0], axis = 0, inplace = True)"
   ]
  },
  {
   "cell_type": "markdown",
   "metadata": {},
   "source": [
    "__2. Creating new columns for journey_day and journey_month :__"
   ]
  },
  {
   "cell_type": "code",
   "execution_count": 8,
   "metadata": {
    "execution": {
     "iopub.execute_input": "2023-01-27T12:26:57.606467Z",
     "iopub.status.busy": "2023-01-27T12:26:57.605421Z",
     "iopub.status.idle": "2023-01-27T12:26:57.636490Z",
     "shell.execute_reply": "2023-01-27T12:26:57.634530Z",
     "shell.execute_reply.started": "2023-01-27T12:26:57.606408Z"
    }
   },
   "outputs": [],
   "source": [
    "df_new[\"Journey_day\"] = pd.to_datetime(df_new[\"Date_of_Journey\"], format='%d/%m/%Y').dt.day\n",
    "df_new[\"Journey_month\"] = pd.to_datetime(df_new[\"Date_of_Journey\"], format='%d/%m/%Y').dt.month\n",
    "\n",
    "df_new.drop(\"Date_of_Journey\", axis = 1, inplace = True) # dropping the Date_of_Journey feature"
   ]
  },
  {
   "cell_type": "markdown",
   "metadata": {},
   "source": [
    "__3. Create new columns for Departure hour and minute :__"
   ]
  },
  {
   "cell_type": "code",
   "execution_count": 9,
   "metadata": {
    "execution": {
     "iopub.execute_input": "2023-01-27T12:27:00.179524Z",
     "iopub.status.busy": "2023-01-27T12:27:00.179040Z",
     "iopub.status.idle": "2023-01-27T12:27:00.223369Z",
     "shell.execute_reply": "2023-01-27T12:27:00.222054Z",
     "shell.execute_reply.started": "2023-01-27T12:27:00.179482Z"
    }
   },
   "outputs": [],
   "source": [
    "df_new[\"Dep_hour\"] = pd.to_datetime(df_new[\"Dep_Time\"]).dt.hour\n",
    "df_new[\"Dep_minute\"] = pd.to_datetime(df_new[\"Dep_Time\"]).dt.minute\n",
    "\n",
    "df_new.drop(\"Dep_Time\", axis = 1, inplace = True) # dropping the Dep_Time feature"
   ]
  },
  {
   "cell_type": "markdown",
   "metadata": {},
   "source": [
    "__4. Create new columns for Arrival hour and minute :__"
   ]
  },
  {
   "cell_type": "code",
   "execution_count": 10,
   "metadata": {
    "execution": {
     "iopub.execute_input": "2023-01-27T12:27:02.868474Z",
     "iopub.status.busy": "2023-01-27T12:27:02.867784Z",
     "iopub.status.idle": "2023-01-27T12:27:03.106274Z",
     "shell.execute_reply": "2023-01-27T12:27:03.105144Z",
     "shell.execute_reply.started": "2023-01-27T12:27:02.868434Z"
    }
   },
   "outputs": [],
   "source": [
    "df_new[\"Arrival_hour\"] = pd.to_datetime(df_new[\"Arrival_Time\"]).dt.hour\n",
    "df_new[\"Arrival_minute\"] = pd.to_datetime(df_new[\"Arrival_Time\"]).dt.minute\n",
    "\n",
    "df_new.drop(\"Arrival_Time\", axis = 1, inplace = True) # dropping the Arrival_Time feature"
   ]
  },
  {
   "cell_type": "markdown",
   "metadata": {},
   "source": [
    "__5. Create new columns for Duration hour and minute :__"
   ]
  },
  {
   "cell_type": "code",
   "execution_count": 11,
   "metadata": {
    "execution": {
     "iopub.execute_input": "2023-01-27T12:27:05.563248Z",
     "iopub.status.busy": "2023-01-27T12:27:05.562533Z",
     "iopub.status.idle": "2023-01-27T12:27:05.667541Z",
     "shell.execute_reply": "2023-01-27T12:27:05.666148Z",
     "shell.execute_reply.started": "2023-01-27T12:27:05.563203Z"
    }
   },
   "outputs": [],
   "source": [
    "## Appending each splitted elements in a list \n",
    "dur_var = []\n",
    "\n",
    "for x in df_new.index:\n",
    "    dur_var.append(df_new[\"Duration\"][x].split())"
   ]
  },
  {
   "cell_type": "code",
   "execution_count": 24,
   "metadata": {
    "execution": {
     "iopub.execute_input": "2023-01-27T10:30:35.166096Z",
     "iopub.status.busy": "2023-01-27T10:30:35.165648Z",
     "iopub.status.idle": "2023-01-27T10:30:35.172969Z",
     "shell.execute_reply": "2023-01-27T10:30:35.171623Z",
     "shell.execute_reply.started": "2023-01-27T10:30:35.166063Z"
    }
   },
   "outputs": [
    {
     "name": "stdout",
     "output_type": "stream",
     "text": [
      "['2h', '50m']\n",
      "['7h', '25m']\n",
      "['19h']\n"
     ]
    }
   ],
   "source": [
    "print(dur_var[0])\n",
    "print(dur_var[1])\n",
    "print(dur_var[2])"
   ]
  },
  {
   "cell_type": "code",
   "execution_count": 12,
   "metadata": {
    "execution": {
     "iopub.execute_input": "2023-01-27T12:27:07.918802Z",
     "iopub.status.busy": "2023-01-27T12:27:07.918378Z",
     "iopub.status.idle": "2023-01-27T12:27:07.948628Z",
     "shell.execute_reply": "2023-01-27T12:27:07.947182Z",
     "shell.execute_reply.started": "2023-01-27T12:27:07.918770Z"
    }
   },
   "outputs": [],
   "source": [
    "dur_hour = []\n",
    "dur_min = []\n",
    "\n",
    "for i in dur_var:\n",
    "    if len(i) == 2:\n",
    "        dur_hour.append(int(i[0][:-1]))\n",
    "        dur_min.append(int(i[1][:-1]))\n",
    "    elif len(i) == 1:\n",
    "        dur_hour.append(int(i[0][:-1]))\n",
    "        dur_min.append(0)\n",
    "        \n",
    "df_new[\"Duration_hour\"] = dur_hour\n",
    "df_new[\"Duration_min\"] = dur_min"
   ]
  },
  {
   "cell_type": "code",
   "execution_count": 13,
   "metadata": {
    "execution": {
     "iopub.execute_input": "2023-01-27T12:27:10.832257Z",
     "iopub.status.busy": "2023-01-27T12:27:10.831817Z",
     "iopub.status.idle": "2023-01-27T12:27:10.842550Z",
     "shell.execute_reply": "2023-01-27T12:27:10.841308Z",
     "shell.execute_reply.started": "2023-01-27T12:27:10.832212Z"
    }
   },
   "outputs": [],
   "source": [
    "df_new.drop(columns = [\"Duration\"], inplace = True)"
   ]
  },
  {
   "cell_type": "markdown",
   "metadata": {},
   "source": [
    "__Dropping Route and Additional_info fetaures :__<br>\n",
    "- \"Route\" and \"Total_stops\" provides same informations\n",
    "- \"Additional_info\" has 8344 data as \"No Info\", which is 78.11% of the whole data"
   ]
  },
  {
   "cell_type": "code",
   "execution_count": 14,
   "metadata": {
    "execution": {
     "iopub.execute_input": "2023-01-27T12:27:14.279471Z",
     "iopub.status.busy": "2023-01-27T12:27:14.279060Z",
     "iopub.status.idle": "2023-01-27T12:27:14.289028Z",
     "shell.execute_reply": "2023-01-27T12:27:14.286412Z",
     "shell.execute_reply.started": "2023-01-27T12:27:14.279438Z"
    }
   },
   "outputs": [],
   "source": [
    "df_new.drop([\"Route\", \"Additional_Info\"], axis = 1, inplace = True)"
   ]
  },
  {
   "cell_type": "code",
   "execution_count": 28,
   "metadata": {
    "execution": {
     "iopub.execute_input": "2023-01-27T10:31:29.893203Z",
     "iopub.status.busy": "2023-01-27T10:31:29.892795Z",
     "iopub.status.idle": "2023-01-27T10:31:29.908671Z",
     "shell.execute_reply": "2023-01-27T10:31:29.907138Z",
     "shell.execute_reply.started": "2023-01-27T10:31:29.893172Z"
    }
   },
   "outputs": [
    {
     "name": "stdout",
     "output_type": "stream",
     "text": [
      "Jet Airways                          3849\n",
      "IndiGo                               2053\n",
      "Air India                            1751\n",
      "Multiple carriers                    1196\n",
      "SpiceJet                              818\n",
      "Vistara                               479\n",
      "Air Asia                              319\n",
      "GoAir                                 194\n",
      "Multiple carriers Premium economy      13\n",
      "Jet Airways Business                    6\n",
      "Vistara Premium economy                 3\n",
      "Trujet                                  1\n",
      "Name: Airline, dtype: int64\n",
      "--------------------------------------------------\n",
      "Delhi       4536\n",
      "Kolkata     2871\n",
      "Banglore    2197\n",
      "Mumbai       697\n",
      "Chennai      381\n",
      "Name: Source, dtype: int64\n",
      "--------------------------------------------------\n",
      "Cochin       4536\n",
      "Banglore     2871\n",
      "Delhi        1265\n",
      "New Delhi     932\n",
      "Hyderabad     697\n",
      "Kolkata       381\n",
      "Name: Destination, dtype: int64\n",
      "--------------------------------------------------\n"
     ]
    }
   ],
   "source": [
    "nominal_features = [\"Airline\", \"Source\", \"Destination\"]\n",
    "for x in nominal_features:\n",
    "    print(df_new[x].value_counts())\n",
    "    print(\"-\" * 50)"
   ]
  },
  {
   "cell_type": "markdown",
   "metadata": {},
   "source": [
    "__Insights :__<br>\n",
    "1. Airline : Since \"Jet Airways Business\", \"Vistara Premium economy\" and \"Trujet\" are having less frequencies, hence we put these 3 categories into \"Others\" category.\n",
    "1. Destination : Since Airport for \"Delhi\" and \"New Delhi\" are same, hence we take both the categories as one \"Delhi\"."
   ]
  },
  {
   "cell_type": "markdown",
   "metadata": {},
   "source": [
    "__1. Separating into \"Others\" category__"
   ]
  },
  {
   "cell_type": "code",
   "execution_count": 15,
   "metadata": {
    "execution": {
     "iopub.execute_input": "2023-01-27T12:27:20.905151Z",
     "iopub.status.busy": "2023-01-27T12:27:20.904573Z",
     "iopub.status.idle": "2023-01-27T12:27:20.916165Z",
     "shell.execute_reply": "2023-01-27T12:27:20.914917Z",
     "shell.execute_reply.started": "2023-01-27T12:27:20.905104Z"
    }
   },
   "outputs": [
    {
     "name": "stdout",
     "output_type": "stream",
     "text": [
      "Airlines with minimum frequencies : ['Jet Airways Business', 'Vistara Premium economy', 'Trujet']\n"
     ]
    }
   ],
   "source": [
    "airline_stats = df_new[\"Airline\"].value_counts()\n",
    "\n",
    "airline_with_less_freq = list(airline_stats[airline_stats <= 10].index)\n",
    "\n",
    "print(f\"Airlines with minimum frequencies : {airline_with_less_freq}\")"
   ]
  },
  {
   "cell_type": "code",
   "execution_count": 16,
   "metadata": {
    "execution": {
     "iopub.execute_input": "2023-01-27T12:27:25.655420Z",
     "iopub.status.busy": "2023-01-27T12:27:25.655015Z",
     "iopub.status.idle": "2023-01-27T12:27:25.667882Z",
     "shell.execute_reply": "2023-01-27T12:27:25.666486Z",
     "shell.execute_reply.started": "2023-01-27T12:27:25.655387Z"
    }
   },
   "outputs": [],
   "source": [
    "df_new.loc[(df_new[\"Airline\"] == 'Jet Airways Business') | (df_new[\"Airline\"] == 'Vistara Premium economy') | (df_new[\"Airline\"] == 'Trujet'), \"Airline\"] = \"Other\""
   ]
  },
  {
   "cell_type": "code",
   "execution_count": 31,
   "metadata": {
    "execution": {
     "iopub.execute_input": "2023-01-27T10:35:06.081226Z",
     "iopub.status.busy": "2023-01-27T10:35:06.080771Z",
     "iopub.status.idle": "2023-01-27T10:35:06.092610Z",
     "shell.execute_reply": "2023-01-27T10:35:06.091283Z",
     "shell.execute_reply.started": "2023-01-27T10:35:06.081189Z"
    }
   },
   "outputs": [
    {
     "data": {
      "text/plain": [
       "Jet Airways                          3849\n",
       "IndiGo                               2053\n",
       "Air India                            1751\n",
       "Multiple carriers                    1196\n",
       "SpiceJet                              818\n",
       "Vistara                               479\n",
       "Air Asia                              319\n",
       "GoAir                                 194\n",
       "Multiple carriers Premium economy      13\n",
       "Other                                  10\n",
       "Name: Airline, dtype: int64"
      ]
     },
     "execution_count": 31,
     "metadata": {},
     "output_type": "execute_result"
    }
   ],
   "source": [
    "df_new[\"Airline\"].value_counts()"
   ]
  },
  {
   "cell_type": "markdown",
   "metadata": {},
   "source": [
    "__2. Merging Delhi and New Delhi as one category Delhi__"
   ]
  },
  {
   "cell_type": "code",
   "execution_count": 17,
   "metadata": {
    "execution": {
     "iopub.execute_input": "2023-01-27T12:27:30.606130Z",
     "iopub.status.busy": "2023-01-27T12:27:30.605218Z",
     "iopub.status.idle": "2023-01-27T12:27:30.621339Z",
     "shell.execute_reply": "2023-01-27T12:27:30.619756Z",
     "shell.execute_reply.started": "2023-01-27T12:27:30.605927Z"
    }
   },
   "outputs": [],
   "source": [
    "df_new.loc[(df_new[\"Destination\"] == \"Delhi\") | (df_new[\"Destination\"] == \"New Delhi\"), \"Destination\"] = \"Delhi\""
   ]
  },
  {
   "cell_type": "code",
   "execution_count": 33,
   "metadata": {
    "execution": {
     "iopub.execute_input": "2023-01-27T10:35:47.723988Z",
     "iopub.status.busy": "2023-01-27T10:35:47.723528Z",
     "iopub.status.idle": "2023-01-27T10:35:47.734331Z",
     "shell.execute_reply": "2023-01-27T10:35:47.732832Z",
     "shell.execute_reply.started": "2023-01-27T10:35:47.723951Z"
    }
   },
   "outputs": [
    {
     "data": {
      "text/plain": [
       "Cochin       4536\n",
       "Banglore     2871\n",
       "Delhi        2197\n",
       "Hyderabad     697\n",
       "Kolkata       381\n",
       "Name: Destination, dtype: int64"
      ]
     },
     "execution_count": 33,
     "metadata": {},
     "output_type": "execute_result"
    }
   ],
   "source": [
    "df_new[\"Destination\"].value_counts()"
   ]
  },
  {
   "cell_type": "markdown",
   "metadata": {},
   "source": [
    "## EDA"
   ]
  },
  {
   "cell_type": "markdown",
   "metadata": {},
   "source": [
    "__1. Airline and Price__"
   ]
  },
  {
   "cell_type": "code",
   "execution_count": 34,
   "metadata": {
    "execution": {
     "iopub.execute_input": "2023-01-27T10:36:56.532495Z",
     "iopub.status.busy": "2023-01-27T10:36:56.531990Z",
     "iopub.status.idle": "2023-01-27T10:36:58.202079Z",
     "shell.execute_reply": "2023-01-27T10:36:58.200501Z",
     "shell.execute_reply.started": "2023-01-27T10:36:56.532459Z"
    }
   },
   "outputs": [
    {
     "data": {
      "image/png": "[encoded data removed]",
      "text/plain": [
       "<Figure size 1080x288 with 2 Axes>"
      ]
     },
     "metadata": {},
     "output_type": "display_data"
    }
   ],
   "source": [
    "plt.figure(figsize = (15,4))\n",
    "plt.subplot(1, 3, 1)\n",
    "sns.barplot(df_new[\"Price\"], df[\"Airline\"])\n",
    "plt.title(\"All Airlines\")\n",
    "plt.subplot(1, 3, 3)\n",
    "sns.barplot(df_new[\"Price\"], df_new[\"Airline\"])\n",
    "plt.title(\"'Jet Airways Business', 'Vistara Premium economy' and 'Trujet' merged in Other category\")\n",
    "plt.show()"
   ]
  },
  {
   "cell_type": "code",
   "execution_count": 36,
   "metadata": {
    "execution": {
     "iopub.execute_input": "2023-01-27T10:37:22.148425Z",
     "iopub.status.busy": "2023-01-27T10:37:22.148007Z",
     "iopub.status.idle": "2023-01-27T10:37:22.643063Z",
     "shell.execute_reply": "2023-01-27T10:37:22.642184Z",
     "shell.execute_reply.started": "2023-01-27T10:37:22.148394Z"
    }
   },
   "outputs": [
    {
     "data": {
      "image/png": "[encoded data removed]",
      "text/plain": [
       "<Figure size 1800x504 with 1 Axes>"
      ]
     },
     "metadata": {},
     "output_type": "display_data"
    }
   ],
   "source": [
    "fig , ax  =  plt.subplots(figsize  =(25, 7))\n",
    "sns.boxplot(x='Airline', y='Price', data=df.sort_values(\"Price\", ascending = False));"
   ]
  },
  {
   "cell_type": "markdown",
   "metadata": {},
   "source": [
    "__Insights :__ From the the above plot we observed that \"Jet Airways Business\" is the costliest Airline and \"Trujet\" is the cheapest Airline. All the Airlines have outlier except Vistara Premium economy and Trujet Airways. Except the price of Jet Airways, almost all the other Airlines' Prices are economical."
   ]
  },
  {
   "cell_type": "markdown",
   "metadata": {},
   "source": [
    "__2. Jouney_month and Price__"
   ]
  },
  {
   "cell_type": "code",
   "execution_count": 37,
   "metadata": {
    "execution": {
     "iopub.execute_input": "2023-01-27T10:47:44.208835Z",
     "iopub.status.busy": "2023-01-27T10:47:44.208267Z",
     "iopub.status.idle": "2023-01-27T10:47:44.586075Z",
     "shell.execute_reply": "2023-01-27T10:47:44.584499Z",
     "shell.execute_reply.started": "2023-01-27T10:47:44.208798Z"
    }
   },
   "outputs": [
    {
     "data": {
      "image/png": "[encoded data removed]",
      "text/plain": [
       "<Figure size 432x360 with 1 Axes>"
      ]
     },
     "metadata": {},
     "output_type": "display_data"
    }
   ],
   "source": [
    "plt.figure(figsize = (6,5))\n",
    "sns.barplot(df_new[\"Journey_month\"], df_new[\"Price\"])\n",
    "plt.show()"
   ]
  },
  {
   "cell_type": "code",
   "execution_count": 38,
   "metadata": {
    "execution": {
     "iopub.execute_input": "2023-01-27T10:50:53.275545Z",
     "iopub.status.busy": "2023-01-27T10:50:53.275007Z",
     "iopub.status.idle": "2023-01-27T10:50:53.611408Z",
     "shell.execute_reply": "2023-01-27T10:50:53.610424Z",
     "shell.execute_reply.started": "2023-01-27T10:50:53.275505Z"
    }
   },
   "outputs": [
    {
     "data": {
      "image/png": "[encoded data removed]",
      "text/plain": [
       "<Figure size 1800x720 with 1 Axes>"
      ]
     },
     "metadata": {},
     "output_type": "display_data"
    }
   ],
   "source": [
    "fig , ax  =  plt.subplots(figsize  =(25, 10))\n",
    "sns.boxplot(x='Journey_month', y='Price', data=df_new.sort_values(\"Price\", ascending = False));"
   ]
  },
  {
   "cell_type": "markdown",
   "metadata": {},
   "source": [
    "__Insights :__ In March, the price of the flights are quite higher than April, May and June."
   ]
  },
  {
   "cell_type": "markdown",
   "metadata": {},
   "source": [
    "__3. Dep_hour and Price__"
   ]
  },
  {
   "cell_type": "code",
   "execution_count": 39,
   "metadata": {
    "execution": {
     "iopub.execute_input": "2023-01-27T10:52:44.994599Z",
     "iopub.status.busy": "2023-01-27T10:52:44.994016Z",
     "iopub.status.idle": "2023-01-27T10:52:46.954213Z",
     "shell.execute_reply": "2023-01-27T10:52:46.952848Z",
     "shell.execute_reply.started": "2023-01-27T10:52:44.994558Z"
    }
   },
   "outputs": [
    {
     "data": {
      "image/png": "[encoded data removed]",
      "text/plain": [
       "<Figure size 1080x576 with 2 Axes>"
      ]
     },
     "metadata": {},
     "output_type": "display_data"
    }
   ],
   "source": [
    "plt.figure(figsize = (15,8))\n",
    "plt.subplot(2,1,1)\n",
    "sns.barplot(df_new[\"Dep_hour\"], df_new[\"Price\"])\n",
    "plt.subplot(2,1,2)\n",
    "sns.lineplot(df_new[\"Dep_hour\"], df_new[\"Price\"])\n",
    "plt.show()"
   ]
  },
  {
   "cell_type": "markdown",
   "metadata": {},
   "source": [
    "__Insight :__ From the above plot, its not following a certain patterns. But afternoon and some of the evening flights are having quite higher price than any other slots."
   ]
  },
  {
   "cell_type": "markdown",
   "metadata": {},
   "source": [
    "__4. Total_Stops and Price__"
   ]
  },
  {
   "cell_type": "code",
   "execution_count": 41,
   "metadata": {
    "execution": {
     "iopub.execute_input": "2023-01-27T10:54:12.124932Z",
     "iopub.status.busy": "2023-01-27T10:54:12.124467Z",
     "iopub.status.idle": "2023-01-27T10:54:12.903893Z",
     "shell.execute_reply": "2023-01-27T10:54:12.902512Z",
     "shell.execute_reply.started": "2023-01-27T10:54:12.124900Z"
    }
   },
   "outputs": [
    {
     "data": {
      "image/png": "[encoded data removed]",
      "text/plain": [
       "<Figure size 1656x360 with 2 Axes>"
      ]
     },
     "metadata": {},
     "output_type": "display_data"
    }
   ],
   "source": [
    "plt.figure(figsize = (23,5))\n",
    "plt.subplot(1,3,1)\n",
    "sns.barplot(df_new[\"Total_Stops\"], df_new[\"Price\"])\n",
    "plt.subplot(1,3,2)\n",
    "sns.lineplot(df_new[\"Total_Stops\"], df_new[\"Price\"])\n",
    "plt.show()"
   ]
  },
  {
   "cell_type": "markdown",
   "metadata": {},
   "source": [
    "__Insight :__ The Price of the Fight increases as the number of Total_Stops increases."
   ]
  },
  {
   "cell_type": "markdown",
   "metadata": {},
   "source": [
    "__5. Total_Stops and Airline__"
   ]
  },
  {
   "cell_type": "code",
   "execution_count": 42,
   "metadata": {
    "execution": {
     "iopub.execute_input": "2023-01-27T10:56:33.760958Z",
     "iopub.status.busy": "2023-01-27T10:56:33.760450Z",
     "iopub.status.idle": "2023-01-27T10:56:34.216933Z",
     "shell.execute_reply": "2023-01-27T10:56:34.215450Z",
     "shell.execute_reply.started": "2023-01-27T10:56:33.760924Z"
    }
   },
   "outputs": [
    {
     "data": {
      "image/png": "[encoded data removed]",
      "text/plain": [
       "<Figure size 2160x288 with 1 Axes>"
      ]
     },
     "metadata": {},
     "output_type": "display_data"
    }
   ],
   "source": [
    "plt.figure(figsize = (30,4))\n",
    "sns.countplot(df[\"Airline\"], hue = df[\"Total_Stops\"])\n",
    "plt.show()"
   ]
  },
  {
   "cell_type": "markdown",
   "metadata": {},
   "source": [
    "__Insights :__<br>\n",
    "- Indigo airline are having maximum non-stop flights.\n",
    "- Jet Airways are having maximum flights of single stopage."
   ]
  },
  {
   "cell_type": "markdown",
   "metadata": {},
   "source": [
    "__6. Source & Price and Destination & Price__"
   ]
  },
  {
   "cell_type": "code",
   "execution_count": 18,
   "metadata": {
    "execution": {
     "iopub.execute_input": "2023-01-27T12:28:47.890812Z",
     "iopub.status.busy": "2023-01-27T12:28:47.890327Z",
     "iopub.status.idle": "2023-01-27T12:28:48.846909Z",
     "shell.execute_reply": "2023-01-27T12:28:48.845487Z",
     "shell.execute_reply.started": "2023-01-27T12:28:47.890773Z"
    }
   },
   "outputs": [
    {
     "data": {
      "image/png": "[encoded data removed]",
      "text/plain": [
       "<Figure size 1800x288 with 2 Axes>"
      ]
     },
     "metadata": {},
     "output_type": "display_data"
    }
   ],
   "source": [
    "plt.figure(figsize = (25,4))\n",
    "plt.subplot(1,3,1)\n",
    "sns.barplot(df_new[\"Source\"], df_new[\"Price\"])\n",
    "plt.title(\"Source vs Price\")\n",
    "plt.subplot(1,3,2)\n",
    "sns.barplot(df_new[\"Destination\"], df_new[\"Price\"])\n",
    "plt.title(\"Destination vs Price\")\n",
    "plt.show()"
   ]
  },
  {
   "cell_type": "code",
   "execution_count": 21,
   "metadata": {
    "execution": {
     "iopub.execute_input": "2023-01-27T12:31:25.591655Z",
     "iopub.status.busy": "2023-01-27T12:31:25.591131Z",
     "iopub.status.idle": "2023-01-27T12:31:26.179795Z",
     "shell.execute_reply": "2023-01-27T12:31:26.178723Z",
     "shell.execute_reply.started": "2023-01-27T12:31:25.591616Z"
    }
   },
   "outputs": [
    {
     "data": {
      "image/png": "[encoded data removed]",
      "text/plain": [
       "<Figure size 1800x1008 with 2 Axes>"
      ]
     },
     "metadata": {},
     "output_type": "display_data"
    }
   ],
   "source": [
    "plt.figure(figsize=(25, 14))\n",
    "plt.subplot(2,1,1)\n",
    "sns.boxplot(x='Source', y='Price', data=df_new.sort_values(\"Price\", ascending = False));\n",
    "plt.subplot(2,1,2)\n",
    "sns.boxplot(x='Destination', y='Price', data=df_new.sort_values(\"Price\", ascending = False));"
   ]
  },
  {
   "cell_type": "markdown",
   "metadata": {},
   "source": [
    "__Insights :__<br>\n",
    "- The Airlines having their Sources at Delhi and Bangalore are costlier than the others. \n",
    "- The Airlines having their Destinations at New Delhi, Cochin and Bangalore are costlier than the others."
   ]
  },
  {
   "cell_type": "markdown",
   "metadata": {},
   "source": [
    "__7. Distribution of Price__"
   ]
  },
  {
   "cell_type": "code",
   "execution_count": 22,
   "metadata": {
    "execution": {
     "iopub.execute_input": "2023-01-27T12:36:06.229455Z",
     "iopub.status.busy": "2023-01-27T12:36:06.228260Z",
     "iopub.status.idle": "2023-01-27T12:36:06.815609Z",
     "shell.execute_reply": "2023-01-27T12:36:06.814444Z",
     "shell.execute_reply.started": "2023-01-27T12:36:06.229402Z"
    }
   },
   "outputs": [
    {
     "data": {
      "image/png": "[encoded data removed]",
      "text/plain": [
       "<Figure size 1440x288 with 2 Axes>"
      ]
     },
     "metadata": {},
     "output_type": "display_data"
    }
   ],
   "source": [
    "plt.figure(figsize = (20,4))\n",
    "plt.subplot(1,2,1)\n",
    "sns.distplot(df_new[\"Price\"])\n",
    "plt.subplot(1,2,2)\n",
    "sns.boxplot(df_new[\"Price\"])\n",
    "plt.show()"
   ]
  },
  {
   "cell_type": "markdown",
   "metadata": {},
   "source": [
    "__Insight :__ The price is right skewed and after 23000 its treated them as outliers. We will not apply any transformations on ‘Price’ column, since it is our target variable"
   ]
  },
  {
   "cell_type": "markdown",
   "metadata": {},
   "source": [
    "__Encoding the categorical features :__<br>\n",
    "\n",
    "__A.) Since \"Airline\", \"Source\" and \"Destination\" are nominal data, hence we will apply One Hot Encoding to these features__"
   ]
  },
  {
   "cell_type": "code",
   "execution_count": 23,
   "metadata": {
    "execution": {
     "iopub.execute_input": "2023-01-27T12:40:09.855475Z",
     "iopub.status.busy": "2023-01-27T12:40:09.855017Z",
     "iopub.status.idle": "2023-01-27T12:40:09.878166Z",
     "shell.execute_reply": "2023-01-27T12:40:09.876698Z",
     "shell.execute_reply.started": "2023-01-27T12:40:09.855437Z"
    }
   },
   "outputs": [
    {
     "data": {
      "text/html": [
       "<div>\n",
       "<style scoped>\n",
       "    .dataframe tbody tr th:only-of-type {\n",
       "        vertical-align: middle;\n",
       "    }\n",
       "\n",
       "    .dataframe tbody tr th {\n",
       "        vertical-align: top;\n",
       "    }\n",
       "\n",
       "    .dataframe thead th {\n",
       "        text-align: right;\n",
       "    }\n",
       "</style>\n",
       "<table border=\"1\" class=\"dataframe\">\n",
       "  <thead>\n",
       "    <tr style=\"text-align: right;\">\n",
       "      <th></th>\n",
       "      <th>Airline</th>\n",
       "      <th>Source</th>\n",
       "      <th>Destination</th>\n",
       "      <th>Total_Stops</th>\n",
       "      <th>Price</th>\n",
       "      <th>Journey_day</th>\n",
       "      <th>Journey_month</th>\n",
       "      <th>Dep_hour</th>\n",
       "      <th>Dep_minute</th>\n",
       "      <th>Arrival_hour</th>\n",
       "      <th>Arrival_minute</th>\n",
       "      <th>Duration_hour</th>\n",
       "      <th>Duration_min</th>\n",
       "    </tr>\n",
       "  </thead>\n",
       "  <tbody>\n",
       "    <tr>\n",
       "      <th>8467</th>\n",
       "      <td>SpiceJet</td>\n",
       "      <td>Banglore</td>\n",
       "      <td>Delhi</td>\n",
       "      <td>non-stop</td>\n",
       "      <td>3573</td>\n",
       "      <td>27</td>\n",
       "      <td>6</td>\n",
       "      <td>5</td>\n",
       "      <td>55</td>\n",
       "      <td>8</td>\n",
       "      <td>35</td>\n",
       "      <td>2</td>\n",
       "      <td>40</td>\n",
       "    </tr>\n",
       "    <tr>\n",
       "      <th>8870</th>\n",
       "      <td>Jet Airways</td>\n",
       "      <td>Delhi</td>\n",
       "      <td>Cochin</td>\n",
       "      <td>2 stops</td>\n",
       "      <td>11507</td>\n",
       "      <td>3</td>\n",
       "      <td>6</td>\n",
       "      <td>9</td>\n",
       "      <td>35</td>\n",
       "      <td>12</td>\n",
       "      <td>35</td>\n",
       "      <td>27</td>\n",
       "      <td>0</td>\n",
       "    </tr>\n",
       "  </tbody>\n",
       "</table>\n",
       "</div>"
      ],
      "text/plain": [
       "          Airline    Source Destination Total_Stops  Price  Journey_day  \\\n",
       "8467     SpiceJet  Banglore       Delhi    non-stop   3573           27   \n",
       "8870  Jet Airways     Delhi      Cochin     2 stops  11507            3   \n",
       "\n",
       "      Journey_month  Dep_hour  Dep_minute  Arrival_hour  Arrival_minute  \\\n",
       "8467              6         5          55             8              35   \n",
       "8870              6         9          35            12              35   \n",
       "\n",
       "      Duration_hour  Duration_min  \n",
       "8467              2            40  \n",
       "8870             27             0  "
      ]
     },
     "execution_count": 23,
     "metadata": {},
     "output_type": "execute_result"
    }
   ],
   "source": [
    "df_new.sample(2)"
   ]
  },
  {
   "cell_type": "markdown",
   "metadata": {},
   "source": [
    "__Encoding with one hot encoding__"
   ]
  },
  {
   "cell_type": "code",
   "execution_count": 24,
   "metadata": {
    "execution": {
     "iopub.execute_input": "2023-01-27T12:42:58.115830Z",
     "iopub.status.busy": "2023-01-27T12:42:58.115383Z",
     "iopub.status.idle": "2023-01-27T12:42:58.132859Z",
     "shell.execute_reply": "2023-01-27T12:42:58.131815Z",
     "shell.execute_reply.started": "2023-01-27T12:42:58.115792Z"
    }
   },
   "outputs": [],
   "source": [
    "df_new = pd.get_dummies(data = df_new, columns = [\"Airline\", \"Destination\", \"Source\"], drop_first = True)"
   ]
  },
  {
   "cell_type": "markdown",
   "metadata": {},
   "source": [
    "__B.) Since \"Total_Stops\" is an ordinal data, hence we will encode order wise__"
   ]
  },
  {
   "cell_type": "code",
   "execution_count": 25,
   "metadata": {
    "execution": {
     "iopub.execute_input": "2023-01-27T12:43:29.566443Z",
     "iopub.status.busy": "2023-01-27T12:43:29.565921Z",
     "iopub.status.idle": "2023-01-27T12:43:29.579015Z",
     "shell.execute_reply": "2023-01-27T12:43:29.577661Z",
     "shell.execute_reply.started": "2023-01-27T12:43:29.566399Z"
    }
   },
   "outputs": [
    {
     "data": {
      "text/plain": [
       "1 stop      5625\n",
       "non-stop    3491\n",
       "2 stops     1520\n",
       "3 stops       45\n",
       "4 stops        1\n",
       "Name: Total_Stops, dtype: int64"
      ]
     },
     "execution_count": 25,
     "metadata": {},
     "output_type": "execute_result"
    }
   ],
   "source": [
    "df_new[\"Total_Stops\"].value_counts()"
   ]
  },
  {
   "cell_type": "code",
   "execution_count": 26,
   "metadata": {
    "execution": {
     "iopub.execute_input": "2023-01-27T12:43:38.904163Z",
     "iopub.status.busy": "2023-01-27T12:43:38.903759Z",
     "iopub.status.idle": "2023-01-27T12:43:38.917064Z",
     "shell.execute_reply": "2023-01-27T12:43:38.915968Z",
     "shell.execute_reply.started": "2023-01-27T12:43:38.904116Z"
    }
   },
   "outputs": [],
   "source": [
    "df_new[\"Total_Stops\"].replace({\n",
    "    \"non-stop\" : 0,\n",
    "    \"1 stop\" : 1,\n",
    "    \"2 stops\" : 2,\n",
    "    \"3 stops\" : 3,\n",
    "    \"4 stops\" : 4\n",
    "}, inplace = True)"
   ]
  },
  {
   "cell_type": "code",
   "execution_count": 27,
   "metadata": {
    "execution": {
     "iopub.execute_input": "2023-01-27T12:44:41.490139Z",
     "iopub.status.busy": "2023-01-27T12:44:41.489704Z",
     "iopub.status.idle": "2023-01-27T12:44:41.510152Z",
     "shell.execute_reply": "2023-01-27T12:44:41.509115Z",
     "shell.execute_reply.started": "2023-01-27T12:44:41.490102Z"
    }
   },
   "outputs": [
    {
     "data": {
      "text/html": [
       "<div>\n",
       "<style scoped>\n",
       "    .dataframe tbody tr th:only-of-type {\n",
       "        vertical-align: middle;\n",
       "    }\n",
       "\n",
       "    .dataframe tbody tr th {\n",
       "        vertical-align: top;\n",
       "    }\n",
       "\n",
       "    .dataframe thead th {\n",
       "        text-align: right;\n",
       "    }\n",
       "</style>\n",
       "<table border=\"1\" class=\"dataframe\">\n",
       "  <thead>\n",
       "    <tr style=\"text-align: right;\">\n",
       "      <th></th>\n",
       "      <th>Total_Stops</th>\n",
       "      <th>Price</th>\n",
       "      <th>Journey_day</th>\n",
       "      <th>Journey_month</th>\n",
       "      <th>Dep_hour</th>\n",
       "      <th>Dep_minute</th>\n",
       "      <th>Arrival_hour</th>\n",
       "      <th>Arrival_minute</th>\n",
       "      <th>Duration_hour</th>\n",
       "      <th>Duration_min</th>\n",
       "      <th>Airline_Air India</th>\n",
       "      <th>Airline_GoAir</th>\n",
       "      <th>Airline_IndiGo</th>\n",
       "      <th>Airline_Jet Airways</th>\n",
       "      <th>Airline_Multiple carriers</th>\n",
       "      <th>Airline_Multiple carriers Premium economy</th>\n",
       "      <th>Airline_Other</th>\n",
       "      <th>Airline_SpiceJet</th>\n",
       "      <th>Airline_Vistara</th>\n",
       "      <th>Destination_Cochin</th>\n",
       "      <th>Destination_Delhi</th>\n",
       "      <th>Destination_Hyderabad</th>\n",
       "      <th>Destination_Kolkata</th>\n",
       "      <th>Source_Chennai</th>\n",
       "      <th>Source_Delhi</th>\n",
       "      <th>Source_Kolkata</th>\n",
       "      <th>Source_Mumbai</th>\n",
       "    </tr>\n",
       "  </thead>\n",
       "  <tbody>\n",
       "    <tr>\n",
       "      <th>9675</th>\n",
       "      <td>2</td>\n",
       "      <td>6610</td>\n",
       "      <td>6</td>\n",
       "      <td>3</td>\n",
       "      <td>6</td>\n",
       "      <td>40</td>\n",
       "      <td>21</td>\n",
       "      <td>20</td>\n",
       "      <td>14</td>\n",
       "      <td>40</td>\n",
       "      <td>0</td>\n",
       "      <td>0</td>\n",
       "      <td>1</td>\n",
       "      <td>0</td>\n",
       "      <td>0</td>\n",
       "      <td>0</td>\n",
       "      <td>0</td>\n",
       "      <td>0</td>\n",
       "      <td>0</td>\n",
       "      <td>1</td>\n",
       "      <td>0</td>\n",
       "      <td>0</td>\n",
       "      <td>0</td>\n",
       "      <td>0</td>\n",
       "      <td>1</td>\n",
       "      <td>0</td>\n",
       "      <td>0</td>\n",
       "    </tr>\n",
       "    <tr>\n",
       "      <th>9865</th>\n",
       "      <td>1</td>\n",
       "      <td>14151</td>\n",
       "      <td>21</td>\n",
       "      <td>5</td>\n",
       "      <td>20</td>\n",
       "      <td>25</td>\n",
       "      <td>18</td>\n",
       "      <td>0</td>\n",
       "      <td>21</td>\n",
       "      <td>35</td>\n",
       "      <td>0</td>\n",
       "      <td>0</td>\n",
       "      <td>0</td>\n",
       "      <td>1</td>\n",
       "      <td>0</td>\n",
       "      <td>0</td>\n",
       "      <td>0</td>\n",
       "      <td>0</td>\n",
       "      <td>0</td>\n",
       "      <td>0</td>\n",
       "      <td>0</td>\n",
       "      <td>0</td>\n",
       "      <td>0</td>\n",
       "      <td>0</td>\n",
       "      <td>0</td>\n",
       "      <td>1</td>\n",
       "      <td>0</td>\n",
       "    </tr>\n",
       "    <tr>\n",
       "      <th>7168</th>\n",
       "      <td>1</td>\n",
       "      <td>14086</td>\n",
       "      <td>9</td>\n",
       "      <td>3</td>\n",
       "      <td>16</td>\n",
       "      <td>0</td>\n",
       "      <td>1</td>\n",
       "      <td>35</td>\n",
       "      <td>9</td>\n",
       "      <td>35</td>\n",
       "      <td>0</td>\n",
       "      <td>0</td>\n",
       "      <td>0</td>\n",
       "      <td>0</td>\n",
       "      <td>1</td>\n",
       "      <td>0</td>\n",
       "      <td>0</td>\n",
       "      <td>0</td>\n",
       "      <td>0</td>\n",
       "      <td>1</td>\n",
       "      <td>0</td>\n",
       "      <td>0</td>\n",
       "      <td>0</td>\n",
       "      <td>0</td>\n",
       "      <td>1</td>\n",
       "      <td>0</td>\n",
       "      <td>0</td>\n",
       "    </tr>\n",
       "  </tbody>\n",
       "</table>\n",
       "</div>"
      ],
      "text/plain": [
       "      Total_Stops  Price  Journey_day  Journey_month  Dep_hour  Dep_minute  \\\n",
       "9675            2   6610            6              3         6          40   \n",
       "9865            1  14151           21              5        20          25   \n",
       "7168            1  14086            9              3        16           0   \n",
       "\n",
       "      Arrival_hour  Arrival_minute  Duration_hour  Duration_min  \\\n",
       "9675            21              20             14            40   \n",
       "9865            18               0             21            35   \n",
       "7168             1              35              9            35   \n",
       "\n",
       "      Airline_Air India  Airline_GoAir  Airline_IndiGo  Airline_Jet Airways  \\\n",
       "9675                  0              0               1                    0   \n",
       "9865                  0              0               0                    1   \n",
       "7168                  0              0               0                    0   \n",
       "\n",
       "      Airline_Multiple carriers  Airline_Multiple carriers Premium economy  \\\n",
       "9675                          0                                          0   \n",
       "9865                          0                                          0   \n",
       "7168                          1                                          0   \n",
       "\n",
       "      Airline_Other  Airline_SpiceJet  Airline_Vistara  Destination_Cochin  \\\n",
       "9675              0                 0                0                   1   \n",
       "9865              0                 0                0                   0   \n",
       "7168              0                 0                0                   1   \n",
       "\n",
       "      Destination_Delhi  Destination_Hyderabad  Destination_Kolkata  \\\n",
       "9675                  0                      0                    0   \n",
       "9865                  0                      0                    0   \n",
       "7168                  0                      0                    0   \n",
       "\n",
       "      Source_Chennai  Source_Delhi  Source_Kolkata  Source_Mumbai  \n",
       "9675               0             1               0              0  \n",
       "9865               0             0               1              0  \n",
       "7168               0             1               0              0  "
      ]
     },
     "execution_count": 27,
     "metadata": {},
     "output_type": "execute_result"
    }
   ],
   "source": [
    "df_new.sample(3)"
   ]
  },
  {
   "cell_type": "markdown",
   "metadata": {},
   "source": [
    "### Splitting the dataset into training and testing set"
   ]
  },
  {
   "cell_type": "code",
   "execution_count": 28,
   "metadata": {
    "execution": {
     "iopub.execute_input": "2023-01-27T12:45:25.629462Z",
     "iopub.status.busy": "2023-01-27T12:45:25.629021Z",
     "iopub.status.idle": "2023-01-27T12:45:25.637183Z",
     "shell.execute_reply": "2023-01-27T12:45:25.635784Z",
     "shell.execute_reply.started": "2023-01-27T12:45:25.629425Z"
    }
   },
   "outputs": [],
   "source": [
    "X = df_new.drop(\"Price\", axis = 1)\n",
    "y = df_new[\"Price\"]"
   ]
  },
  {
   "cell_type": "code",
   "execution_count": 31,
   "metadata": {
    "execution": {
     "iopub.execute_input": "2023-01-27T12:46:21.836499Z",
     "iopub.status.busy": "2023-01-27T12:46:21.836091Z",
     "iopub.status.idle": "2023-01-27T12:46:21.846904Z",
     "shell.execute_reply": "2023-01-27T12:46:21.845756Z",
     "shell.execute_reply.started": "2023-01-27T12:46:21.836464Z"
    }
   },
   "outputs": [],
   "source": [
    "X_train, X_test, y_train, y_test = train_test_split(X, y, test_size = 0.2, random_state = random_state)"
   ]
  },
  {
   "cell_type": "code",
   "execution_count": 32,
   "metadata": {
    "execution": {
     "iopub.execute_input": "2023-01-27T12:46:36.782354Z",
     "iopub.status.busy": "2023-01-27T12:46:36.781926Z",
     "iopub.status.idle": "2023-01-27T12:46:36.789592Z",
     "shell.execute_reply": "2023-01-27T12:46:36.788418Z",
     "shell.execute_reply.started": "2023-01-27T12:46:36.782318Z"
    }
   },
   "outputs": [
    {
     "data": {
      "text/plain": [
       "((8545, 26), (2137, 26))"
      ]
     },
     "execution_count": 32,
     "metadata": {},
     "output_type": "execute_result"
    }
   ],
   "source": [
    "X_train.shape, X_test.shape"
   ]
  },
  {
   "cell_type": "markdown",
   "metadata": {},
   "source": [
    "### Scaling the data"
   ]
  },
  {
   "cell_type": "code",
   "execution_count": 33,
   "metadata": {
    "execution": {
     "iopub.execute_input": "2023-01-27T12:48:12.639222Z",
     "iopub.status.busy": "2023-01-27T12:48:12.638729Z",
     "iopub.status.idle": "2023-01-27T12:48:12.644570Z",
     "shell.execute_reply": "2023-01-27T12:48:12.643323Z",
     "shell.execute_reply.started": "2023-01-27T12:48:12.639184Z"
    }
   },
   "outputs": [],
   "source": [
    "scaler = StandardScaler()"
   ]
  },
  {
   "cell_type": "code",
   "execution_count": 34,
   "metadata": {
    "execution": {
     "iopub.execute_input": "2023-01-27T12:48:20.990104Z",
     "iopub.status.busy": "2023-01-27T12:48:20.989654Z",
     "iopub.status.idle": "2023-01-27T12:48:21.010403Z",
     "shell.execute_reply": "2023-01-27T12:48:21.009111Z",
     "shell.execute_reply.started": "2023-01-27T12:48:20.990071Z"
    }
   },
   "outputs": [],
   "source": [
    "X_train_scaled = scaler.fit_transform(X_train)\n",
    "X_test_scaled = scaler.transform(X_test)"
   ]
  },
  {
   "cell_type": "markdown",
   "metadata": {},
   "source": [
    "## Model Creation"
   ]
  },
  {
   "cell_type": "markdown",
   "metadata": {},
   "source": [
    "__Checking the cross validation scores for all the regressors__"
   ]
  },
  {
   "cell_type": "code",
   "execution_count": 37,
   "metadata": {
    "execution": {
     "iopub.execute_input": "2023-01-27T12:51:49.030084Z",
     "iopub.status.busy": "2023-01-27T12:51:49.029707Z",
     "iopub.status.idle": "2023-01-27T12:52:14.992896Z",
     "shell.execute_reply": "2023-01-27T12:52:14.991525Z",
     "shell.execute_reply.started": "2023-01-27T12:51:49.030055Z"
    }
   },
   "outputs": [
    {
     "name": "stdout",
     "output_type": "stream",
     "text": [
      "LinearRegression() :\n",
      "R2 scores : [0.59978656 0.60752053 0.59342104 0.54189588 0.5708127 ]\n",
      "Mean r2 score : 0.5826873420869803\n",
      "Standard deviation : 0.023787532721821596\n",
      "--------------------------------------------------\n",
      "Ridge() :\n",
      "R2 scores : [0.57291528 0.60250186 0.61486001 0.53456324 0.56954103]\n",
      "Mean r2 score : 0.5788762834122505\n",
      "Standard deviation : 0.02806892452108945\n",
      "--------------------------------------------------\n",
      "Lasso() :\n",
      "R2 scores : [0.59256301 0.56164776 0.57734949 0.58201404 0.5737584 ]\n",
      "Mean r2 score : 0.5774665407956648\n",
      "Standard deviation : 0.010125027150674069\n",
      "--------------------------------------------------\n",
      "SVR() :\n",
      "R2 scores : [0.04202077 0.03433107 0.05771244 0.01185572 0.03993883]\n",
      "Mean r2 score : 0.0371717656346144\n",
      "Standard deviation : 0.01484628243048978\n",
      "--------------------------------------------------\n",
      "KNeighborsRegressor() :\n",
      "R2 scores : [0.6605896  0.67794262 0.76538226 0.75706636 0.67412409]\n",
      "Mean r2 score : 0.7070209873547905\n",
      "Standard deviation : 0.04470840902780481\n",
      "--------------------------------------------------\n",
      "DecisionTreeRegressor() :\n",
      "R2 scores : [0.69761261 0.74142614 0.65633067 0.62981489 0.6630324 ]\n",
      "Mean r2 score : 0.677643340555347\n",
      "Standard deviation : 0.038528658609907306\n",
      "--------------------------------------------------\n",
      "RandomForestRegressor() :\n",
      "R2 scores : [0.7835394  0.82427683 0.75362855 0.80754375 0.83694175]\n",
      "Mean r2 score : 0.8011860561153629\n",
      "Standard deviation : 0.02974960072409427\n",
      "--------------------------------------------------\n",
      "XGBRegressor(base_score=None, booster=None, callbacks=None,\n",
      "             colsample_bylevel=None, colsample_bynode=None,\n",
      "             colsample_bytree=None, early_stopping_rounds=None,\n",
      "             enable_categorical=False, eval_metric=None, gamma=None,\n",
      "             gpu_id=None, grow_policy=None, importance_type=None,\n",
      "             interaction_constraints=None, learning_rate=None, max_bin=None,\n",
      "             max_cat_to_onehot=None, max_delta_step=None, max_depth=None,\n",
      "             max_leaves=None, min_child_weight=None, missing=nan,\n",
      "             monotone_constraints=None, n_estimators=100, n_jobs=None,\n",
      "             num_parallel_tree=None, predictor=None, random_state=None,\n",
      "             reg_alpha=None, reg_lambda=None, ...) :\n",
      "R2 scores : [0.81574126 0.84475751 0.79602067 0.80833646 0.80883091]\n",
      "Mean r2 score : 0.8147373600809699\n",
      "Standard deviation : 0.016299628127763158\n",
      "--------------------------------------------------\n",
      "CPU times: user 240 ms, sys: 77.5 ms, total: 317 ms\n",
      "Wall time: 26 s\n"
     ]
    }
   ],
   "source": [
    "%%time\n",
    "models = [LinearRegression(), Ridge(), Lasso(),SVR(), KNeighborsRegressor(), DecisionTreeRegressor(), RandomForestRegressor(), XGBRegressor()]\n",
    "\n",
    "for x in models:\n",
    "    scores = cross_val_score(x, X_train_scaled, y_train, cv = KFold(5, shuffle = True), scoring = \"r2\", n_jobs = -1)\n",
    "    print(f\"{x} :\")\n",
    "    print(f\"R2 scores : {scores}\")\n",
    "    print(f\"Mean r2 score : {np.mean(scores)}\")\n",
    "    print(f\"Standard deviation : {np.std(scores)}\")\n",
    "    print(\"-\" * 50)\n",
    "    \n",
    "#     print(f\"Negative mean absolute scores : {scores}\")\n",
    "#     print(f\"Mean score : {np.mean(scores)}\")"
   ]
  },
  {
   "cell_type": "markdown",
   "metadata": {},
   "source": [
    "__Since KNN, RandomForest() and XGBRegressor() are giving 0.70702, 0.8011 and 0.8147 r2 score respectively. Hence we are going further with these three regressors.__"
   ]
  },
  {
   "cell_type": "markdown",
   "metadata": {},
   "source": [
    "### Plotting Learning Curve"
   ]
  },
  {
   "cell_type": "code",
   "execution_count": 43,
   "metadata": {
    "execution": {
     "iopub.execute_input": "2023-01-27T13:13:21.304118Z",
     "iopub.status.busy": "2023-01-27T13:13:21.303688Z",
     "iopub.status.idle": "2023-01-27T13:13:55.520233Z",
     "shell.execute_reply": "2023-01-27T13:13:55.518716Z",
     "shell.execute_reply.started": "2023-01-27T13:13:21.304083Z"
    }
   },
   "outputs": [
    {
     "name": "stdout",
     "output_type": "stream",
     "text": [
      "CPU times: user 389 ms, sys: 90.9 ms, total: 480 ms\n",
      "Wall time: 34.2 s\n"
     ]
    }
   ],
   "source": [
    "%%time\n",
    "cv = KFold(5, shuffle = True)\n",
    "scoring = \"r2\"\n",
    "\n",
    "#----------RandomForestRegressor------------\n",
    "train_sizes, train_scores, valid_scores = learning_curve(RandomForestRegressor(), X = X_train_scaled, y = y_train, cv = cv, scoring = scoring, n_jobs=-1)\n",
    "\n",
    "mean_train_scores = np.mean(train_scores, axis = 1)\n",
    "mean_valid_scores = np.mean(valid_scores, axis = 1)\n",
    "\n",
    "#-------------XGBRegressor----------------\n",
    "train_sizes, train_scores_1, valid_scores_1 = learning_curve(XGBRegressor(), X = X_train_scaled, y = y_train, cv = cv, scoring = scoring, n_jobs=-1)\n",
    "\n",
    "mean_train_scores_1 = np.mean(train_scores_1, axis = 1)\n",
    "mean_valid_scores_1 = np.mean(valid_scores_1, axis = 1)\n",
    "\n",
    "#-------------KNN----------------\n",
    "train_sizes, train_scores_2, valid_scores_2 = learning_curve(KNeighborsRegressor(), X = X_train_scaled, y = y_train, cv = cv, scoring = scoring, n_jobs=-1)\n",
    "\n",
    "mean_train_scores_2 = np.mean(train_scores_2, axis = 1)\n",
    "mean_valid_scores_2 = np.mean(valid_scores_2, axis = 1)"
   ]
  },
  {
   "cell_type": "code",
   "execution_count": 46,
   "metadata": {
    "execution": {
     "iopub.execute_input": "2023-01-27T13:14:22.826137Z",
     "iopub.status.busy": "2023-01-27T13:14:22.825729Z",
     "iopub.status.idle": "2023-01-27T13:14:23.585543Z",
     "shell.execute_reply": "2023-01-27T13:14:23.584306Z",
     "shell.execute_reply.started": "2023-01-27T13:14:22.826105Z"
    }
   },
   "outputs": [
    {
     "data": {
      "image/png": "[encoded data removed]",
      "text/plain": [
       "<Figure size 1800x1080 with 3 Axes>"
      ]
     },
     "metadata": {},
     "output_type": "display_data"
    }
   ],
   "source": [
    "plt.figure(figsize = (25,15))\n",
    "\n",
    "plt.subplot(2,2,1)\n",
    "plt.plot(train_sizes, mean_train_scores, label = \"training\")\n",
    "plt.plot(train_sizes, mean_valid_scores, label = \"validation\", color = \"r\")\n",
    "plt.xlabel(\"Train sizes\")\n",
    "plt.ylabel(\"R2 Scores\")\n",
    "plt.title(\"Learning Curve For RandomForestRegressor\")\n",
    "plt.legend(loc = \"best\")\n",
    "\n",
    "plt.subplot(2,2,2)\n",
    "plt.plot(train_sizes, mean_train_scores_1, label = \"training\")\n",
    "plt.plot(train_sizes, mean_valid_scores_1, label = \"validation\", color = \"r\")\n",
    "plt.xlabel(\"Train sizes\")\n",
    "plt.ylabel(\"R2 Scores\")\n",
    "plt.title(\"Learning Curve For XGBRegressor\")\n",
    "plt.legend(loc = \"best\")\n",
    "\n",
    "plt.subplot(2,2,3)\n",
    "plt.plot(train_sizes, mean_train_scores_2, label = \"training\")\n",
    "plt.plot(train_sizes, mean_valid_scores_2, label = \"validation\", color = \"r\")\n",
    "plt.xlabel(\"Train sizes\")\n",
    "plt.ylabel(\"R2 Scores\")\n",
    "plt.title(\"Learning Curve For KNN\")\n",
    "plt.legend(loc = \"best\")\n",
    "\n",
    "plt.show()"
   ]
  },
  {
   "cell_type": "markdown",
   "metadata": {},
   "source": [
    "__From the learning curve we can observe that RandomForest() and XGBRegressor() both are performing almost same for train and validation and KNN is trying to increase its r2 scores. Hence we will apply these 3 regressors and compare the performance.__"
   ]
  },
  {
   "cell_type": "markdown",
   "metadata": {},
   "source": [
    "## 1. KNN"
   ]
  },
  {
   "cell_type": "code",
   "execution_count": 79,
   "metadata": {
    "execution": {
     "iopub.execute_input": "2023-01-27T14:06:05.873887Z",
     "iopub.status.busy": "2023-01-27T14:06:05.873429Z",
     "iopub.status.idle": "2023-01-27T14:06:09.918738Z",
     "shell.execute_reply": "2023-01-27T14:06:09.917295Z",
     "shell.execute_reply.started": "2023-01-27T14:06:05.873847Z"
    }
   },
   "outputs": [
    {
     "name": "stdout",
     "output_type": "stream",
     "text": [
      "For k = 1 : Error(2551.1539705898836) and R2 score(0.7014876152913424)\n",
      "For k = 2 : Error(2233.0760386010315) and R2 score(0.7712842692075599)\n",
      "For k = 3 : Error(2293.3879075788777) and R2 score(0.758762927568948)\n",
      "For k = 4 : Error(2304.142111001044) and R2 score(0.756495195019971)\n",
      "For k = 5 : Error(2349.531423211232) and R2 score(0.7468070969140259)\n",
      "For k = 6 : Error(2383.1466832760784) and R2 score(0.739510296702819)\n",
      "For k = 7 : Error(2424.944953838403) and R2 score(0.7302926499220954)\n",
      "For k = 8 : Error(2440.3783547137436) and R2 score(0.7268486561698837)\n",
      "For k = 9 : Error(2483.2656426470403) and R2 score(0.7171635532464763)\n",
      "For k = 10 : Error(2519.995674189081) and R2 score(0.7087347968835673)\n"
     ]
    }
   ],
   "source": [
    "Errors =  []\n",
    "Scores = []\n",
    "\n",
    "for k in range(1, 11):\n",
    "    model  = KNeighborsRegressor(n_neighbors=k)\n",
    "    model.fit(X_train_scaled, y_train)\n",
    "    predictions = model.predict(X_test_scaled)\n",
    "    error = np.sqrt(mean_squared_error(y_test, predictions)) #calculate rmse\n",
    "    Errors.append(error)\n",
    "    R2=r2_score(y_test,predictions)                     #calculate r2 score\n",
    "    Scores.append(R2)\n",
    "    print(f'For k = {k} : Error({error}) and R2 score({R2})')"
   ]
  },
  {
   "cell_type": "code",
   "execution_count": 80,
   "metadata": {
    "execution": {
     "iopub.execute_input": "2023-01-27T14:06:35.716971Z",
     "iopub.status.busy": "2023-01-27T14:06:35.716486Z",
     "iopub.status.idle": "2023-01-27T14:06:35.967635Z",
     "shell.execute_reply": "2023-01-27T14:06:35.966457Z",
     "shell.execute_reply.started": "2023-01-27T14:06:35.716932Z"
    }
   },
   "outputs": [
    {
     "data": {
      "image/png": "[encoded data removed]",
      "text/plain": [
       "<Figure size 432x288 with 1 Axes>"
      ]
     },
     "metadata": {},
     "output_type": "display_data"
    }
   ],
   "source": [
    "plt.plot(range(1, 11) ,  Errors, linestyle='dashed', marker='o', markersize=7)\n",
    "plt.title('Error Rate vs. K Value')\n",
    "plt.xlabel(\"no. of k\")\n",
    "plt.ylabel(\"error\")\n",
    "plt.show()"
   ]
  },
  {
   "cell_type": "markdown",
   "metadata": {},
   "source": [
    "From the above list of RMSE values and graph plotted between RMSE and k value, it is observed that at k=2, \n",
    "the value of RMSE is least. So, we can say that the optimal k value = 2."
   ]
  },
  {
   "cell_type": "code",
   "execution_count": 81,
   "metadata": {
    "execution": {
     "iopub.execute_input": "2023-01-27T14:07:01.789383Z",
     "iopub.status.busy": "2023-01-27T14:07:01.788928Z",
     "iopub.status.idle": "2023-01-27T14:07:03.368754Z",
     "shell.execute_reply": "2023-01-27T14:07:03.367422Z",
     "shell.execute_reply.started": "2023-01-27T14:07:01.789342Z"
    }
   },
   "outputs": [],
   "source": [
    "# Lets fit the model with the optimal k value\n",
    "\n",
    "knn = KNeighborsRegressor(n_neighbors = 2)\n",
    "\n",
    "knn.fit(X_train_scaled, y_train)\n",
    "\n",
    "pred_train_knn = knn.predict(X_train_scaled)\n",
    "pred_test_knn = knn.predict(X_test_scaled)              "
   ]
  },
  {
   "cell_type": "code",
   "execution_count": 82,
   "metadata": {
    "execution": {
     "iopub.execute_input": "2023-01-27T14:07:05.290082Z",
     "iopub.status.busy": "2023-01-27T14:07:05.289694Z",
     "iopub.status.idle": "2023-01-27T14:07:05.301225Z",
     "shell.execute_reply": "2023-01-27T14:07:05.299717Z",
     "shell.execute_reply.started": "2023-01-27T14:07:05.290049Z"
    }
   },
   "outputs": [
    {
     "name": "stdout",
     "output_type": "stream",
     "text": [
      "Train:\n",
      "MAE : 776.20719719134\n",
      "R2 score : 0.9067989506115258\n",
      "--------------------------------------------------\n",
      "Test:\n",
      "MAE : 1358.6226017781937\n",
      "R2 score : 0.7712842692075599\n"
     ]
    }
   ],
   "source": [
    "print(\"Train:\")\n",
    "print(f\"MAE : {mean_absolute_error(y_train, pred_train_knn)}\")\n",
    "print(f\"R2 score : {r2_score(y_train, pred_train_knn)}\")\n",
    "print(\"-\"*50)\n",
    "print(\"Test:\")\n",
    "print(f\"MAE : {mean_absolute_error(y_test, pred_test_knn)}\")\n",
    "print(f\"R2 score : {r2_score(y_test, pred_test_knn)}\")"
   ]
  },
  {
   "cell_type": "markdown",
   "metadata": {},
   "source": [
    "## 2. RandomForestRegressor"
   ]
  },
  {
   "cell_type": "code",
   "execution_count": 83,
   "metadata": {
    "execution": {
     "iopub.execute_input": "2023-01-27T14:36:31.121076Z",
     "iopub.status.busy": "2023-01-27T14:36:31.120649Z",
     "iopub.status.idle": "2023-01-27T14:36:34.126979Z",
     "shell.execute_reply": "2023-01-27T14:36:34.125460Z",
     "shell.execute_reply.started": "2023-01-27T14:36:31.121044Z"
    }
   },
   "outputs": [],
   "source": [
    "model = RandomForestRegressor()\n",
    "model.fit(X_train_scaled, y_train)\n",
    "\n",
    "y_pred_rf_train = model.predict(X_train_scaled)\n",
    "y_pred_rf_test = model.predict(X_test_scaled)"
   ]
  },
  {
   "cell_type": "code",
   "execution_count": 84,
   "metadata": {
    "execution": {
     "iopub.execute_input": "2023-01-27T14:37:10.116486Z",
     "iopub.status.busy": "2023-01-27T14:37:10.116066Z",
     "iopub.status.idle": "2023-01-27T14:37:10.127459Z",
     "shell.execute_reply": "2023-01-27T14:37:10.126167Z",
     "shell.execute_reply.started": "2023-01-27T14:37:10.116451Z"
    }
   },
   "outputs": [
    {
     "name": "stdout",
     "output_type": "stream",
     "text": [
      "Train:\n",
      "MAE : 568.8442230684535\n",
      "R2 score : 0.9534250476023449\n",
      "--------------------------------------------------\n",
      "Test:\n",
      "MAE : 1195.0874719040514\n",
      "R2 score : 0.8128827184103519\n"
     ]
    }
   ],
   "source": [
    "print(\"Train:\")\n",
    "print(f\"MAE : {mean_absolute_error(y_train, y_pred_rf_train)}\")\n",
    "print(f\"R2 score : {r2_score(y_train, y_pred_rf_train)}\")\n",
    "print(\"-\"*50)\n",
    "print(\"Test:\")\n",
    "print(f\"MAE : {mean_absolute_error(y_test, y_pred_rf_test)}\")\n",
    "print(f\"R2 score : {r2_score(y_test, y_pred_rf_test)}\")"
   ]
  },
  {
   "cell_type": "markdown",
   "metadata": {},
   "source": [
    "### Tunning the hyperparameter for RandomForest"
   ]
  },
  {
   "cell_type": "code",
   "execution_count": 89,
   "metadata": {
    "execution": {
     "iopub.execute_input": "2023-01-27T14:42:48.244005Z",
     "iopub.status.busy": "2023-01-27T14:42:48.243565Z",
     "iopub.status.idle": "2023-01-27T14:42:48.249917Z",
     "shell.execute_reply": "2023-01-27T14:42:48.248606Z",
     "shell.execute_reply.started": "2023-01-27T14:42:48.243969Z"
    }
   },
   "outputs": [],
   "source": [
    "rf_params = {\n",
    "    \"n_estimators\" : [int(x) for x in np.linspace(100, 400, 7)],\n",
    "    \"max_depth\" : [2,3,4,5,6,7,None],\n",
    "    \"min_samples_split\" : [2, 5, 10, 15, 100]\n",
    "}"
   ]
  },
  {
   "cell_type": "code",
   "execution_count": 91,
   "metadata": {
    "execution": {
     "iopub.execute_input": "2023-01-27T14:44:41.604514Z",
     "iopub.status.busy": "2023-01-27T14:44:41.603509Z",
     "iopub.status.idle": "2023-01-27T14:44:41.610565Z",
     "shell.execute_reply": "2023-01-27T14:44:41.609089Z",
     "shell.execute_reply.started": "2023-01-27T14:44:41.604469Z"
    }
   },
   "outputs": [],
   "source": [
    "grid_rf_cv = GridSearchCV(RandomForestRegressor(), param_grid = rf_params, cv = KFold(5, shuffle = True), verbose = 1, n_jobs = -1, scoring=\"r2\")"
   ]
  },
  {
   "cell_type": "code",
   "execution_count": 92,
   "metadata": {
    "execution": {
     "iopub.execute_input": "2023-01-27T14:45:05.136263Z",
     "iopub.status.busy": "2023-01-27T14:45:05.135877Z",
     "iopub.status.idle": "2023-01-27T15:03:05.424226Z",
     "shell.execute_reply": "2023-01-27T15:03:05.422686Z",
     "shell.execute_reply.started": "2023-01-27T14:45:05.136231Z"
    }
   },
   "outputs": [
    {
     "name": "stdout",
     "output_type": "stream",
     "text": [
      "Fitting 5 folds for each of 245 candidates, totalling 1225 fits\n"
     ]
    },
    {
     "data": {
      "text/html": [
       "<style>#sk-8d7a9426-6cc7-4b76-8dc7-72ffc02bead9 {color: black;background-color: white;}#sk-8d7a9426-6cc7-4b76-8dc7-72ffc02bead9 pre{padding: 0;}#sk-8d7a9426-6cc7-4b76-8dc7-72ffc02bead9 div.sk-toggleable {background-color: white;}#sk-8d7a9426-6cc7-4b76-8dc7-72ffc02bead9 label.sk-toggleable__label {cursor: pointer;display: block;width: 100%;margin-bottom: 0;padding: 0.3em;box-sizing: border-box;text-align: center;}#sk-8d7a9426-6cc7-4b76-8dc7-72ffc02bead9 label.sk-toggleable__label-arrow:before {content: \"▸\";float: left;margin-right: 0.25em;color: #696969;}#sk-8d7a9426-6cc7-4b76-8dc7-72ffc02bead9 label.sk-toggleable__label-arrow:hover:before {color: black;}#sk-8d7a9426-6cc7-4b76-8dc7-72ffc02bead9 div.sk-estimator:hover label.sk-toggleable__label-arrow:before {color: black;}#sk-8d7a9426-6cc7-4b76-8dc7-72ffc02bead9 div.sk-toggleable__content {max-height: 0;max-width: 0;overflow: hidden;text-align: left;background-color: #f0f8ff;}#sk-8d7a9426-6cc7-4b76-8dc7-72ffc02bead9 div.sk-toggleable__content pre {margin: 0.2em;color: black;border-radius: 0.25em;background-color: #f0f8ff;}#sk-8d7a9426-6cc7-4b76-8dc7-72ffc02bead9 input.sk-toggleable__control:checked~div.sk-toggleable__content {max-height: 200px;max-width: 100%;overflow: auto;}#sk-8d7a9426-6cc7-4b76-8dc7-72ffc02bead9 input.sk-toggleable__control:checked~label.sk-toggleable__label-arrow:before {content: \"▾\";}#sk-8d7a9426-6cc7-4b76-8dc7-72ffc02bead9 div.sk-estimator input.sk-toggleable__control:checked~label.sk-toggleable__label {background-color: #d4ebff;}#sk-8d7a9426-6cc7-4b76-8dc7-72ffc02bead9 div.sk-label input.sk-toggleable__control:checked~label.sk-toggleable__label {background-color: #d4ebff;}#sk-8d7a9426-6cc7-4b76-8dc7-72ffc02bead9 input.sk-hidden--visually {border: 0;clip: rect(1px 1px 1px 1px);clip: rect(1px, 1px, 1px, 1px);height: 1px;margin: -1px;overflow: hidden;padding: 0;position: absolute;width: 1px;}#sk-8d7a9426-6cc7-4b76-8dc7-72ffc02bead9 div.sk-estimator {font-family: monospace;background-color: #f0f8ff;border: 1px dotted black;border-radius: 0.25em;box-sizing: border-box;margin-bottom: 0.5em;}#sk-8d7a9426-6cc7-4b76-8dc7-72ffc02bead9 div.sk-estimator:hover {background-color: #d4ebff;}#sk-8d7a9426-6cc7-4b76-8dc7-72ffc02bead9 div.sk-parallel-item::after {content: \"\";width: 100%;border-bottom: 1px solid gray;flex-grow: 1;}#sk-8d7a9426-6cc7-4b76-8dc7-72ffc02bead9 div.sk-label:hover label.sk-toggleable__label {background-color: #d4ebff;}#sk-8d7a9426-6cc7-4b76-8dc7-72ffc02bead9 div.sk-serial::before {content: \"\";position: absolute;border-left: 1px solid gray;box-sizing: border-box;top: 2em;bottom: 0;left: 50%;}#sk-8d7a9426-6cc7-4b76-8dc7-72ffc02bead9 div.sk-serial {display: flex;flex-direction: column;align-items: center;background-color: white;padding-right: 0.2em;padding-left: 0.2em;}#sk-8d7a9426-6cc7-4b76-8dc7-72ffc02bead9 div.sk-item {z-index: 1;}#sk-8d7a9426-6cc7-4b76-8dc7-72ffc02bead9 div.sk-parallel {display: flex;align-items: stretch;justify-content: center;background-color: white;}#sk-8d7a9426-6cc7-4b76-8dc7-72ffc02bead9 div.sk-parallel::before {content: \"\";position: absolute;border-left: 1px solid gray;box-sizing: border-box;top: 2em;bottom: 0;left: 50%;}#sk-8d7a9426-6cc7-4b76-8dc7-72ffc02bead9 div.sk-parallel-item {display: flex;flex-direction: column;position: relative;background-color: white;}#sk-8d7a9426-6cc7-4b76-8dc7-72ffc02bead9 div.sk-parallel-item:first-child::after {align-self: flex-end;width: 50%;}#sk-8d7a9426-6cc7-4b76-8dc7-72ffc02bead9 div.sk-parallel-item:last-child::after {align-self: flex-start;width: 50%;}#sk-8d7a9426-6cc7-4b76-8dc7-72ffc02bead9 div.sk-parallel-item:only-child::after {width: 0;}#sk-8d7a9426-6cc7-4b76-8dc7-72ffc02bead9 div.sk-dashed-wrapped {border: 1px dashed gray;margin: 0 0.4em 0.5em 0.4em;box-sizing: border-box;padding-bottom: 0.4em;background-color: white;position: relative;}#sk-8d7a9426-6cc7-4b76-8dc7-72ffc02bead9 div.sk-label label {font-family: monospace;font-weight: bold;background-color: white;display: inline-block;line-height: 1.2em;}#sk-8d7a9426-6cc7-4b76-8dc7-72ffc02bead9 div.sk-label-container {position: relative;z-index: 2;text-align: center;}#sk-8d7a9426-6cc7-4b76-8dc7-72ffc02bead9 div.sk-container {/* jupyter's `normalize.less` sets `[hidden] { display: none; }` but bootstrap.min.css set `[hidden] { display: none !important; }` so we also need the `!important` here to be able to override the default hidden behavior on the sphinx rendered scikit-learn.org. See: https://github.com/scikit-learn/scikit-learn/issues/21755 */display: inline-block !important;position: relative;}#sk-8d7a9426-6cc7-4b76-8dc7-72ffc02bead9 div.sk-text-repr-fallback {display: none;}</style><div id=\"sk-8d7a9426-6cc7-4b76-8dc7-72ffc02bead9\" class=\"sk-top-container\"><div class=\"sk-text-repr-fallback\"><pre>GridSearchCV(cv=KFold(n_splits=5, random_state=None, shuffle=True),\n",
       "             estimator=RandomForestRegressor(), n_jobs=-1,\n",
       "             param_grid={&#x27;max_depth&#x27;: [2, 3, 4, 5, 6, 7, None],\n",
       "                         &#x27;min_samples_split&#x27;: [2, 5, 10, 15, 100],\n",
       "                         &#x27;n_estimators&#x27;: [100, 150, 200, 250, 300, 350, 400]},\n",
       "             scoring=&#x27;r2&#x27;, verbose=1)</pre><b>Please rerun this cell to show the HTML repr or trust the notebook.</b></div><div class=\"sk-container\" hidden><div class=\"sk-item sk-dashed-wrapped\"><div class=\"sk-label-container\"><div class=\"sk-label sk-toggleable\"><input class=\"sk-toggleable__control sk-hidden--visually\" id=\"eace3c42-2698-4f9e-afb6-72bf65a8d6c4\" type=\"checkbox\" ><label for=\"eace3c42-2698-4f9e-afb6-72bf65a8d6c4\" class=\"sk-toggleable__label sk-toggleable__label-arrow\">GridSearchCV</label><div class=\"sk-toggleable__content\"><pre>GridSearchCV(cv=KFold(n_splits=5, random_state=None, shuffle=True),\n",
       "             estimator=RandomForestRegressor(), n_jobs=-1,\n",
       "             param_grid={&#x27;max_depth&#x27;: [2, 3, 4, 5, 6, 7, None],\n",
       "                         &#x27;min_samples_split&#x27;: [2, 5, 10, 15, 100],\n",
       "                         &#x27;n_estimators&#x27;: [100, 150, 200, 250, 300, 350, 400]},\n",
       "             scoring=&#x27;r2&#x27;, verbose=1)</pre></div></div></div><div class=\"sk-parallel\"><div class=\"sk-parallel-item\"><div class=\"sk-item\"><div class=\"sk-serial\"><div class=\"sk-item\"><div class=\"sk-estimator sk-toggleable\"><input class=\"sk-toggleable__control sk-hidden--visually\" id=\"a311f0e0-1759-47fd-a74a-e1c4438796a7\" type=\"checkbox\" ><label for=\"a311f0e0-1759-47fd-a74a-e1c4438796a7\" class=\"sk-toggleable__label sk-toggleable__label-arrow\">RandomForestRegressor</label><div class=\"sk-toggleable__content\"><pre>RandomForestRegressor()</pre></div></div></div></div></div></div></div></div></div></div>"
      ],
      "text/plain": [
       "GridSearchCV(cv=KFold(n_splits=5, random_state=None, shuffle=True),\n",
       "             estimator=RandomForestRegressor(), n_jobs=-1,\n",
       "             param_grid={'max_depth': [2, 3, 4, 5, 6, 7, None],\n",
       "                         'min_samples_split': [2, 5, 10, 15, 100],\n",
       "                         'n_estimators': [100, 150, 200, 250, 300, 350, 400]},\n",
       "             scoring='r2', verbose=1)"
      ]
     },
     "execution_count": 92,
     "metadata": {},
     "output_type": "execute_result"
    }
   ],
   "source": [
    "grid_rf_cv.fit(X_train_scaled, y_train)"
   ]
  },
  {
   "cell_type": "code",
   "execution_count": 93,
   "metadata": {
    "execution": {
     "iopub.execute_input": "2023-01-27T15:03:05.459260Z",
     "iopub.status.busy": "2023-01-27T15:03:05.458556Z",
     "iopub.status.idle": "2023-01-27T15:03:05.469020Z",
     "shell.execute_reply": "2023-01-27T15:03:05.467788Z",
     "shell.execute_reply.started": "2023-01-27T15:03:05.459211Z"
    }
   },
   "outputs": [
    {
     "name": "stdout",
     "output_type": "stream",
     "text": [
      "0.8101654648580203\n"
     ]
    },
    {
     "data": {
      "text/html": [
       "<style>#sk-286157ac-48c6-4be3-bc6d-c62f998d65a7 {color: black;background-color: white;}#sk-286157ac-48c6-4be3-bc6d-c62f998d65a7 pre{padding: 0;}#sk-286157ac-48c6-4be3-bc6d-c62f998d65a7 div.sk-toggleable {background-color: white;}#sk-286157ac-48c6-4be3-bc6d-c62f998d65a7 label.sk-toggleable__label {cursor: pointer;display: block;width: 100%;margin-bottom: 0;padding: 0.3em;box-sizing: border-box;text-align: center;}#sk-286157ac-48c6-4be3-bc6d-c62f998d65a7 label.sk-toggleable__label-arrow:before {content: \"▸\";float: left;margin-right: 0.25em;color: #696969;}#sk-286157ac-48c6-4be3-bc6d-c62f998d65a7 label.sk-toggleable__label-arrow:hover:before {color: black;}#sk-286157ac-48c6-4be3-bc6d-c62f998d65a7 div.sk-estimator:hover label.sk-toggleable__label-arrow:before {color: black;}#sk-286157ac-48c6-4be3-bc6d-c62f998d65a7 div.sk-toggleable__content {max-height: 0;max-width: 0;overflow: hidden;text-align: left;background-color: #f0f8ff;}#sk-286157ac-48c6-4be3-bc6d-c62f998d65a7 div.sk-toggleable__content pre {margin: 0.2em;color: black;border-radius: 0.25em;background-color: #f0f8ff;}#sk-286157ac-48c6-4be3-bc6d-c62f998d65a7 input.sk-toggleable__control:checked~div.sk-toggleable__content {max-height: 200px;max-width: 100%;overflow: auto;}#sk-286157ac-48c6-4be3-bc6d-c62f998d65a7 input.sk-toggleable__control:checked~label.sk-toggleable__label-arrow:before {content: \"▾\";}#sk-286157ac-48c6-4be3-bc6d-c62f998d65a7 div.sk-estimator input.sk-toggleable__control:checked~label.sk-toggleable__label {background-color: #d4ebff;}#sk-286157ac-48c6-4be3-bc6d-c62f998d65a7 div.sk-label input.sk-toggleable__control:checked~label.sk-toggleable__label {background-color: #d4ebff;}#sk-286157ac-48c6-4be3-bc6d-c62f998d65a7 input.sk-hidden--visually {border: 0;clip: rect(1px 1px 1px 1px);clip: rect(1px, 1px, 1px, 1px);height: 1px;margin: -1px;overflow: hidden;padding: 0;position: absolute;width: 1px;}#sk-286157ac-48c6-4be3-bc6d-c62f998d65a7 div.sk-estimator {font-family: monospace;background-color: #f0f8ff;border: 1px dotted black;border-radius: 0.25em;box-sizing: border-box;margin-bottom: 0.5em;}#sk-286157ac-48c6-4be3-bc6d-c62f998d65a7 div.sk-estimator:hover {background-color: #d4ebff;}#sk-286157ac-48c6-4be3-bc6d-c62f998d65a7 div.sk-parallel-item::after {content: \"\";width: 100%;border-bottom: 1px solid gray;flex-grow: 1;}#sk-286157ac-48c6-4be3-bc6d-c62f998d65a7 div.sk-label:hover label.sk-toggleable__label {background-color: #d4ebff;}#sk-286157ac-48c6-4be3-bc6d-c62f998d65a7 div.sk-serial::before {content: \"\";position: absolute;border-left: 1px solid gray;box-sizing: border-box;top: 2em;bottom: 0;left: 50%;}#sk-286157ac-48c6-4be3-bc6d-c62f998d65a7 div.sk-serial {display: flex;flex-direction: column;align-items: center;background-color: white;padding-right: 0.2em;padding-left: 0.2em;}#sk-286157ac-48c6-4be3-bc6d-c62f998d65a7 div.sk-item {z-index: 1;}#sk-286157ac-48c6-4be3-bc6d-c62f998d65a7 div.sk-parallel {display: flex;align-items: stretch;justify-content: center;background-color: white;}#sk-286157ac-48c6-4be3-bc6d-c62f998d65a7 div.sk-parallel::before {content: \"\";position: absolute;border-left: 1px solid gray;box-sizing: border-box;top: 2em;bottom: 0;left: 50%;}#sk-286157ac-48c6-4be3-bc6d-c62f998d65a7 div.sk-parallel-item {display: flex;flex-direction: column;position: relative;background-color: white;}#sk-286157ac-48c6-4be3-bc6d-c62f998d65a7 div.sk-parallel-item:first-child::after {align-self: flex-end;width: 50%;}#sk-286157ac-48c6-4be3-bc6d-c62f998d65a7 div.sk-parallel-item:last-child::after {align-self: flex-start;width: 50%;}#sk-286157ac-48c6-4be3-bc6d-c62f998d65a7 div.sk-parallel-item:only-child::after {width: 0;}#sk-286157ac-48c6-4be3-bc6d-c62f998d65a7 div.sk-dashed-wrapped {border: 1px dashed gray;margin: 0 0.4em 0.5em 0.4em;box-sizing: border-box;padding-bottom: 0.4em;background-color: white;position: relative;}#sk-286157ac-48c6-4be3-bc6d-c62f998d65a7 div.sk-label label {font-family: monospace;font-weight: bold;background-color: white;display: inline-block;line-height: 1.2em;}#sk-286157ac-48c6-4be3-bc6d-c62f998d65a7 div.sk-label-container {position: relative;z-index: 2;text-align: center;}#sk-286157ac-48c6-4be3-bc6d-c62f998d65a7 div.sk-container {/* jupyter's `normalize.less` sets `[hidden] { display: none; }` but bootstrap.min.css set `[hidden] { display: none !important; }` so we also need the `!important` here to be able to override the default hidden behavior on the sphinx rendered scikit-learn.org. See: https://github.com/scikit-learn/scikit-learn/issues/21755 */display: inline-block !important;position: relative;}#sk-286157ac-48c6-4be3-bc6d-c62f998d65a7 div.sk-text-repr-fallback {display: none;}</style><div id=\"sk-286157ac-48c6-4be3-bc6d-c62f998d65a7\" class=\"sk-top-container\"><div class=\"sk-text-repr-fallback\"><pre>RandomForestRegressor(min_samples_split=15, n_estimators=350)</pre><b>Please rerun this cell to show the HTML repr or trust the notebook.</b></div><div class=\"sk-container\" hidden><div class=\"sk-item\"><div class=\"sk-estimator sk-toggleable\"><input class=\"sk-toggleable__control sk-hidden--visually\" id=\"2804f030-55ad-4191-9072-6b7d38fccf7e\" type=\"checkbox\" checked><label for=\"2804f030-55ad-4191-9072-6b7d38fccf7e\" class=\"sk-toggleable__label sk-toggleable__label-arrow\">RandomForestRegressor</label><div class=\"sk-toggleable__content\"><pre>RandomForestRegressor(min_samples_split=15, n_estimators=350)</pre></div></div></div></div></div>"
      ],
      "text/plain": [
       "RandomForestRegressor(min_samples_split=15, n_estimators=350)"
      ]
     },
     "execution_count": 93,
     "metadata": {},
     "output_type": "execute_result"
    }
   ],
   "source": [
    "print(grid_rf_cv.best_score_)\n",
    "grid_rf_cv.best_estimator_"
   ]
  },
  {
   "cell_type": "markdown",
   "metadata": {},
   "source": [
    "__Train the model with best parameter obtain from tunning__"
   ]
  },
  {
   "cell_type": "code",
   "execution_count": 94,
   "metadata": {
    "execution": {
     "iopub.execute_input": "2023-01-27T15:06:05.720891Z",
     "iopub.status.busy": "2023-01-27T15:06:05.720369Z",
     "iopub.status.idle": "2023-01-27T15:06:13.844060Z",
     "shell.execute_reply": "2023-01-27T15:06:13.842914Z",
     "shell.execute_reply.started": "2023-01-27T15:06:05.720849Z"
    }
   },
   "outputs": [],
   "source": [
    "rf_model = RandomForestRegressor(min_samples_split=15, n_estimators=350)\n",
    "rf_model.fit(X_train_scaled, y_train)\n",
    "\n",
    "y_pred_rf_train = rf_model.predict(X_train_scaled)\n",
    "y_pred_rf_test = rf_model.predict(X_test_scaled)"
   ]
  },
  {
   "cell_type": "code",
   "execution_count": 95,
   "metadata": {
    "execution": {
     "iopub.execute_input": "2023-01-27T15:06:29.832918Z",
     "iopub.status.busy": "2023-01-27T15:06:29.832487Z",
     "iopub.status.idle": "2023-01-27T15:06:29.843843Z",
     "shell.execute_reply": "2023-01-27T15:06:29.842594Z",
     "shell.execute_reply.started": "2023-01-27T15:06:29.832881Z"
    }
   },
   "outputs": [
    {
     "name": "stdout",
     "output_type": "stream",
     "text": [
      "Train:\n",
      "MAE : 895.3702035987958\n",
      "R2 score : 0.8948048968757772\n",
      "--------------------------------------------------\n",
      "Test:\n",
      "MAE : 1165.7588723501783\n",
      "R2 score : 0.8314001217062108\n"
     ]
    }
   ],
   "source": [
    "print(\"Train:\")\n",
    "print(f\"MAE : {mean_absolute_error(y_train, y_pred_rf_train)}\")\n",
    "print(f\"R2 score : {r2_score(y_train, y_pred_rf_train)}\")\n",
    "print(\"-\"*50)\n",
    "print(\"Test:\")\n",
    "print(f\"MAE : {mean_absolute_error(y_test, y_pred_rf_test)}\")\n",
    "print(f\"R2 score : {r2_score(y_test, y_pred_rf_test)}\")"
   ]
  },
  {
   "cell_type": "code",
   "execution_count": 110,
   "metadata": {
    "execution": {
     "iopub.execute_input": "2023-01-27T15:39:57.723502Z",
     "iopub.status.busy": "2023-01-27T15:39:57.723091Z",
     "iopub.status.idle": "2023-01-27T15:39:57.953742Z",
     "shell.execute_reply": "2023-01-27T15:39:57.952305Z",
     "shell.execute_reply.started": "2023-01-27T15:39:57.723469Z"
    }
   },
   "outputs": [
    {
     "data": {
      "image/png": "[encoded data removed]",
      "text/plain": [
       "<Figure size 432x288 with 1 Axes>"
      ]
     },
     "metadata": {},
     "output_type": "display_data"
    }
   ],
   "source": [
    "sns.scatterplot(y_test, y_pred_rf_test)\n",
    "plt.xlabel(\"Actual prices\")\n",
    "plt.ylabel(\"Predicted prices\")\n",
    "plt.title(\"RandomForest\")\n",
    "plt.show()"
   ]
  },
  {
   "cell_type": "code",
   "execution_count": 96,
   "metadata": {
    "execution": {
     "iopub.execute_input": "2023-01-27T15:09:52.216277Z",
     "iopub.status.busy": "2023-01-27T15:09:52.215836Z",
     "iopub.status.idle": "2023-01-27T15:10:08.954969Z",
     "shell.execute_reply": "2023-01-27T15:10:08.953235Z",
     "shell.execute_reply.started": "2023-01-27T15:09:52.216243Z"
    }
   },
   "outputs": [],
   "source": [
    "rf_cross_scores = cross_val_score(RandomForestRegressor(min_samples_split=15, n_estimators=350), \n",
    "                                  X_train_scaled, y_train, cv = 5, scoring = \"r2\", n_jobs = -1)"
   ]
  },
  {
   "cell_type": "code",
   "execution_count": 97,
   "metadata": {
    "execution": {
     "iopub.execute_input": "2023-01-27T15:10:48.109319Z",
     "iopub.status.busy": "2023-01-27T15:10:48.108864Z",
     "iopub.status.idle": "2023-01-27T15:10:48.117893Z",
     "shell.execute_reply": "2023-01-27T15:10:48.116499Z",
     "shell.execute_reply.started": "2023-01-27T15:10:48.109268Z"
    }
   },
   "outputs": [
    {
     "name": "stdout",
     "output_type": "stream",
     "text": [
      "[0.83237941 0.7974997  0.83584066 0.75211966 0.8569287 ]\n",
      "0.814953624415692\n",
      "0.036754808168929606\n"
     ]
    }
   ],
   "source": [
    "print(rf_cross_scores)\n",
    "print(np.mean(rf_cross_scores))\n",
    "print(np.std(rf_cross_scores))"
   ]
  },
  {
   "cell_type": "markdown",
   "metadata": {},
   "source": [
    "## 3. XGBRegressor"
   ]
  },
  {
   "cell_type": "code",
   "execution_count": 98,
   "metadata": {
    "execution": {
     "iopub.execute_input": "2023-01-27T15:18:09.052224Z",
     "iopub.status.busy": "2023-01-27T15:18:09.051755Z",
     "iopub.status.idle": "2023-01-27T15:18:10.115627Z",
     "shell.execute_reply": "2023-01-27T15:18:10.114570Z",
     "shell.execute_reply.started": "2023-01-27T15:18:09.052185Z"
    }
   },
   "outputs": [],
   "source": [
    "xg_model = XGBRegressor()\n",
    "xg_model.fit(X_train_scaled, y_train)\n",
    "\n",
    "y_pred_xg_train = xg_model.predict(X_train_scaled)\n",
    "y_pred_xg_test = xg_model.predict(X_test_scaled)"
   ]
  },
  {
   "cell_type": "code",
   "execution_count": 99,
   "metadata": {
    "execution": {
     "iopub.execute_input": "2023-01-27T15:20:57.824307Z",
     "iopub.status.busy": "2023-01-27T15:20:57.823793Z",
     "iopub.status.idle": "2023-01-27T15:20:57.836584Z",
     "shell.execute_reply": "2023-01-27T15:20:57.835060Z",
     "shell.execute_reply.started": "2023-01-27T15:20:57.824267Z"
    }
   },
   "outputs": [
    {
     "name": "stdout",
     "output_type": "stream",
     "text": [
      "Train:\n",
      "MAE : 809.3154499016009\n",
      "R2 score : 0.9346444539731967\n",
      "--------------------------------------------------\n",
      "Test:\n",
      "MAE : 1157.8238875550203\n",
      "R2 score : 0.8443667510362207\n"
     ]
    }
   ],
   "source": [
    "print(\"Train:\")\n",
    "print(f\"MAE : {mean_absolute_error(y_train, y_pred_xg_train)}\")\n",
    "print(f\"R2 score : {r2_score(y_train, y_pred_xg_train)}\")\n",
    "print(\"-\"*50)\n",
    "print(\"Test:\")\n",
    "print(f\"MAE : {mean_absolute_error(y_test, y_pred_xg_test)}\")\n",
    "print(f\"R2 score : {r2_score(y_test, y_pred_xg_test)}\")"
   ]
  },
  {
   "cell_type": "markdown",
   "metadata": {},
   "source": [
    "### Tunning the hyperparameter for XGBoost"
   ]
  },
  {
   "cell_type": "code",
   "execution_count": 100,
   "metadata": {
    "execution": {
     "iopub.execute_input": "2023-01-27T15:24:29.521600Z",
     "iopub.status.busy": "2023-01-27T15:24:29.521166Z",
     "iopub.status.idle": "2023-01-27T15:24:29.528384Z",
     "shell.execute_reply": "2023-01-27T15:24:29.526910Z",
     "shell.execute_reply.started": "2023-01-27T15:24:29.521564Z"
    }
   },
   "outputs": [],
   "source": [
    "xgb_params = {\n",
    "    \"n_estimators\" : [int(x) for x in np.linspace(100, 300, 5)],\n",
    "    \"max_depth\" : [2,3,4,5,6],\n",
    "    \"learning_rate\" : [0.0001, 0.001, 0.01]\n",
    "}"
   ]
  },
  {
   "cell_type": "code",
   "execution_count": 101,
   "metadata": {
    "execution": {
     "iopub.execute_input": "2023-01-27T15:25:03.706703Z",
     "iopub.status.busy": "2023-01-27T15:25:03.706262Z",
     "iopub.status.idle": "2023-01-27T15:25:03.713349Z",
     "shell.execute_reply": "2023-01-27T15:25:03.711730Z",
     "shell.execute_reply.started": "2023-01-27T15:25:03.706652Z"
    }
   },
   "outputs": [],
   "source": [
    "grid_xg_cv = GridSearchCV(XGBRegressor(), param_grid = xgb_params, cv = KFold(5, shuffle = True), verbose = 1, n_jobs = -1, scoring=\"r2\")"
   ]
  },
  {
   "cell_type": "code",
   "execution_count": 102,
   "metadata": {
    "execution": {
     "iopub.execute_input": "2023-01-27T15:25:36.796692Z",
     "iopub.status.busy": "2023-01-27T15:25:36.796173Z",
     "iopub.status.idle": "2023-01-27T15:31:14.140953Z",
     "shell.execute_reply": "2023-01-27T15:31:14.139156Z",
     "shell.execute_reply.started": "2023-01-27T15:25:36.796633Z"
    }
   },
   "outputs": [
    {
     "name": "stdout",
     "output_type": "stream",
     "text": [
      "Fitting 5 folds for each of 75 candidates, totalling 375 fits\n"
     ]
    },
    {
     "data": {
      "text/html": [
       "<style>#sk-3aed2f61-1af6-4c94-a6ad-4c677350588a {color: black;background-color: white;}#sk-3aed2f61-1af6-4c94-a6ad-4c677350588a pre{padding: 0;}#sk-3aed2f61-1af6-4c94-a6ad-4c677350588a div.sk-toggleable {background-color: white;}#sk-3aed2f61-1af6-4c94-a6ad-4c677350588a label.sk-toggleable__label {cursor: pointer;display: block;width: 100%;margin-bottom: 0;padding: 0.3em;box-sizing: border-box;text-align: center;}#sk-3aed2f61-1af6-4c94-a6ad-4c677350588a label.sk-toggleable__label-arrow:before {content: \"▸\";float: left;margin-right: 0.25em;color: #696969;}#sk-3aed2f61-1af6-4c94-a6ad-4c677350588a label.sk-toggleable__label-arrow:hover:before {color: black;}#sk-3aed2f61-1af6-4c94-a6ad-4c677350588a div.sk-estimator:hover label.sk-toggleable__label-arrow:before {color: black;}#sk-3aed2f61-1af6-4c94-a6ad-4c677350588a div.sk-toggleable__content {max-height: 0;max-width: 0;overflow: hidden;text-align: left;background-color: #f0f8ff;}#sk-3aed2f61-1af6-4c94-a6ad-4c677350588a div.sk-toggleable__content pre {margin: 0.2em;color: black;border-radius: 0.25em;background-color: #f0f8ff;}#sk-3aed2f61-1af6-4c94-a6ad-4c677350588a input.sk-toggleable__control:checked~div.sk-toggleable__content {max-height: 200px;max-width: 100%;overflow: auto;}#sk-3aed2f61-1af6-4c94-a6ad-4c677350588a input.sk-toggleable__control:checked~label.sk-toggleable__label-arrow:before {content: \"▾\";}#sk-3aed2f61-1af6-4c94-a6ad-4c677350588a div.sk-estimator input.sk-toggleable__control:checked~label.sk-toggleable__label {background-color: #d4ebff;}#sk-3aed2f61-1af6-4c94-a6ad-4c677350588a div.sk-label input.sk-toggleable__control:checked~label.sk-toggleable__label {background-color: #d4ebff;}#sk-3aed2f61-1af6-4c94-a6ad-4c677350588a input.sk-hidden--visually {border: 0;clip: rect(1px 1px 1px 1px);clip: rect(1px, 1px, 1px, 1px);height: 1px;margin: -1px;overflow: hidden;padding: 0;position: absolute;width: 1px;}#sk-3aed2f61-1af6-4c94-a6ad-4c677350588a div.sk-estimator {font-family: monospace;background-color: #f0f8ff;border: 1px dotted black;border-radius: 0.25em;box-sizing: border-box;margin-bottom: 0.5em;}#sk-3aed2f61-1af6-4c94-a6ad-4c677350588a div.sk-estimator:hover {background-color: #d4ebff;}#sk-3aed2f61-1af6-4c94-a6ad-4c677350588a div.sk-parallel-item::after {content: \"\";width: 100%;border-bottom: 1px solid gray;flex-grow: 1;}#sk-3aed2f61-1af6-4c94-a6ad-4c677350588a div.sk-label:hover label.sk-toggleable__label {background-color: #d4ebff;}#sk-3aed2f61-1af6-4c94-a6ad-4c677350588a div.sk-serial::before {content: \"\";position: absolute;border-left: 1px solid gray;box-sizing: border-box;top: 2em;bottom: 0;left: 50%;}#sk-3aed2f61-1af6-4c94-a6ad-4c677350588a div.sk-serial {display: flex;flex-direction: column;align-items: center;background-color: white;padding-right: 0.2em;padding-left: 0.2em;}#sk-3aed2f61-1af6-4c94-a6ad-4c677350588a div.sk-item {z-index: 1;}#sk-3aed2f61-1af6-4c94-a6ad-4c677350588a div.sk-parallel {display: flex;align-items: stretch;justify-content: center;background-color: white;}#sk-3aed2f61-1af6-4c94-a6ad-4c677350588a div.sk-parallel::before {content: \"\";position: absolute;border-left: 1px solid gray;box-sizing: border-box;top: 2em;bottom: 0;left: 50%;}#sk-3aed2f61-1af6-4c94-a6ad-4c677350588a div.sk-parallel-item {display: flex;flex-direction: column;position: relative;background-color: white;}#sk-3aed2f61-1af6-4c94-a6ad-4c677350588a div.sk-parallel-item:first-child::after {align-self: flex-end;width: 50%;}#sk-3aed2f61-1af6-4c94-a6ad-4c677350588a div.sk-parallel-item:last-child::after {align-self: flex-start;width: 50%;}#sk-3aed2f61-1af6-4c94-a6ad-4c677350588a div.sk-parallel-item:only-child::after {width: 0;}#sk-3aed2f61-1af6-4c94-a6ad-4c677350588a div.sk-dashed-wrapped {border: 1px dashed gray;margin: 0 0.4em 0.5em 0.4em;box-sizing: border-box;padding-bottom: 0.4em;background-color: white;position: relative;}#sk-3aed2f61-1af6-4c94-a6ad-4c677350588a div.sk-label label {font-family: monospace;font-weight: bold;background-color: white;display: inline-block;line-height: 1.2em;}#sk-3aed2f61-1af6-4c94-a6ad-4c677350588a div.sk-label-container {position: relative;z-index: 2;text-align: center;}#sk-3aed2f61-1af6-4c94-a6ad-4c677350588a div.sk-container {/* jupyter's `normalize.less` sets `[hidden] { display: none; }` but bootstrap.min.css set `[hidden] { display: none !important; }` so we also need the `!important` here to be able to override the default hidden behavior on the sphinx rendered scikit-learn.org. See: https://github.com/scikit-learn/scikit-learn/issues/21755 */display: inline-block !important;position: relative;}#sk-3aed2f61-1af6-4c94-a6ad-4c677350588a div.sk-text-repr-fallback {display: none;}</style><div id=\"sk-3aed2f61-1af6-4c94-a6ad-4c677350588a\" class=\"sk-top-container\"><div class=\"sk-text-repr-fallback\"><pre>GridSearchCV(cv=KFold(n_splits=5, random_state=None, shuffle=True),\n",
       "             estimator=XGBRegressor(base_score=None, booster=None,\n",
       "                                    callbacks=None, colsample_bylevel=None,\n",
       "                                    colsample_bynode=None,\n",
       "                                    colsample_bytree=None,\n",
       "                                    early_stopping_rounds=None,\n",
       "                                    enable_categorical=False, eval_metric=None,\n",
       "                                    gamma=None, gpu_id=None, grow_policy=None,\n",
       "                                    importance_type=None,\n",
       "                                    interaction_constrain...\n",
       "                                    max_depth=None, max_leaves=None,\n",
       "                                    min_child_weight=None, missing=nan,\n",
       "                                    monotone_constraints=None, n_estimators=100,\n",
       "                                    n_jobs=None, num_parallel_tree=None,\n",
       "                                    predictor=None, random_state=None,\n",
       "                                    reg_alpha=None, reg_lambda=None, ...),\n",
       "             n_jobs=-1,\n",
       "             param_grid={&#x27;learning_rate&#x27;: [0.0001, 0.001, 0.01],\n",
       "                         &#x27;max_depth&#x27;: [2, 3, 4, 5, 6],\n",
       "                         &#x27;n_estimators&#x27;: [100, 150, 200, 250, 300]},\n",
       "             scoring=&#x27;r2&#x27;, verbose=1)</pre><b>Please rerun this cell to show the HTML repr or trust the notebook.</b></div><div class=\"sk-container\" hidden><div class=\"sk-item sk-dashed-wrapped\"><div class=\"sk-label-container\"><div class=\"sk-label sk-toggleable\"><input class=\"sk-toggleable__control sk-hidden--visually\" id=\"9352c918-5722-438d-a947-0a553ff8c55d\" type=\"checkbox\" ><label for=\"9352c918-5722-438d-a947-0a553ff8c55d\" class=\"sk-toggleable__label sk-toggleable__label-arrow\">GridSearchCV</label><div class=\"sk-toggleable__content\"><pre>GridSearchCV(cv=KFold(n_splits=5, random_state=None, shuffle=True),\n",
       "             estimator=XGBRegressor(base_score=None, booster=None,\n",
       "                                    callbacks=None, colsample_bylevel=None,\n",
       "                                    colsample_bynode=None,\n",
       "                                    colsample_bytree=None,\n",
       "                                    early_stopping_rounds=None,\n",
       "                                    enable_categorical=False, eval_metric=None,\n",
       "                                    gamma=None, gpu_id=None, grow_policy=None,\n",
       "                                    importance_type=None,\n",
       "                                    interaction_constrain...\n",
       "                                    max_depth=None, max_leaves=None,\n",
       "                                    min_child_weight=None, missing=nan,\n",
       "                                    monotone_constraints=None, n_estimators=100,\n",
       "                                    n_jobs=None, num_parallel_tree=None,\n",
       "                                    predictor=None, random_state=None,\n",
       "                                    reg_alpha=None, reg_lambda=None, ...),\n",
       "             n_jobs=-1,\n",
       "             param_grid={&#x27;learning_rate&#x27;: [0.0001, 0.001, 0.01],\n",
       "                         &#x27;max_depth&#x27;: [2, 3, 4, 5, 6],\n",
       "                         &#x27;n_estimators&#x27;: [100, 150, 200, 250, 300]},\n",
       "             scoring=&#x27;r2&#x27;, verbose=1)</pre></div></div></div><div class=\"sk-parallel\"><div class=\"sk-parallel-item\"><div class=\"sk-item\"><div class=\"sk-serial\"><div class=\"sk-item\"><div class=\"sk-estimator sk-toggleable\"><input class=\"sk-toggleable__control sk-hidden--visually\" id=\"c0a17698-1597-4136-a6b6-dba7c27c041b\" type=\"checkbox\" ><label for=\"c0a17698-1597-4136-a6b6-dba7c27c041b\" class=\"sk-toggleable__label sk-toggleable__label-arrow\">XGBRegressor</label><div class=\"sk-toggleable__content\"><pre>XGBRegressor(base_score=None, booster=None, callbacks=None,\n",
       "             colsample_bylevel=None, colsample_bynode=None,\n",
       "             colsample_bytree=None, early_stopping_rounds=None,\n",
       "             enable_categorical=False, eval_metric=None, gamma=None,\n",
       "             gpu_id=None, grow_policy=None, importance_type=None,\n",
       "             interaction_constraints=None, learning_rate=None, max_bin=None,\n",
       "             max_cat_to_onehot=None, max_delta_step=None, max_depth=None,\n",
       "             max_leaves=None, min_child_weight=None, missing=nan,\n",
       "             monotone_constraints=None, n_estimators=100, n_jobs=None,\n",
       "             num_parallel_tree=None, predictor=None, random_state=None,\n",
       "             reg_alpha=None, reg_lambda=None, ...)</pre></div></div></div></div></div></div></div></div></div></div>"
      ],
      "text/plain": [
       "GridSearchCV(cv=KFold(n_splits=5, random_state=None, shuffle=True),\n",
       "             estimator=XGBRegressor(base_score=None, booster=None,\n",
       "                                    callbacks=None, colsample_bylevel=None,\n",
       "                                    colsample_bynode=None,\n",
       "                                    colsample_bytree=None,\n",
       "                                    early_stopping_rounds=None,\n",
       "                                    enable_categorical=False, eval_metric=None,\n",
       "                                    gamma=None, gpu_id=None, grow_policy=None,\n",
       "                                    importance_type=None,\n",
       "                                    interaction_constrain...\n",
       "                                    max_depth=None, max_leaves=None,\n",
       "                                    min_child_weight=None, missing=nan,\n",
       "                                    monotone_constraints=None, n_estimators=100,\n",
       "                                    n_jobs=None, num_parallel_tree=None,\n",
       "                                    predictor=None, random_state=None,\n",
       "                                    reg_alpha=None, reg_lambda=None, ...),\n",
       "             n_jobs=-1,\n",
       "             param_grid={'learning_rate': [0.0001, 0.001, 0.01],\n",
       "                         'max_depth': [2, 3, 4, 5, 6],\n",
       "                         'n_estimators': [100, 150, 200, 250, 300]},\n",
       "             scoring='r2', verbose=1)"
      ]
     },
     "execution_count": 102,
     "metadata": {},
     "output_type": "execute_result"
    }
   ],
   "source": [
    "grid_xg_cv.fit(X_train_scaled, y_train)"
   ]
  },
  {
   "cell_type": "code",
   "execution_count": 104,
   "metadata": {
    "execution": {
     "iopub.execute_input": "2023-01-27T15:31:32.342226Z",
     "iopub.status.busy": "2023-01-27T15:31:32.341769Z",
     "iopub.status.idle": "2023-01-27T15:31:32.367719Z",
     "shell.execute_reply": "2023-01-27T15:31:32.366537Z",
     "shell.execute_reply.started": "2023-01-27T15:31:32.342187Z"
    }
   },
   "outputs": [
    {
     "name": "stdout",
     "output_type": "stream",
     "text": [
      "0.7581927913572275\n",
      "{'learning_rate': 0.01, 'max_depth': 6, 'n_estimators': 300}\n"
     ]
    },
    {
     "data": {
      "text/html": [
       "<style>#sk-ede80cf1-06e5-4051-997b-d5555d23d408 {color: black;background-color: white;}#sk-ede80cf1-06e5-4051-997b-d5555d23d408 pre{padding: 0;}#sk-ede80cf1-06e5-4051-997b-d5555d23d408 div.sk-toggleable {background-color: white;}#sk-ede80cf1-06e5-4051-997b-d5555d23d408 label.sk-toggleable__label {cursor: pointer;display: block;width: 100%;margin-bottom: 0;padding: 0.3em;box-sizing: border-box;text-align: center;}#sk-ede80cf1-06e5-4051-997b-d5555d23d408 label.sk-toggleable__label-arrow:before {content: \"▸\";float: left;margin-right: 0.25em;color: #696969;}#sk-ede80cf1-06e5-4051-997b-d5555d23d408 label.sk-toggleable__label-arrow:hover:before {color: black;}#sk-ede80cf1-06e5-4051-997b-d5555d23d408 div.sk-estimator:hover label.sk-toggleable__label-arrow:before {color: black;}#sk-ede80cf1-06e5-4051-997b-d5555d23d408 div.sk-toggleable__content {max-height: 0;max-width: 0;overflow: hidden;text-align: left;background-color: #f0f8ff;}#sk-ede80cf1-06e5-4051-997b-d5555d23d408 div.sk-toggleable__content pre {margin: 0.2em;color: black;border-radius: 0.25em;background-color: #f0f8ff;}#sk-ede80cf1-06e5-4051-997b-d5555d23d408 input.sk-toggleable__control:checked~div.sk-toggleable__content {max-height: 200px;max-width: 100%;overflow: auto;}#sk-ede80cf1-06e5-4051-997b-d5555d23d408 input.sk-toggleable__control:checked~label.sk-toggleable__label-arrow:before {content: \"▾\";}#sk-ede80cf1-06e5-4051-997b-d5555d23d408 div.sk-estimator input.sk-toggleable__control:checked~label.sk-toggleable__label {background-color: #d4ebff;}#sk-ede80cf1-06e5-4051-997b-d5555d23d408 div.sk-label input.sk-toggleable__control:checked~label.sk-toggleable__label {background-color: #d4ebff;}#sk-ede80cf1-06e5-4051-997b-d5555d23d408 input.sk-hidden--visually {border: 0;clip: rect(1px 1px 1px 1px);clip: rect(1px, 1px, 1px, 1px);height: 1px;margin: -1px;overflow: hidden;padding: 0;position: absolute;width: 1px;}#sk-ede80cf1-06e5-4051-997b-d5555d23d408 div.sk-estimator {font-family: monospace;background-color: #f0f8ff;border: 1px dotted black;border-radius: 0.25em;box-sizing: border-box;margin-bottom: 0.5em;}#sk-ede80cf1-06e5-4051-997b-d5555d23d408 div.sk-estimator:hover {background-color: #d4ebff;}#sk-ede80cf1-06e5-4051-997b-d5555d23d408 div.sk-parallel-item::after {content: \"\";width: 100%;border-bottom: 1px solid gray;flex-grow: 1;}#sk-ede80cf1-06e5-4051-997b-d5555d23d408 div.sk-label:hover label.sk-toggleable__label {background-color: #d4ebff;}#sk-ede80cf1-06e5-4051-997b-d5555d23d408 div.sk-serial::before {content: \"\";position: absolute;border-left: 1px solid gray;box-sizing: border-box;top: 2em;bottom: 0;left: 50%;}#sk-ede80cf1-06e5-4051-997b-d5555d23d408 div.sk-serial {display: flex;flex-direction: column;align-items: center;background-color: white;padding-right: 0.2em;padding-left: 0.2em;}#sk-ede80cf1-06e5-4051-997b-d5555d23d408 div.sk-item {z-index: 1;}#sk-ede80cf1-06e5-4051-997b-d5555d23d408 div.sk-parallel {display: flex;align-items: stretch;justify-content: center;background-color: white;}#sk-ede80cf1-06e5-4051-997b-d5555d23d408 div.sk-parallel::before {content: \"\";position: absolute;border-left: 1px solid gray;box-sizing: border-box;top: 2em;bottom: 0;left: 50%;}#sk-ede80cf1-06e5-4051-997b-d5555d23d408 div.sk-parallel-item {display: flex;flex-direction: column;position: relative;background-color: white;}#sk-ede80cf1-06e5-4051-997b-d5555d23d408 div.sk-parallel-item:first-child::after {align-self: flex-end;width: 50%;}#sk-ede80cf1-06e5-4051-997b-d5555d23d408 div.sk-parallel-item:last-child::after {align-self: flex-start;width: 50%;}#sk-ede80cf1-06e5-4051-997b-d5555d23d408 div.sk-parallel-item:only-child::after {width: 0;}#sk-ede80cf1-06e5-4051-997b-d5555d23d408 div.sk-dashed-wrapped {border: 1px dashed gray;margin: 0 0.4em 0.5em 0.4em;box-sizing: border-box;padding-bottom: 0.4em;background-color: white;position: relative;}#sk-ede80cf1-06e5-4051-997b-d5555d23d408 div.sk-label label {font-family: monospace;font-weight: bold;background-color: white;display: inline-block;line-height: 1.2em;}#sk-ede80cf1-06e5-4051-997b-d5555d23d408 div.sk-label-container {position: relative;z-index: 2;text-align: center;}#sk-ede80cf1-06e5-4051-997b-d5555d23d408 div.sk-container {/* jupyter's `normalize.less` sets `[hidden] { display: none; }` but bootstrap.min.css set `[hidden] { display: none !important; }` so we also need the `!important` here to be able to override the default hidden behavior on the sphinx rendered scikit-learn.org. See: https://github.com/scikit-learn/scikit-learn/issues/21755 */display: inline-block !important;position: relative;}#sk-ede80cf1-06e5-4051-997b-d5555d23d408 div.sk-text-repr-fallback {display: none;}</style><div id=\"sk-ede80cf1-06e5-4051-997b-d5555d23d408\" class=\"sk-top-container\"><div class=\"sk-text-repr-fallback\"><pre>XGBRegressor(base_score=0.5, booster=&#x27;gbtree&#x27;, callbacks=None,\n",
       "             colsample_bylevel=1, colsample_bynode=1, colsample_bytree=1,\n",
       "             early_stopping_rounds=None, enable_categorical=False,\n",
       "             eval_metric=None, gamma=0, gpu_id=-1, grow_policy=&#x27;depthwise&#x27;,\n",
       "             importance_type=None, interaction_constraints=&#x27;&#x27;,\n",
       "             learning_rate=0.01, max_bin=256, max_cat_to_onehot=4,\n",
       "             max_delta_step=0, max_depth=6, max_leaves=0, min_child_weight=1,\n",
       "             missing=nan, monotone_constraints=&#x27;()&#x27;, n_estimators=300, n_jobs=0,\n",
       "             num_parallel_tree=1, predictor=&#x27;auto&#x27;, random_state=0, reg_alpha=0,\n",
       "             reg_lambda=1, ...)</pre><b>Please rerun this cell to show the HTML repr or trust the notebook.</b></div><div class=\"sk-container\" hidden><div class=\"sk-item\"><div class=\"sk-estimator sk-toggleable\"><input class=\"sk-toggleable__control sk-hidden--visually\" id=\"5f6cb7a2-bc95-4580-886d-5747af0257cb\" type=\"checkbox\" checked><label for=\"5f6cb7a2-bc95-4580-886d-5747af0257cb\" class=\"sk-toggleable__label sk-toggleable__label-arrow\">XGBRegressor</label><div class=\"sk-toggleable__content\"><pre>XGBRegressor(base_score=0.5, booster=&#x27;gbtree&#x27;, callbacks=None,\n",
       "             colsample_bylevel=1, colsample_bynode=1, colsample_bytree=1,\n",
       "             early_stopping_rounds=None, enable_categorical=False,\n",
       "             eval_metric=None, gamma=0, gpu_id=-1, grow_policy=&#x27;depthwise&#x27;,\n",
       "             importance_type=None, interaction_constraints=&#x27;&#x27;,\n",
       "             learning_rate=0.01, max_bin=256, max_cat_to_onehot=4,\n",
       "             max_delta_step=0, max_depth=6, max_leaves=0, min_child_weight=1,\n",
       "             missing=nan, monotone_constraints=&#x27;()&#x27;, n_estimators=300, n_jobs=0,\n",
       "             num_parallel_tree=1, predictor=&#x27;auto&#x27;, random_state=0, reg_alpha=0,\n",
       "             reg_lambda=1, ...)</pre></div></div></div></div></div>"
      ],
      "text/plain": [
       "XGBRegressor(base_score=0.5, booster='gbtree', callbacks=None,\n",
       "             colsample_bylevel=1, colsample_bynode=1, colsample_bytree=1,\n",
       "             early_stopping_rounds=None, enable_categorical=False,\n",
       "             eval_metric=None, gamma=0, gpu_id=-1, grow_policy='depthwise',\n",
       "             importance_type=None, interaction_constraints='',\n",
       "             learning_rate=0.01, max_bin=256, max_cat_to_onehot=4,\n",
       "             max_delta_step=0, max_depth=6, max_leaves=0, min_child_weight=1,\n",
       "             missing=nan, monotone_constraints='()', n_estimators=300, n_jobs=0,\n",
       "             num_parallel_tree=1, predictor='auto', random_state=0, reg_alpha=0,\n",
       "             reg_lambda=1, ...)"
      ]
     },
     "execution_count": 104,
     "metadata": {},
     "output_type": "execute_result"
    }
   ],
   "source": [
    "print(grid_xg_cv.best_score_)\n",
    "print(grid_xg_cv.best_params_)\n",
    "grid_xg_cv.best_estimator_"
   ]
  },
  {
   "cell_type": "markdown",
   "metadata": {},
   "source": [
    "__Train the model with best parameter obtain from tunning__"
   ]
  },
  {
   "cell_type": "code",
   "execution_count": 105,
   "metadata": {
    "execution": {
     "iopub.execute_input": "2023-01-27T15:32:57.520537Z",
     "iopub.status.busy": "2023-01-27T15:32:57.520082Z",
     "iopub.status.idle": "2023-01-27T15:33:00.707679Z",
     "shell.execute_reply": "2023-01-27T15:33:00.706680Z",
     "shell.execute_reply.started": "2023-01-27T15:32:57.520498Z"
    }
   },
   "outputs": [],
   "source": [
    "xg_model_new = XGBRegressor(learning_rate = 0.01, max_depth = 6, n_estimators = 300)\n",
    "xg_model_new.fit(X_train_scaled, y_train)\n",
    "\n",
    "y_pred_xg_train = xg_model_new.predict(X_train_scaled)\n",
    "y_pred_xg_test = xg_model_new.predict(X_test_scaled)"
   ]
  },
  {
   "cell_type": "code",
   "execution_count": 106,
   "metadata": {
    "execution": {
     "iopub.execute_input": "2023-01-27T15:33:10.683502Z",
     "iopub.status.busy": "2023-01-27T15:33:10.683064Z",
     "iopub.status.idle": "2023-01-27T15:33:10.693450Z",
     "shell.execute_reply": "2023-01-27T15:33:10.692391Z",
     "shell.execute_reply.started": "2023-01-27T15:33:10.683467Z"
    }
   },
   "outputs": [
    {
     "name": "stdout",
     "output_type": "stream",
     "text": [
      "Train:\n",
      "MAE : 1395.4295683582322\n",
      "R2 score : 0.8050258365576314\n",
      "--------------------------------------------------\n",
      "Test:\n",
      "MAE : 1457.6783339304516\n",
      "R2 score : 0.7784390780886115\n"
     ]
    }
   ],
   "source": [
    "print(\"Train:\")\n",
    "print(f\"MAE : {mean_absolute_error(y_train, y_pred_xg_train)}\")\n",
    "print(f\"R2 score : {r2_score(y_train, y_pred_xg_train)}\")\n",
    "print(\"-\"*50)\n",
    "print(\"Test:\")\n",
    "print(f\"MAE : {mean_absolute_error(y_test, y_pred_xg_test)}\")\n",
    "print(f\"R2 score : {r2_score(y_test, y_pred_xg_test)}\")"
   ]
  },
  {
   "cell_type": "code",
   "execution_count": 109,
   "metadata": {
    "execution": {
     "iopub.execute_input": "2023-01-27T15:39:23.107865Z",
     "iopub.status.busy": "2023-01-27T15:39:23.107412Z",
     "iopub.status.idle": "2023-01-27T15:39:23.422446Z",
     "shell.execute_reply": "2023-01-27T15:39:23.421016Z",
     "shell.execute_reply.started": "2023-01-27T15:39:23.107829Z"
    }
   },
   "outputs": [
    {
     "data": {
      "image/png": "[encoded data removed]",
      "text/plain": [
       "<Figure size 432x288 with 1 Axes>"
      ]
     },
     "metadata": {},
     "output_type": "display_data"
    }
   ],
   "source": [
    "sns.scatterplot(y_test, y_pred_xg_test)\n",
    "plt.xlabel(\"Actual prices\")\n",
    "plt.ylabel(\"Predicted prices\")\n",
    "plt.title(\"XGBoost\")\n",
    "plt.show()"
   ]
  },
  {
   "cell_type": "code",
   "execution_count": 107,
   "metadata": {
    "execution": {
     "iopub.execute_input": "2023-01-27T15:33:50.780450Z",
     "iopub.status.busy": "2023-01-27T15:33:50.779998Z",
     "iopub.status.idle": "2023-01-27T15:34:02.767594Z",
     "shell.execute_reply": "2023-01-27T15:34:02.766511Z",
     "shell.execute_reply.started": "2023-01-27T15:33:50.780413Z"
    }
   },
   "outputs": [],
   "source": [
    "xg_cross_scores = cross_val_score(XGBRegressor(learning_rate = 0.01, max_depth = 6, n_estimators = 300), \n",
    "                                  X_train_scaled, y_train, cv = 5, scoring = \"r2\", n_jobs = -1)"
   ]
  },
  {
   "cell_type": "code",
   "execution_count": 108,
   "metadata": {
    "execution": {
     "iopub.execute_input": "2023-01-27T15:34:07.218787Z",
     "iopub.status.busy": "2023-01-27T15:34:07.218323Z",
     "iopub.status.idle": "2023-01-27T15:34:07.225650Z",
     "shell.execute_reply": "2023-01-27T15:34:07.224430Z",
     "shell.execute_reply.started": "2023-01-27T15:34:07.218752Z"
    }
   },
   "outputs": [
    {
     "name": "stdout",
     "output_type": "stream",
     "text": [
      "[0.78029782 0.73288495 0.76659443 0.7276243  0.79181803]\n",
      "0.7598439067509786\n",
      "0.025499668216085042\n"
     ]
    }
   ],
   "source": [
    "print(xg_cross_scores)\n",
    "print(np.mean(xg_cross_scores))\n",
    "print(np.std(xg_cross_scores))"
   ]
  },
  {
   "cell_type": "markdown",
   "metadata": {},
   "source": [
    "## From the scores that we are getting, Xgboost is giving more generalised model than RandomForest. But RandomForest is giving less error than XGBoost. Hence we choose RandomForest for our model predictions."
   ]
  },
  {
   "cell_type": "markdown",
   "metadata": {},
   "source": [
    "<b>\n",
    "<h2>RandomForest</h2>\n",
    "Train:<br>\n",
    "MAE : 895.3702035987958<br>\n",
    "R2 score : 0.8948048968757772<br>\n",
    "\n",
    "Test:<br>\n",
    "MAE : 1165.7588723501783<br>\n",
    "R2 score : 0.8314001217062108<br>\n",
    "    \n",
    "<hr>\n",
    "    \n",
    "<h2>XGBoost</h2>\n",
    "Train:<br>\n",
    "MAE : 1395.4295683582322<br>\n",
    "R2 score : 0.8050258365576314<br>\n",
    "\n",
    "Test:<br>\n",
    "MAE : 1457.6783339304516<br>\n",
    "R2 score : 0.7784390780886115<br>\n",
    "</b>"
   ]
  },
  {
   "cell_type": "markdown",
   "metadata": {},
   "source": [
    "____________________________"
   ]
  },
  {
   "cell_type": "markdown",
   "metadata": {},
   "source": [
    "## Exporting the necessary model in the form of pickle file for our test predictions"
   ]
  },
  {
   "cell_type": "code",
   "execution_count": 4,
   "metadata": {
    "execution": {
     "iopub.execute_input": "2023-01-28T12:10:06.660761Z",
     "iopub.status.busy": "2023-01-28T12:10:06.660363Z",
     "iopub.status.idle": "2023-01-28T12:10:06.666166Z",
     "shell.execute_reply": "2023-01-28T12:10:06.664715Z",
     "shell.execute_reply.started": "2023-01-28T12:10:06.660730Z"
    }
   },
   "outputs": [],
   "source": [
    "import pickle\n",
    "\n",
    "#-------------Standard Scaling------------------------\n",
    "\n",
    "# with open(\"StandardScaler.pkl\", \"wb\") as f:\n",
    "#     pickle.dump(scaler, f)\n",
    "\n",
    "#-------------RandomForest Model------------------------\n",
    "\n",
    "# with open(\"RandomForest.pkl\", \"wb\") as f:\n",
    "#     pickle.dump(rf_model, f)\n",
    "\n",
    "#-------------XGBoost Model------------------------\n",
    "\n",
    "# with open(\"XGBoost.pkl\", \"wb\") as f:\n",
    "#     pickle.dump(xg_model_new, f)"
   ]
  },
  {
   "cell_type": "markdown",
   "metadata": {},
   "source": [
    "__List of all saved pickle files__"
   ]
  },
  {
   "cell_type": "code",
   "execution_count": 2,
   "metadata": {
    "execution": {
     "iopub.execute_input": "2023-01-28T12:09:36.509402Z",
     "iopub.status.busy": "2023-01-28T12:09:36.509045Z",
     "iopub.status.idle": "2023-01-28T12:09:36.529941Z",
     "shell.execute_reply": "2023-01-28T12:09:36.528661Z",
     "shell.execute_reply.started": "2023-01-28T12:09:36.509372Z"
    },
    "scrolled": true
   },
   "outputs": [
    {
     "name": "stdout",
     "output_type": "stream",
     "text": [
      "/kaggle/input/flight-pred/Flight_Fare.xlsx\n",
      "/kaggle/input/pickle-file/XGBoost.pkl\n",
      "/kaggle/input/pickle-file/RandomForest.pkl\n",
      "/kaggle/input/pickle-file/StandardScaler.pkl\n"
     ]
    }
   ],
   "source": [
    "import os\n",
    "for dirname, _, filenames in os.walk('/kaggle/input'):\n",
    "    for filename in filenames:\n",
    "        print(os.path.join(dirname, filename))"
   ]
  },
  {
   "cell_type": "markdown",
   "metadata": {},
   "source": [
    "# Creating a simple application for prediction"
   ]
  },
  {
   "cell_type": "code",
   "execution_count": 5,
   "metadata": {
    "execution": {
     "iopub.execute_input": "2023-01-28T12:10:16.067780Z",
     "iopub.status.busy": "2023-01-28T12:10:16.067393Z",
     "iopub.status.idle": "2023-01-28T12:10:17.268159Z",
     "shell.execute_reply": "2023-01-28T12:10:17.266742Z",
     "shell.execute_reply.started": "2023-01-28T12:10:16.067747Z"
    }
   },
   "outputs": [],
   "source": [
    "#---------------Load the model from a directory----------------\n",
    "with open(\"/kaggle/input/pickle-file/StandardScaler.pkl\", \"rb\") as f:\n",
    "    scaler_object = pickle.load(f)\n",
    "    \n",
    "with open(\"/kaggle/input/pickle-file/XGBoost.pkl\", \"rb\") as f:\n",
    "    xgb_model = pickle.load(f)\n",
    "    \n",
    "with open(\"/kaggle/input/pickle-file/RandomForest.pkl\", \"rb\") as f:\n",
    "    randomf_model = pickle.load(f)"
   ]
  },
  {
   "cell_type": "markdown",
   "metadata": {},
   "source": [
    "### Defining a function which will take user data and predict the price"
   ]
  },
  {
   "cell_type": "code",
   "execution_count": 36,
   "metadata": {
    "execution": {
     "iopub.execute_input": "2023-01-28T13:41:14.997633Z",
     "iopub.status.busy": "2023-01-28T13:41:14.997262Z",
     "iopub.status.idle": "2023-01-28T13:41:15.023040Z",
     "shell.execute_reply": "2023-01-28T13:41:15.021046Z",
     "shell.execute_reply.started": "2023-01-28T13:41:14.997583Z"
    }
   },
   "outputs": [],
   "source": [
    "def predict_flight_fare():\n",
    "    \"\"\"\n",
    "    This function return the predicted price of the flight.\n",
    "    \n",
    "    Returns:\n",
    "        int or float: The price of the flight.\n",
    "    \"\"\"\n",
    "    \n",
    "    journey_date = pd.to_datetime(input(\"Enter Journey Date (dd/mm/yyyy) :\"))\n",
    "    departure_time = pd.to_datetime(input(\"Enter Departure Time (HH:MM) :\"))\n",
    "    arrival_time = pd.to_datetime(input(\"Enter Arrival Time (HH:MM) :\"))\n",
    "    to_ = input('To (Delhi, Bangalore, Cochin, Kolkata, Hyderabad):')\n",
    "    from_ = input('From (Delhi, Bangalore, Chennai, Kolkata, Mumbai):')\n",
    "    stops = int(input(\"Enter no. of stops\"))\n",
    "    airline = input(\"\"\"Prefered Airlines ('IndiGo','Air India','Jet Airways','SpiceJet','Multiple carriers','GoAir','Vistara',\n",
    "                    'Air Asia','Vistara Premium economy','Jet Airways Business','Multiple carriers Premium economy','Trujet'):\"\"\")\n",
    "    journey_day = journey_date.day\n",
    "    journey_month = journey_date.month\n",
    "        \n",
    "    dep_hour = departure_time.hour\n",
    "    dep_minute = departure_time.minute\n",
    "    arrival_hour = arrival_time.hour\n",
    "    arrival_minute = arrival_time.minute\n",
    "    \n",
    "    duration_hour = abs(dep_hour - arrival_hour)\n",
    "    duration_minute = abs(dep_minute - arrival_minute)\n",
    "    \n",
    "    #--------------Encoding Source----------------\n",
    "    if from_ == \"Delhi\":\n",
    "        Source_Delhi   = 1\n",
    "        Source_Chennai = 0\n",
    "        Source_Kolkata = 0\n",
    "        Source_Mumbai  = 0\n",
    "    elif from_ == \"Chennai\":\n",
    "        Source_Delhi   = 0\n",
    "        Source_Chennai = 1\n",
    "        Source_Kolkata = 0\n",
    "        Source_Mumbai  = 0\n",
    "    elif from_ == \"Kolkata\":\n",
    "        Source_Delhi   = 0\n",
    "        Source_Chennai = 0\n",
    "        Source_Kolkata = 1\n",
    "        Source_Mumbai  = 0\n",
    "    elif from_ == \"Mumbai\":\n",
    "        Source_Delhi   = 0\n",
    "        Source_Chennai = 0\n",
    "        Source_Kolkata = 0\n",
    "        Source_Mumbai  = 1\n",
    "    else:\n",
    "        Source_Delhi   = 0\n",
    "        Source_Chennai = 0\n",
    "        Source_Kolkata = 0\n",
    "        Source_Mumbai  = 0\n",
    "        \n",
    "    #--------------Encoding Destination----------------\n",
    "    if to_ == \"Cochin\":\n",
    "        Destination_Cochin    = 1\n",
    "        Destination_Delhi     = 0\n",
    "        Destination_Hyderabad = 0\n",
    "        Destination_Kolkata   = 0\n",
    "    elif to_ == \"Delhi\":\n",
    "        Destination_Cochin    = 0\n",
    "        Destination_Delhi     = 1\n",
    "        Destination_Hyderabad = 0\n",
    "        Destination_Kolkata   = 0\n",
    "    elif to_ == \"Hyderabad\":\n",
    "        Destination_Cochin    = 0\n",
    "        Destination_Delhi     = 0\n",
    "        Destination_Hyderabad = 1\n",
    "        Destination_Kolkata   = 0\n",
    "    elif to_ == \"Kolkata\":\n",
    "        Destination_Cochin    = 0\n",
    "        Destination_Delhi     = 0\n",
    "        Destination_Hyderabad = 0\n",
    "        Destination_Kolkata   = 1\n",
    "    else:\n",
    "        Destination_Cochin    = 0\n",
    "        Destination_Delhi     = 0\n",
    "        Destination_Hyderabad = 0\n",
    "        Destination_Kolkata   = 0\n",
    "    \n",
    "    #--------------Encoding Airline----------------\n",
    "    \n",
    "    if airline == \"GoAir\":\n",
    "        Airline_GoAir                          = 1\n",
    "        Airline_AirIndia                       = 0\n",
    "        Airline_IndiGo                         = 0\n",
    "        Airline_JetAirways                     = 0\n",
    "        Airline_MultipleCarriers               = 0\n",
    "        Airline_MultipleCarriersPremiumEconomy = 0\n",
    "        Airline_SpiceJet                       = 0\n",
    "        Airline_Vistara                        = 0\n",
    "        Airline_Other                          = 0\n",
    "    elif airline == \"Air India\":\n",
    "        Airline_GoAir                          = 0\n",
    "        Airline_AirIndia                       = 1\n",
    "        Airline_IndiGo                         = 0\n",
    "        Airline_JetAirways                     = 0\n",
    "        Airline_MultipleCarriers               = 0\n",
    "        Airline_MultipleCarriersPremiumEconomy = 0\n",
    "        Airline_SpiceJet                       = 0\n",
    "        Airline_Vistara                        = 0\n",
    "        Airline_Other                          = 0\n",
    "    elif airline == \"IndiGo\":\n",
    "        Airline_GoAir                          = 0\n",
    "        Airline_AirIndia                       = 0\n",
    "        Airline_IndiGo                         = 1\n",
    "        Airline_JetAirways                     = 0\n",
    "        Airline_MultipleCarriers               = 0\n",
    "        Airline_MultipleCarriersPremiumEconomy = 0\n",
    "        Airline_SpiceJet                       = 0\n",
    "        Airline_Vistara                        = 0\n",
    "        Airline_Other                          = 0\n",
    "    elif airline == \"Jet Airways\":\n",
    "        Airline_GoAir                          = 0\n",
    "        Airline_AirIndia                       = 0\n",
    "        Airline_IndiGo                         = 0\n",
    "        Airline_JetAirways                     = 1\n",
    "        Airline_MultipleCarriers               = 0\n",
    "        Airline_MultipleCarriersPremiumEconomy = 0\n",
    "        Airline_SpiceJet                       = 0\n",
    "        Airline_Vistara                        = 0\n",
    "        Airline_Other                          = 0\n",
    "    elif airline == \"Multiple carriers\":\n",
    "        Airline_GoAir                          = 0\n",
    "        Airline_AirIndia                       = 0\n",
    "        Airline_IndiGo                         = 0\n",
    "        Airline_JetAirways                     = 0\n",
    "        Airline_MultipleCarriers               = 1\n",
    "        Airline_MultipleCarriersPremiumEconomy = 0\n",
    "        Airline_SpiceJet                       = 0\n",
    "        Airline_Vistara                        = 0\n",
    "        Airline_Other                          = 0\n",
    "    elif airline == \"Multiple carriers Premium economy\":\n",
    "        Airline_GoAir                          = 0\n",
    "        Airline_AirIndia                       = 0\n",
    "        Airline_IndiGo                         = 0\n",
    "        Airline_JetAirways                     = 0\n",
    "        Airline_MultipleCarriers               = 0\n",
    "        Airline_MultipleCarriersPremiumEconomy = 1\n",
    "        Airline_SpiceJet                       = 0\n",
    "        Airline_Vistara                        = 0\n",
    "        Airline_Other                          = 0\n",
    "    elif airline == \"SpiceJet\":\n",
    "        Airline_GoAir                          = 0\n",
    "        Airline_AirIndia                       = 0\n",
    "        Airline_IndiGo                         = 0\n",
    "        Airline_JetAirways                     = 0\n",
    "        Airline_MultipleCarriers               = 0\n",
    "        Airline_MultipleCarriersPremiumEconomy = 0\n",
    "        Airline_SpiceJet                       = 1\n",
    "        Airline_Vistara                        = 0\n",
    "        Airline_Other                          = 0\n",
    "    elif airline == \"Vistara\":\n",
    "        Airline_GoAir                          = 0\n",
    "        Airline_AirIndia                       = 0\n",
    "        Airline_IndiGo                         = 0\n",
    "        Airline_JetAirways                     = 0\n",
    "        Airline_MultipleCarriers               = 0\n",
    "        Airline_MultipleCarriersPremiumEconomy = 0\n",
    "        Airline_SpiceJet                       = 0\n",
    "        Airline_Vistara                        = 1\n",
    "        Airline_Other                          = 0\n",
    "    elif (airline == \"Jet Airways Business\" or airline == \"Vistara Premium economy\" or airline == \"Trujet\"):\n",
    "        Airline_GoAir                          = 0\n",
    "        Airline_AirIndia                       = 0\n",
    "        Airline_IndiGo                         = 0\n",
    "        Airline_JetAirways                     = 0\n",
    "        Airline_MultipleCarriers               = 0\n",
    "        Airline_MultipleCarriersPremiumEconomy = 0\n",
    "        Airline_SpiceJet                       = 0\n",
    "        Airline_Vistara                        = 0\n",
    "        Airline_Other                          = 1\n",
    "    else:\n",
    "        Airline_GoAir                          = 0\n",
    "        Airline_AirIndia                       = 0\n",
    "        Airline_IndiGo                         = 0\n",
    "        Airline_JetAirways                     = 0\n",
    "        Airline_MultipleCarriers               = 0\n",
    "        Airline_MultipleCarriersPremiumEconomy = 0\n",
    "        Airline_SpiceJet                       = 0\n",
    "        Airline_Vistara                        = 0\n",
    "        Airline_Other                          = 0\n",
    "        \n",
    "    #---------------------Creating list from the user data----------------------------\n",
    "    #data_val = [dep_hour, dep_minute, arrival_hour, arrival_minute, from_, to_, stops, airline, duration_hour, duration_minute]\n",
    "    user_data = [\n",
    "        stops, journey_day, journey_month, dep_hour, dep_minute, arrival_hour, arrival_minute,\n",
    "        duration_hour, duration_minute,\n",
    "        Airline_AirIndia, Airline_GoAir, Airline_IndiGo, Airline_JetAirways, Airline_MultipleCarriers, Airline_MultipleCarriersPremiumEconomy,\n",
    "        Airline_Other, Airline_SpiceJet, Airline_Vistara,\n",
    "        Destination_Cochin, Destination_Delhi, Destination_Hyderabad, Destination_Kolkata,\n",
    "        Source_Chennai, Source_Delhi, Source_Kolkata, Source_Mumbai\n",
    "    ]\n",
    "    \n",
    "    #--------------------------Scaling the list data---------------------------------\n",
    "    user_data_scaled = scaler_object.transform([user_data])\n",
    "    \n",
    "    #--------------------------Predicting the price using our trained model------------------------------\n",
    "    predicted_price = randomf_model.predict(user_data_scaled)\n",
    "    \n",
    "    #-------------Printing the message with predicted price------------------------\n",
    "    msg = f\"Fare will be Rs.{round(predicted_price[0], 2)}\"\n",
    "    print(f\"\\n\\n{msg}\")"
   ]
  },
  {
   "cell_type": "code",
   "execution_count": 37,
   "metadata": {
    "execution": {
     "iopub.execute_input": "2023-01-28T13:41:17.417733Z",
     "iopub.status.busy": "2023-01-28T13:41:17.417300Z",
     "iopub.status.idle": "2023-01-28T13:41:39.566716Z",
     "shell.execute_reply": "2023-01-28T13:41:39.565756Z",
     "shell.execute_reply.started": "2023-01-28T13:41:17.417701Z"
    }
   },
   "outputs": [
    {
     "name": "stdin",
     "output_type": "stream",
     "text": [
      "Enter Journey Date (dd/mm/yyyy) : 29/01/2023\n",
      "Enter Departure Time (HH:MM) : 10:15\n",
      "Enter Arrival Time (HH:MM) : 12:15\n",
      "To (Delhi, Bangalore, Cochin, Kolkata, Hyderabad): Delhi\n",
      "From (Delhi, Bangalore, Chennai, Kolkata, Mumbai): Kolkata\n",
      "Enter no. of stops 1\n",
      "Prefered Airlines ('IndiGo','Air India','Jet Airways','SpiceJet','Multiple carriers','GoAir','Vistara',\n",
      "                    'Air Asia','Vistara Premium economy','Jet Airways Business','Multiple carriers Premium economy','Trujet'): SpiceJet\n"
     ]
    },
    {
     "name": "stdout",
     "output_type": "stream",
     "text": [
      "\n",
      "\n",
      "Fare will be Rs.5171.96\n"
     ]
    }
   ],
   "source": [
    "predict_flight_fare()"
   ]
  },
  {
   "cell_type": "code",
   "execution_count": 38,
   "metadata": {
    "execution": {
     "iopub.execute_input": "2023-01-28T13:43:26.397356Z",
     "iopub.status.busy": "2023-01-28T13:43:26.397011Z",
     "iopub.status.idle": "2023-01-28T13:45:17.932344Z",
     "shell.execute_reply": "2023-01-28T13:45:17.931339Z",
     "shell.execute_reply.started": "2023-01-28T13:43:26.397328Z"
    }
   },
   "outputs": [
    {
     "name": "stdin",
     "output_type": "stream",
     "text": [
      "Enter Journey Date (dd/mm/yyyy) : 20/03/2023\n",
      "Enter Departure Time (HH:MM) : 11:22\n",
      "Enter Arrival Time (HH:MM) : 13:20\n",
      "To (Delhi, Bangalore, Cochin, Kolkata, Hyderabad): Kolkata\n",
      "From (Delhi, Bangalore, Chennai, Kolkata, Mumbai): Mumbai\n",
      "Enter no. of stops 2\n",
      "Prefered Airlines ('IndiGo','Air India','Jet Airways','SpiceJet','Multiple carriers','GoAir','Vistara',\n",
      "                    'Air Asia','Vistara Premium economy','Jet Airways Business','Multiple carriers Premium economy','Trujet'): IndiGo\n"
     ]
    },
    {
     "name": "stdout",
     "output_type": "stream",
     "text": [
      "\n",
      "\n",
      "Fare will be Rs.5385.78\n"
     ]
    }
   ],
   "source": [
    "predict_flight_fare()"
   ]
  },
  {
   "cell_type": "markdown",
   "metadata": {},
   "source": [
    "## Conclusion:\n",
    "#### We have choose RandomForest for predicting the flight fare"
   ]
  },
  {
   "cell_type": "code",
   "execution_count": null,
   "metadata": {},
   "outputs": [],
   "source": []
  },
  {
   "cell_type": "code",
   "execution_count": null,
   "metadata": {},
   "outputs": [],
   "source": []
  },
  {
   "cell_type": "code",
   "execution_count": null,
   "metadata": {},
   "outputs": [],
   "source": []
  }
 ],
 "metadata": {
  "kernelspec": {
   "display_name": "Python 3 (ipykernel)",
   "language": "python",
   "name": "python3"
  },
  "language_info": {
   "codemirror_mode": {
    "name": "ipython",
    "version": 3
   },
   "file_extension": ".py",
   "mimetype": "text/x-python",
   "name": "python",
   "nbconvert_exporter": "python",
   "pygments_lexer": "ipython3",
   "version": "3.9.12"
  }
 },
 "nbformat": 4,
 "nbformat_minor": 4
}
